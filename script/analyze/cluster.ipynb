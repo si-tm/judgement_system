{
 "cells": [
  {
   "attachments": {},
   "cell_type": "markdown",
   "metadata": {},
   "source": [
    "L*_data_4.pklのdeviationをk-means法でclusteringしてみる"
   ]
  },
  {
   "cell_type": "code",
   "execution_count": 24,
   "metadata": {},
   "outputs": [],
   "source": [
    "import pandas as pd\n",
    "import numpy as np\n",
    "import matplotlib.pyplot as plt\n",
    "from sklearn import datasets\n",
    "import pickle"
   ]
  },
  {
   "cell_type": "code",
   "execution_count": 38,
   "metadata": {},
   "outputs": [
    {
     "data": {
      "text/html": [
       "<div>\n",
       "<style scoped>\n",
       "    .dataframe tbody tr th:only-of-type {\n",
       "        vertical-align: middle;\n",
       "    }\n",
       "\n",
       "    .dataframe tbody tr th {\n",
       "        vertical-align: top;\n",
       "    }\n",
       "\n",
       "    .dataframe thead th {\n",
       "        text-align: right;\n",
       "    }\n",
       "</style>\n",
       "<table border=\"1\" class=\"dataframe\">\n",
       "  <thead>\n",
       "    <tr style=\"text-align: right;\">\n",
       "      <th></th>\n",
       "      <th>../input/results/oxdna_random_6/L1/d-3-6-11-12-13/L1_d-3-6-11-12-13_2023-01-27-133719/L1_d-3-6-11-12-13_2023-01-27-133719/</th>\n",
       "      <th>../input/results/oxdna_random_6/L1/d-0-7-9-12-13-15/L1_d-0-7-9-12-13-15_2023-01-27-081137/L1_d-0-7-9-12-13-15_2023-01-27-081137/</th>\n",
       "      <th>../input/results/oxdna_random_6/L1/d-2-5-9-12-15/L1_d-2-5-9-12-15_2023-01-30-184311/L1_d-2-5-9-12-15_2023-01-30-184311/</th>\n",
       "      <th>../input/results/oxdna_random_6/L1/d-1-5-7-8-12-14/L1_d-1-5-7-8-12-14_2023-01-30-031106/L1_d-1-5-7-8-12-14_2023-01-30-031106/</th>\n",
       "      <th>../input/results/oxdna_random_6/L1/d-3-5-6-8-10/L1_d-3-5-6-8-10_2023-01-29-183216/L1_d-3-5-6-8-10_2023-01-29-183216/</th>\n",
       "      <th>../input/results/oxdna_random_6/L1/d-0-2-4-11/L1_d-0-2-4-11_2023-01-30-055316/L1_d-0-2-4-11_2023-01-30-055316/</th>\n",
       "      <th>../input/results/oxdna_random_6/L1/d-5-7-13-15/L1_d-5-7-13-15_2023-01-30-071758/L1_d-5-7-13-15_2023-01-30-071758/</th>\n",
       "      <th>../input/results/oxdna_random_6/L1/d-4-15/L1_d-4-15_2023-01-30-142124/L1_d-4-15_2023-01-30-142124/</th>\n",
       "      <th>../input/results/oxdna_random_6/L1/d-4-15/L1_d-4-15_2023-01-28-030837/L1_d-4-15_2023-01-28-030837/</th>\n",
       "      <th>../input/results/oxdna_random_6/L1/d-1-2-8-9-15/L1_d-1-2-8-9-15_2023-01-30-092907/L1_d-1-2-8-9-15_2023-01-30-092907/</th>\n",
       "      <th>...</th>\n",
       "      <th>../input/results/oxdna_random_6/L1/d-4-8-9-11-12-14/L1_d-4-8-9-11-12-14_2023-01-28-131248/L1_d-4-8-9-11-12-14_2023-01-28-131248/</th>\n",
       "      <th>../input/results/oxdna_random_6/L1/d-0-2-4-7-9-13/L1_d-0-2-4-7-9-13_2023-01-28-142321/L1_d-0-2-4-7-9-13_2023-01-28-142321/</th>\n",
       "      <th>../input/results/oxdna_random_6/L1/d-3-5-9-15/L1_d-3-5-9-15_2023-01-27-184252/L1_d-3-5-9-15_2023-01-27-184252/</th>\n",
       "      <th>../input/results/oxdna_random_6/L1/d-0-2-9/L1_d-0-2-9_2023-01-30-120033/L1_d-0-2-9_2023-01-30-120033/</th>\n",
       "      <th>../input/results/oxdna_random_6/L1/d-4-6-13/L1_d-4-6-13_2023-01-30-065835/L1_d-4-6-13_2023-01-30-065835/</th>\n",
       "      <th>../input/results/oxdna_random_6/L1/d-1-3-6-12/L1_d-1-3-6-12_2023-01-27-133623/L1_d-1-3-6-12_2023-01-27-133623/</th>\n",
       "      <th>../input/results/oxdna_random_6/L1/d-0-5-8-10/L1_d-0-5-8-10_2023-01-27-122849/L1_d-0-5-8-10_2023-01-27-122849/</th>\n",
       "      <th>../input/results/oxdna_random_6/L1/d-0-1-8-15/L1_d-0-1-8-15_2023-01-30-054037/L1_d-0-1-8-15_2023-01-30-054037/</th>\n",
       "      <th>../input/results/oxdna_random_6/L1/d-3-8-9-11-12-14/L1_d-3-8-9-11-12-14_2023-01-27-192303/L1_d-3-8-9-11-12-14_2023-01-27-192303/</th>\n",
       "      <th>../input/results/oxdna_random_6/L1/d-0-3-4-7-9-14/L1_d-0-3-4-7-9-14_2023-01-26-025420/L1_d-0-3-4-7-9-14_2023-01-26-025420/</th>\n",
       "    </tr>\n",
       "  </thead>\n",
       "  <tbody>\n",
       "    <tr>\n",
       "      <th>ratio_of_volume</th>\n",
       "      <td>1.000000</td>\n",
       "      <td>1.000000</td>\n",
       "      <td>1.000000</td>\n",
       "      <td>1.000000</td>\n",
       "      <td>1.000000</td>\n",
       "      <td>1.000000</td>\n",
       "      <td>1.000000</td>\n",
       "      <td>1.000000</td>\n",
       "      <td>1.000000</td>\n",
       "      <td>1.000000</td>\n",
       "      <td>...</td>\n",
       "      <td>1.000000</td>\n",
       "      <td>1.000000</td>\n",
       "      <td>1.000000</td>\n",
       "      <td>1.000000</td>\n",
       "      <td>1.000000</td>\n",
       "      <td>1.000000</td>\n",
       "      <td>1.000000</td>\n",
       "      <td>1.000000</td>\n",
       "      <td>1.000000</td>\n",
       "      <td>1.000000</td>\n",
       "    </tr>\n",
       "    <tr>\n",
       "      <th>mean_volume</th>\n",
       "      <td>8.810588</td>\n",
       "      <td>8.927824</td>\n",
       "      <td>9.192065</td>\n",
       "      <td>9.126593</td>\n",
       "      <td>8.871402</td>\n",
       "      <td>7.337195</td>\n",
       "      <td>8.179115</td>\n",
       "      <td>8.325877</td>\n",
       "      <td>8.271747</td>\n",
       "      <td>8.611379</td>\n",
       "      <td>...</td>\n",
       "      <td>8.821022</td>\n",
       "      <td>8.737941</td>\n",
       "      <td>9.246634</td>\n",
       "      <td>8.631647</td>\n",
       "      <td>7.637714</td>\n",
       "      <td>8.771796</td>\n",
       "      <td>8.860100</td>\n",
       "      <td>8.666152</td>\n",
       "      <td>8.325148</td>\n",
       "      <td>8.852102</td>\n",
       "    </tr>\n",
       "    <tr>\n",
       "      <th>deviation_of_volume</th>\n",
       "      <td>14.430870</td>\n",
       "      <td>17.318102</td>\n",
       "      <td>14.430870</td>\n",
       "      <td>17.318102</td>\n",
       "      <td>14.430870</td>\n",
       "      <td>11.543396</td>\n",
       "      <td>11.543396</td>\n",
       "      <td>5.766281</td>\n",
       "      <td>5.766281</td>\n",
       "      <td>14.430870</td>\n",
       "      <td>...</td>\n",
       "      <td>17.318102</td>\n",
       "      <td>17.318102</td>\n",
       "      <td>11.543396</td>\n",
       "      <td>8.655441</td>\n",
       "      <td>8.655441</td>\n",
       "      <td>11.543396</td>\n",
       "      <td>11.543396</td>\n",
       "      <td>11.543396</td>\n",
       "      <td>17.318102</td>\n",
       "      <td>17.318102</td>\n",
       "    </tr>\n",
       "  </tbody>\n",
       "</table>\n",
       "<p>3 rows × 1222 columns</p>\n",
       "</div>"
      ],
      "text/plain": [
       "                     ../input/results/oxdna_random_6/L1/d-3-6-11-12-13/L1_d-3-6-11-12-13_2023-01-27-133719/L1_d-3-6-11-12-13_2023-01-27-133719/   \n",
       "ratio_of_volume                                               1.000000                                                                           \\\n",
       "mean_volume                                                   8.810588                                                                            \n",
       "deviation_of_volume                                          14.430870                                                                            \n",
       "\n",
       "                     ../input/results/oxdna_random_6/L1/d-0-7-9-12-13-15/L1_d-0-7-9-12-13-15_2023-01-27-081137/L1_d-0-7-9-12-13-15_2023-01-27-081137/   \n",
       "ratio_of_volume                                               1.000000                                                                                 \\\n",
       "mean_volume                                                   8.927824                                                                                  \n",
       "deviation_of_volume                                          17.318102                                                                                  \n",
       "\n",
       "                     ../input/results/oxdna_random_6/L1/d-2-5-9-12-15/L1_d-2-5-9-12-15_2023-01-30-184311/L1_d-2-5-9-12-15_2023-01-30-184311/   \n",
       "ratio_of_volume                                               1.000000                                                                        \\\n",
       "mean_volume                                                   9.192065                                                                         \n",
       "deviation_of_volume                                          14.430870                                                                         \n",
       "\n",
       "                     ../input/results/oxdna_random_6/L1/d-1-5-7-8-12-14/L1_d-1-5-7-8-12-14_2023-01-30-031106/L1_d-1-5-7-8-12-14_2023-01-30-031106/   \n",
       "ratio_of_volume                                               1.000000                                                                              \\\n",
       "mean_volume                                                   9.126593                                                                               \n",
       "deviation_of_volume                                          17.318102                                                                               \n",
       "\n",
       "                     ../input/results/oxdna_random_6/L1/d-3-5-6-8-10/L1_d-3-5-6-8-10_2023-01-29-183216/L1_d-3-5-6-8-10_2023-01-29-183216/   \n",
       "ratio_of_volume                                               1.000000                                                                     \\\n",
       "mean_volume                                                   8.871402                                                                      \n",
       "deviation_of_volume                                          14.430870                                                                      \n",
       "\n",
       "                     ../input/results/oxdna_random_6/L1/d-0-2-4-11/L1_d-0-2-4-11_2023-01-30-055316/L1_d-0-2-4-11_2023-01-30-055316/   \n",
       "ratio_of_volume                                               1.000000                                                               \\\n",
       "mean_volume                                                   7.337195                                                                \n",
       "deviation_of_volume                                          11.543396                                                                \n",
       "\n",
       "                     ../input/results/oxdna_random_6/L1/d-5-7-13-15/L1_d-5-7-13-15_2023-01-30-071758/L1_d-5-7-13-15_2023-01-30-071758/   \n",
       "ratio_of_volume                                               1.000000                                                                  \\\n",
       "mean_volume                                                   8.179115                                                                   \n",
       "deviation_of_volume                                          11.543396                                                                   \n",
       "\n",
       "                     ../input/results/oxdna_random_6/L1/d-4-15/L1_d-4-15_2023-01-30-142124/L1_d-4-15_2023-01-30-142124/   \n",
       "ratio_of_volume                                               1.000000                                                   \\\n",
       "mean_volume                                                   8.325877                                                    \n",
       "deviation_of_volume                                           5.766281                                                    \n",
       "\n",
       "                     ../input/results/oxdna_random_6/L1/d-4-15/L1_d-4-15_2023-01-28-030837/L1_d-4-15_2023-01-28-030837/   \n",
       "ratio_of_volume                                               1.000000                                                   \\\n",
       "mean_volume                                                   8.271747                                                    \n",
       "deviation_of_volume                                           5.766281                                                    \n",
       "\n",
       "                     ../input/results/oxdna_random_6/L1/d-1-2-8-9-15/L1_d-1-2-8-9-15_2023-01-30-092907/L1_d-1-2-8-9-15_2023-01-30-092907/   \n",
       "ratio_of_volume                                               1.000000                                                                     \\\n",
       "mean_volume                                                   8.611379                                                                      \n",
       "deviation_of_volume                                          14.430870                                                                      \n",
       "\n",
       "                     ...   \n",
       "ratio_of_volume      ...  \\\n",
       "mean_volume          ...   \n",
       "deviation_of_volume  ...   \n",
       "\n",
       "                     ../input/results/oxdna_random_6/L1/d-4-8-9-11-12-14/L1_d-4-8-9-11-12-14_2023-01-28-131248/L1_d-4-8-9-11-12-14_2023-01-28-131248/   \n",
       "ratio_of_volume                                               1.000000                                                                                 \\\n",
       "mean_volume                                                   8.821022                                                                                  \n",
       "deviation_of_volume                                          17.318102                                                                                  \n",
       "\n",
       "                     ../input/results/oxdna_random_6/L1/d-0-2-4-7-9-13/L1_d-0-2-4-7-9-13_2023-01-28-142321/L1_d-0-2-4-7-9-13_2023-01-28-142321/   \n",
       "ratio_of_volume                                               1.000000                                                                           \\\n",
       "mean_volume                                                   8.737941                                                                            \n",
       "deviation_of_volume                                          17.318102                                                                            \n",
       "\n",
       "                     ../input/results/oxdna_random_6/L1/d-3-5-9-15/L1_d-3-5-9-15_2023-01-27-184252/L1_d-3-5-9-15_2023-01-27-184252/   \n",
       "ratio_of_volume                                               1.000000                                                               \\\n",
       "mean_volume                                                   9.246634                                                                \n",
       "deviation_of_volume                                          11.543396                                                                \n",
       "\n",
       "                     ../input/results/oxdna_random_6/L1/d-0-2-9/L1_d-0-2-9_2023-01-30-120033/L1_d-0-2-9_2023-01-30-120033/   \n",
       "ratio_of_volume                                               1.000000                                                      \\\n",
       "mean_volume                                                   8.631647                                                       \n",
       "deviation_of_volume                                           8.655441                                                       \n",
       "\n",
       "                     ../input/results/oxdna_random_6/L1/d-4-6-13/L1_d-4-6-13_2023-01-30-065835/L1_d-4-6-13_2023-01-30-065835/   \n",
       "ratio_of_volume                                               1.000000                                                         \\\n",
       "mean_volume                                                   7.637714                                                          \n",
       "deviation_of_volume                                           8.655441                                                          \n",
       "\n",
       "                     ../input/results/oxdna_random_6/L1/d-1-3-6-12/L1_d-1-3-6-12_2023-01-27-133623/L1_d-1-3-6-12_2023-01-27-133623/   \n",
       "ratio_of_volume                                               1.000000                                                               \\\n",
       "mean_volume                                                   8.771796                                                                \n",
       "deviation_of_volume                                          11.543396                                                                \n",
       "\n",
       "                     ../input/results/oxdna_random_6/L1/d-0-5-8-10/L1_d-0-5-8-10_2023-01-27-122849/L1_d-0-5-8-10_2023-01-27-122849/   \n",
       "ratio_of_volume                                               1.000000                                                               \\\n",
       "mean_volume                                                   8.860100                                                                \n",
       "deviation_of_volume                                          11.543396                                                                \n",
       "\n",
       "                     ../input/results/oxdna_random_6/L1/d-0-1-8-15/L1_d-0-1-8-15_2023-01-30-054037/L1_d-0-1-8-15_2023-01-30-054037/   \n",
       "ratio_of_volume                                               1.000000                                                               \\\n",
       "mean_volume                                                   8.666152                                                                \n",
       "deviation_of_volume                                          11.543396                                                                \n",
       "\n",
       "                     ../input/results/oxdna_random_6/L1/d-3-8-9-11-12-14/L1_d-3-8-9-11-12-14_2023-01-27-192303/L1_d-3-8-9-11-12-14_2023-01-27-192303/   \n",
       "ratio_of_volume                                               1.000000                                                                                 \\\n",
       "mean_volume                                                   8.325148                                                                                  \n",
       "deviation_of_volume                                          17.318102                                                                                  \n",
       "\n",
       "                     ../input/results/oxdna_random_6/L1/d-0-3-4-7-9-14/L1_d-0-3-4-7-9-14_2023-01-26-025420/L1_d-0-3-4-7-9-14_2023-01-26-025420/  \n",
       "ratio_of_volume                                               1.000000                                                                           \n",
       "mean_volume                                                   8.852102                                                                           \n",
       "deviation_of_volume                                          17.318102                                                                           \n",
       "\n",
       "[3 rows x 1222 columns]"
      ]
     },
     "execution_count": 38,
     "metadata": {},
     "output_type": "execute_result"
    }
   ],
   "source": [
    "l1_path = \"../../data/dic/L1_data_4.pkl\"\n",
    "with open(l1_path, \"rb\") as tf:\n",
    "    l1_dict = pickle.load(tf)\n",
    "\n",
    "l1df = pd.DataFrame.from_dict(l1_dict)\n",
    "l1df.head()\n",
    "\n",
    "# for dir in l1_dict:\n",
    "#     print(dir, l1_dict[dir][\"deviation_of_volume\"], l1_dict[dir][\"mean_volume\"])"
   ]
  },
  {
   "cell_type": "code",
   "execution_count": 39,
   "metadata": {},
   "outputs": [],
   "source": [
    "def kmeans(k, X, max_iter=300):\n",
    "    X_size,n_features = X.shape\n",
    "    \n",
    "    # ランダムに重心の初期値を初期化\n",
    "    centroids  = X[np.random.choice(X_size,k)]\n",
    "    \n",
    "    # 前の重心と比較するために、仮に新しい重心を入れておく配列を用意\n",
    "    new_centroids = np.zeros((k, n_features))\n",
    "    \n",
    "    # 各データ所属クラスタ情報を保存する配列を用意\n",
    "    cluster = np.zeros(X_size)\n",
    "    \n",
    "    # ループ上限回数まで繰り返し\n",
    "    for epoch in range(max_iter):\n",
    "        \n",
    "        # 入力データ全てに対して繰り返し\n",
    "        for i in range(X_size):\n",
    "            \n",
    "            # データから各重心までの距離を計算（ルートを取らなくても大小関係は変わらないので省略）\n",
    "            distances = np.sum((centroids - X[i]) ** 2, axis=1)\n",
    "            \n",
    "            # データの所属クラスタを距離の一番近い重心を持つものに更新\n",
    "            cluster[i] = np.argsort(distances)[0]\n",
    "            \n",
    "        # すべてのクラスタに対して重心を再計算\n",
    "        for j in range(k):\n",
    "            new_centroids[j] = X[cluster==j].mean(axis=0)\n",
    "            \n",
    "        # もしも重心が変わっていなかったら終了\n",
    "        if np.sum(new_centroids == centroids) == k:\n",
    "            print(\"break\")\n",
    "            break\n",
    "        centroids =  new_centroids\n",
    "    return cluster"
   ]
  },
  {
   "cell_type": "code",
   "execution_count": 40,
   "metadata": {},
   "outputs": [
    {
     "name": "stdout",
     "output_type": "stream",
     "text": [
      "break\n"
     ]
    }
   ],
   "source": [
    "X = [[1, 2, 23], [2, 100, 99], [50, 12, 50]]\n",
    "X = [[1], [100], [12]]\n",
    "X = np.array(X)\n",
    "cluster = kmeans(k=2, X=X, max_iter=300)"
   ]
  },
  {
   "cell_type": "code",
   "execution_count": 51,
   "metadata": {},
   "outputs": [
    {
     "name": "stdout",
     "output_type": "stream",
     "text": [
      "[[ 1.          1.          1.         ...  1.          1.\n",
      "   1.        ]\n",
      " [ 8.81058752  8.92782439  9.19206464 ...  8.66615242  8.32514849\n",
      "   8.85210151]\n",
      " [14.43086969 17.31810228 14.43086969 ... 11.54339638 17.31810228\n",
      "  17.31810228]]\n"
     ]
    },
    {
     "name": "stderr",
     "output_type": "stream",
     "text": [
      "/var/folders/t5/9_w43txj551cpbyq7d7b78000000gn/T/ipykernel_12272/3630184657.py:27: RuntimeWarning: Mean of empty slice.\n",
      "  new_centroids[j] = X[cluster==j].mean(axis=0)\n",
      "/Users/hyakuzukamaya/opt/anaconda3/lib/python3.9/site-packages/numpy/core/_methods.py:184: RuntimeWarning: invalid value encountered in divide\n",
      "  ret = um.true_divide(\n"
     ]
    }
   ],
   "source": [
    "input_data = l1df.iloc[:,:-1].values\n",
    "print(input_data)\n",
    "cluster=kmeans(5, input_data)"
   ]
  },
  {
   "cell_type": "code",
   "execution_count": 52,
   "metadata": {},
   "outputs": [
    {
     "data": {
      "text/plain": [
       "Text(0.5, 1.0, 'clustering relust')"
      ]
     },
     "execution_count": 52,
     "metadata": {},
     "output_type": "execute_result"
    },
    {
     "data": {
      "image/png": "[encoded data removed]",
      "text/plain": [
       "<Figure size 640x480 with 2 Axes>"
      ]
     },
     "metadata": {},
     "output_type": "display_data"
    }
   ],
   "source": [
    "l1df.plot(kind=\"scatter\", x=0,y=1,c=\"cluster\", cmap=\"winter\")\n",
    "plt.title(\"clustering relust\")"
   ]
  },
  {
   "cell_type": "code",
   "execution_count": null,
   "metadata": {},
   "outputs": [],
   "source": []
  }
 ],
 "metadata": {
  "kernelspec": {
   "display_name": "base",
   "language": "python",
   "name": "python3"
  },
  "language_info": {
   "codemirror_mode": {
    "name": "ipython",
    "version": 3
   },
   "file_extension": ".py",
   "mimetype": "text/x-python",
   "name": "python",
   "nbconvert_exporter": "python",
   "pygments_lexer": "ipython3",
   "version": "3.9.16"
  },
  "orig_nbformat": 4,
  "vscode": {
   "interpreter": {
    "hash": "5e5f6d9a7f82cd92f07e7938d008a685454462d5ce7385d96edcda5cc017265d"
   }
  }
 },
 "nbformat": 4,
 "nbformat_minor": 2
}

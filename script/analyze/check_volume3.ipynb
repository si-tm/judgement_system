{
 "cells": [
  {
   "attachments": {},
   "cell_type": "markdown",
   "metadata": {},
   "source": [
    "try results of traj2r.py\n",
    "\n",
    "input/results/oxdna_random_6_diffseq_2/L1/d-1-4-7-10-14-15/L1_d-1-4-7-10-14-15_2023-02-01-020045/L1_d-1-4-7-10-14-15_2023-02-01-020045/last_conf_L1_d-1-4-7-10-14-15_2023-02-01-020045.dat.dat.rxyz"
   ]
  },
  {
   "cell_type": "code",
   "execution_count": 3,
   "metadata": {},
   "outputs": [
    {
     "data": {
      "text/plain": [
       "'/Users/hyakuzukamaya/Desktop/lab/judgement_system/script'"
      ]
     },
     "execution_count": 3,
     "metadata": {},
     "output_type": "execute_result"
    }
   ],
   "source": [
    "pwd"
   ]
  },
  {
   "cell_type": "code",
   "execution_count": null,
   "metadata": {},
   "outputs": [],
   "source": [
    "traj2r_results = \"../input/results/oxdna_random_6_diffseq_2/L1/d-1-4-7-10-14-15/L1_d-1-4-7-10-14-15_2023-02-01-020045/L1_d-1-4-7-10-14-15_2023-02-01-020045/last_conf_L1_d-1-4-7-10-14-15_2023-02-01-020045.dat.dat.rxyz\"\n",
    "f = open(traj2r_results, 'r')\n",
    "\n",
    "new_points = []\n",
    "\n",
    "for i, l in enumerate(f):\n",
    "    if i == 0:\n",
    "        continue\n",
    "    tmp_point = []\n",
    "    for r in l[:-2].split(' '):\n",
    "        tmp_point.append(float(r))\n",
    "    new_points.append(tmp_point)\n",
    "\n",
    "print(new_points)"
   ]
  },
  {
   "cell_type": "code",
   "execution_count": null,
   "metadata": {},
   "outputs": [],
   "source": []
  }
 ],
 "metadata": {
  "kernelspec": {
   "display_name": "base",
   "language": "python",
   "name": "python3"
  },
  "language_info": {
   "codemirror_mode": {
    "name": "ipython",
    "version": 3
   },
   "file_extension": ".py",
   "mimetype": "text/x-python",
   "name": "python",
   "nbconvert_exporter": "python",
   "pygments_lexer": "ipython3",
   "version": "3.10.4"
  },
  "orig_nbformat": 4
 },
 "nbformat": 4,
 "nbformat_minor": 2
}

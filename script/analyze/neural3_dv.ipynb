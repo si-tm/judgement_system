{
 "cells": [
  {
   "cell_type": "code",
   "execution_count": 2,
   "metadata": {
    "scrolled": true
   },
   "outputs": [
    {
     "name": "stdout",
     "output_type": "stream",
     "text": [
      "TensorFlow version: 2.10.0\n"
     ]
    }
   ],
   "source": [
    "import tensorflow as tf\n",
    "print(\"TensorFlow version:\", tf.__version__)\n",
    "\n",
    "from tensorflow.keras.layers import Dense\n",
    "from tensorflow.keras import Model\n",
    "from tensorflow.keras import layers\n",
    "from tensorflow import keras\n",
    "import os\n",
    "import sys\n",
    "import matplotlib.pyplot as plt\n",
    "import pandas as pd\n",
    "import seaborn as sns\n",
    "import csv\n",
    "import pickle\n",
    "from scipy.stats import linregress\n",
    "from sklearn.model_selection import train_test_split\n",
    "from sklearn.model_selection import train_test_split\n",
    "from datetime import datetime\n",
    "import numpy as np\n",
    "from sklearn.preprocessing import Normalizer"
   ]
  },
  {
   "cell_type": "code",
   "execution_count": 3,
   "metadata": {},
   "outputs": [
    {
     "name": "stdout",
     "output_type": "stream",
     "text": [
      "/Users/hyakuzukamaya/Desktop/lab/judgement_system/script\n"
     ]
    }
   ],
   "source": [
    "cd .."
   ]
  },
  {
   "attachments": {},
   "cell_type": "markdown",
   "metadata": {},
   "source": [
    "## Loading a dataset"
   ]
  },
  {
   "attachments": {},
   "cell_type": "markdown",
   "metadata": {},
   "source": [
    "## Split into train data and test data as dataset\n",
    "- データセットとして使用するデータを取得する。\n",
    "- trainデータとtestデータに分割する。（例えば80%をtrainデータに、20%をtestデータに、など。）\n",
    "- 書き方はデータセットとして使用するデータの type による。もし、numpy の形で持っているならhttps://www.tensorflow.org/tutorials/load_data/numpy?hl=ja が参考になります。"
   ]
  },
  {
   "cell_type": "code",
   "execution_count": 4,
   "metadata": {
    "scrolled": true
   },
   "outputs": [
    {
     "name": "stdout",
     "output_type": "stream",
     "text": [
      "837\n",
      "[ 8.65544145 14.43086969 11.54339638 11.54339638 11.54339638 17.31810228\n",
      " 17.31810228 11.54339638  8.65544145 11.54339638  8.65544145 14.43086969\n",
      " 11.54339638  8.65544145  8.65544145 14.43086969  8.65544145  8.65544145\n",
      "  8.65544145 11.54339638  8.65544145  8.65544145 14.43086969  8.65544145\n",
      " 11.54339638 11.54339638  8.65544145  8.65544145  8.65544145 17.31810228\n",
      "  8.65544145  8.65544145 17.31810228 11.54339638 11.54339638  8.65544145\n",
      "  8.65544145 14.43086969 11.54339638  8.65544145 14.43086969 11.54339638\n",
      " 11.54339638  8.65544145  8.65544145 11.54339638  8.65544145  8.65544145\n",
      " 11.54339638 11.54339638  8.65544145  8.65544145 14.43086969  8.65544145\n",
      "  8.65544145 14.43086969  8.65544145 14.43086969 17.31810228 11.54339638\n",
      " 11.54339638  8.65544145  8.65544145  8.65544145  8.65544145  8.65544145\n",
      " 11.54339638  8.65544145 11.54339638  8.65544145  8.65544145 11.54339638\n",
      "  8.65544145  8.65544145 14.43086969  8.65544145 11.54339638  8.65544145\n",
      "  8.65544145 17.31810228  8.65544145  8.65544145 11.54339638  8.65544145\n",
      " 11.54339638  8.65544145  8.65544145 14.43086969 11.54339638 14.43086969\n",
      "  8.65544145 14.43086969  8.65544145  8.65544145  8.65544145 11.54339638\n",
      "  8.65544145 11.54339638  8.65544145 11.54339638 14.43086969  8.65544145\n",
      "  8.65544145 11.54339638  8.65544145 11.54339638 11.54339638  8.65544145\n",
      " 14.43086969 14.43086969 11.54339638  8.65544145 11.54339638 11.54339638\n",
      " 11.54339638  8.65544145  8.65544145  8.65544145 11.54339638 11.54339638\n",
      " 11.54339638  8.65544145  8.65544145 14.43086969 11.54339638 11.54339638\n",
      " 14.43086969 11.54339638 11.54339638 11.54339638 11.54339638 11.54339638\n",
      "  8.65544145  8.65544145 11.54339638  8.65544145 11.54339638 14.43086969\n",
      " 14.43086969  8.65544145  8.65544145  8.65544145 17.31810228  8.65544145\n",
      " 14.43086969 14.43086969 11.54339638  8.65544145 11.54339638 11.54339638\n",
      " 11.54339638  8.65544145  8.65544145  8.65544145 17.31810228 11.54339638\n",
      "  8.65544145  8.65544145  8.65544145  8.65544145 11.54339638  8.65544145\n",
      " 14.43086969 11.54339638  8.65544145 14.43086969 11.54339638  8.65544145\n",
      " 17.31810228  8.65544145 14.43086969 11.54339638  8.65544145 11.54339638\n",
      " 11.54339638 11.54339638  8.65544145  8.65544145 11.54339638 11.54339638\n",
      " 11.54339638  8.65544145 11.54339638 11.54339638  8.65544145  8.65544145\n",
      " 11.54339638  8.65544145  8.65544145  8.65544145 11.54339638 17.31810228\n",
      " 11.54339638 11.54339638 17.31810228 14.43086969 14.43086969  8.65544145\n",
      " 14.43086969 11.54339638  8.65544145 11.54339638 11.54339638 11.54339638\n",
      " 11.54339638 11.54339638  8.65544145  8.65544145 11.54339638  8.65544145\n",
      "  8.65544145 14.43086969 11.54339638  8.65544145  8.65544145  8.65544145\n",
      " 14.43086969 11.54339638  8.65544145 11.54339638  8.65544145 14.43086969\n",
      " 11.54339638  8.65544145 14.43086969 11.54339638  8.65544145  8.65544145\n",
      " 14.43086969  8.65544145  8.65544145  8.65544145 17.31810228  8.65544145\n",
      "  8.65544145 11.54339638 14.43086969  8.65544145 17.31810228 14.43086969\n",
      "  8.65544145 11.54339638 14.43086969 11.54339638  8.65544145 11.54339638\n",
      "  8.65544145 14.43086969  8.65544145 11.54339638 14.43086969 17.31810228\n",
      " 11.54339638 11.54339638  8.65544145 11.54339638 11.54339638 11.54339638\n",
      " 14.43086969  8.65544145 11.54339638 11.54339638 11.54339638  8.65544145\n",
      " 11.54339638  8.65544145 11.54339638 11.54339638 17.31810228 11.54339638\n",
      " 11.54339638 14.43086969 14.43086969 11.54339638 14.43086969  8.65544145\n",
      "  8.65544145  8.65544145  8.65544145  8.65544145 11.54339638  8.65544145\n",
      " 14.43086969 17.31810228  8.65544145 11.54339638  8.65544145 17.31810228\n",
      " 14.43086969 11.54339638 11.54339638  8.65544145  8.65544145  8.65544145\n",
      " 11.54339638 11.54339638 14.43086969  8.65544145  8.65544145 17.31810228\n",
      " 11.54339638 14.43086969  8.65544145 11.54339638  8.65544145  8.65544145\n",
      " 17.31810228 14.43086969  8.65544145  8.65544145  8.65544145 11.54339638\n",
      "  8.65544145 11.54339638 17.31810228 11.54339638 11.54339638 11.54339638\n",
      "  8.65544145 11.54339638 11.54339638 11.54339638 14.43086969  8.65544145\n",
      " 11.54339638 11.54339638 14.43086969 14.43086969 17.31810228 11.54339638\n",
      " 14.43086969 11.54339638 14.43086969  8.65544145 11.54339638 11.54339638\n",
      "  8.65544145 11.54339638  8.65544145 11.54339638 11.54339638 11.54339638\n",
      "  8.65544145  8.65544145 11.54339638  8.65544145 14.43086969 14.43086969\n",
      "  8.65544145 11.54339638  8.65544145 14.43086969 11.54339638 11.54339638\n",
      " 11.54339638 11.54339638 11.54339638  8.65544145  8.65544145 17.31810228\n",
      " 14.43086969  8.65544145 17.31810228  8.65544145 11.54339638 11.54339638\n",
      " 11.54339638 11.54339638  8.65544145 11.54339638  8.65544145  8.65544145\n",
      " 14.43086969  8.65544145  8.65544145  8.65544145 11.54339638 14.43086969\n",
      " 11.54339638  8.65544145  8.65544145 11.54339638  8.65544145 17.31810228\n",
      " 11.54339638 14.43086969  8.65544145 11.54339638  8.65544145  8.65544145\n",
      "  8.65544145  8.65544145 14.43086969 11.54339638 11.54339638  8.65544145\n",
      " 11.54339638  8.65544145  8.65544145 11.54339638 11.54339638  8.65544145\n",
      "  8.65544145  8.65544145  8.65544145 14.43086969  8.65544145 17.31810228\n",
      "  8.65544145 11.54339638 14.43086969 14.43086969 14.43086969 14.43086969\n",
      " 11.54339638  8.65544145 11.54339638 14.43086969 11.54339638 11.54339638\n",
      " 11.54339638 11.54339638 11.54339638  8.65544145 11.54339638 11.54339638\n",
      " 11.54339638 11.54339638 11.54339638 11.54339638 11.54339638 17.31810228\n",
      " 11.54339638  8.65544145 14.43086969 11.54339638  8.65544145 11.54339638\n",
      " 11.54339638  8.65544145 14.43086969  8.65544145 11.54339638  8.65544145\n",
      "  8.65544145 11.54339638  8.65544145 14.43086969 11.54339638 11.54339638\n",
      "  8.65544145  8.65544145  8.65544145 11.54339638  8.65544145  8.65544145\n",
      "  8.65544145  8.65544145  8.65544145 11.54339638 11.54339638 14.43086969\n",
      " 11.54339638  8.65544145 11.54339638 14.43086969  8.65544145 14.43086969\n",
      " 11.54339638  8.65544145  8.65544145 14.43086969  8.65544145  8.65544145\n",
      "  8.65544145 11.54339638 14.43086969  8.65544145 14.43086969 11.54339638\n",
      " 14.43086969 17.31810228 11.54339638  8.65544145  8.65544145  8.65544145\n",
      "  8.65544145 14.43086969 17.31810228 14.43086969  8.65544145  8.65544145\n",
      "  8.65544145 11.54339638 14.43086969 14.43086969 14.43086969 11.54339638\n",
      "  8.65544145 11.54339638 14.43086969  8.65544145  8.65544145 11.54339638\n",
      "  8.65544145  8.65544145  8.65544145 14.43086969 11.54339638  8.65544145\n",
      "  8.65544145 17.31810228 11.54339638 11.54339638 11.54339638 11.54339638\n",
      "  8.65544145  8.65544145  8.65544145 14.43086969  8.65544145  8.65544145\n",
      "  8.65544145 14.43086969 11.54339638 14.43086969 14.43086969  8.65544145\n",
      " 11.54339638 11.54339638  8.65544145 14.43086969  8.65544145  8.65544145\n",
      "  8.65544145 11.54339638 11.54339638 11.54339638  8.65544145  8.65544145\n",
      "  8.65544145  8.65544145 14.43086969 11.54339638  8.65544145 14.43086969\n",
      " 11.54339638 14.43086969  8.65544145  8.65544145 17.31810228 11.54339638\n",
      " 11.54339638 11.54339638 11.54339638 11.54339638  8.65544145  8.65544145\n",
      "  8.65544145  8.65544145 11.54339638 11.54339638 11.54339638  8.65544145\n",
      "  8.65544145  8.65544145  8.65544145 11.54339638  8.65544145  8.65544145\n",
      "  8.65544145 11.54339638  8.65544145  8.65544145 11.54339638 14.43086969\n",
      " 14.43086969  8.65544145  8.65544145  8.65544145 17.31810228  8.65544145\n",
      " 14.43086969 11.54339638 14.43086969 11.54339638 11.54339638 11.54339638\n",
      " 11.54339638 14.43086969 11.54339638  8.65544145  8.65544145  8.65544145\n",
      "  8.65544145  8.65544145 11.54339638  8.65544145 14.43086969 14.43086969\n",
      " 11.54339638 14.43086969 11.54339638 11.54339638 14.43086969 14.43086969\n",
      " 11.54339638 14.43086969 14.43086969 11.54339638 14.43086969 11.54339638\n",
      " 11.54339638  8.65544145 14.43086969  8.65544145 14.43086969 17.31810228\n",
      "  8.65544145  8.65544145  8.65544145  8.65544145 14.43086969  8.65544145\n",
      "  8.65544145 11.54339638 14.43086969  8.65544145 11.54339638 14.43086969\n",
      " 11.54339638 11.54339638 14.43086969  8.65544145 11.54339638  8.65544145\n",
      " 17.31810228  8.65544145 11.54339638 14.43086969 11.54339638 11.54339638\n",
      "  8.65544145 14.43086969 11.54339638  8.65544145 17.31810228 14.43086969\n",
      " 17.31810228  8.65544145 11.54339638 14.43086969 11.54339638  8.65544145\n",
      " 11.54339638 11.54339638  8.65544145 11.54339638  8.65544145 14.43086969\n",
      "  8.65544145 11.54339638 17.31810228 11.54339638  8.65544145 11.54339638\n",
      " 11.54339638 11.54339638  8.65544145  8.65544145 11.54339638 14.43086969\n",
      " 14.43086969 11.54339638 11.54339638  8.65544145  8.65544145 11.54339638\n",
      " 11.54339638  8.65544145  8.65544145 11.54339638 14.43086969  8.65544145\n",
      " 14.43086969 17.31810228 14.43086969  8.65544145 11.54339638 11.54339638\n",
      "  8.65544145 11.54339638  8.65544145  8.65544145 11.54339638 11.54339638\n",
      " 14.43086969  8.65544145  8.65544145 14.43086969  8.65544145  8.65544145\n",
      " 14.43086969 11.54339638 11.54339638  8.65544145 11.54339638 14.43086969\n",
      " 14.43086969  8.65544145 14.43086969 11.54339638  8.65544145 11.54339638\n",
      "  8.65544145 11.54339638  8.65544145  8.65544145 11.54339638 14.43086969\n",
      " 14.43086969 11.54339638 11.54339638  8.65544145 11.54339638 11.54339638\n",
      "  8.65544145  8.65544145  8.65544145 11.54339638  8.65544145 14.43086969\n",
      " 17.31810228 14.43086969 11.54339638  8.65544145  8.65544145 11.54339638\n",
      "  8.65544145 11.54339638  8.65544145  8.65544145  8.65544145  8.65544145\n",
      "  8.65544145 11.54339638 11.54339638 11.54339638 11.54339638 17.31810228\n",
      "  8.65544145  8.65544145 11.54339638  8.65544145 11.54339638  8.65544145\n",
      " 11.54339638 11.54339638 11.54339638 14.43086969 11.54339638 14.43086969\n",
      "  8.65544145 11.54339638  8.65544145  8.65544145 14.43086969  8.65544145\n",
      "  8.65544145 11.54339638  8.65544145 11.54339638 11.54339638 14.43086969\n",
      "  8.65544145  8.65544145  8.65544145 14.43086969 14.43086969  8.65544145\n",
      " 11.54339638 11.54339638 14.43086969 11.54339638 11.54339638 14.43086969\n",
      " 11.54339638 11.54339638  8.65544145 11.54339638  8.65544145  8.65544145\n",
      "  8.65544145 11.54339638  8.65544145  8.65544145  8.65544145 14.43086969\n",
      "  8.65544145  8.65544145  8.65544145 11.54339638  8.65544145  8.65544145\n",
      " 11.54339638 11.54339638 11.54339638  8.65544145  8.65544145  8.65544145\n",
      " 17.31810228  8.65544145  8.65544145  8.65544145  8.65544145 14.43086969\n",
      "  8.65544145 14.43086969  8.65544145  8.65544145 11.54339638 14.43086969\n",
      "  8.65544145  8.65544145  8.65544145 11.54339638 11.54339638  8.65544145\n",
      " 11.54339638 17.31810228  8.65544145  8.65544145  8.65544145 11.54339638\n",
      "  8.65544145  8.65544145  8.65544145]\n",
      "(669, 1728)\n",
      "(168, 1728)\n",
      "(669,)\n",
      "(168,)\n"
     ]
    }
   ],
   "source": [
    "\n",
    "\n",
    "# x_path = '../../data/npy/x_random_l3_6.npy'\n",
    "x_path = '../../data/npy/x_random_l3_6_dv.npy'\n",
    "# x_path = '../../data/npy/x_random_6_diffseq_mean_l3.npy'\n",
    "# x_path = '../../data/npy/x_random_6_diffseq_mean_l3_3.npy'\n",
    "\n",
    "# y_path = '../../data/npy/y_random_l3_6.npy'\n",
    "y_path = '../../data/npy/y_random_l3_6_dv.npy'\n",
    "# y_path = '../../data/npy/y_random_6_diffseq_mean_l3.npy'\n",
    "# y_path = '../../data/npy/y_random_6_diffseq_mean_l3_3.npy'\n",
    "\n",
    "# l3\n",
    "x_l3_mean_fullPath = os.path.abspath('../../data/npy/x_random_l3_6_mean.npy')\n",
    "x_l3_rb_fullPath = os.path.abspath('../../data/npy/x_random_l3_6_rb.npy')\n",
    "x_l3_dv_fullPath = os.path.abspath('../../data/npy/x_random_l3_6_dv.npy')\n",
    "x_l3_mean_path = tf.keras.utils.get_file('x_random_l3_6_mean.npy', 'file://'+x_l3_mean_fullPath)\n",
    "x_l3_rb_path = tf.keras.utils.get_file('x_random_l3_6_mean.npy', 'file://'+x_l3_rb_fullPath)\n",
    "x_l3_dv_path = tf.keras.utils.get_file('x_random_l3_6_mean.npy', 'file://'+x_l3_dv_fullPath)\n",
    "\n",
    "y_l3_mean_fullPath = os.path.abspath('../../data/npy/y_random_l3_6_mean.npy')\n",
    "y_l3_rb_fullPath = os.path.abspath('../../data/npy/y_random_l3_6_rb.npy')\n",
    "y_l3_dv_fullPath = os.path.abspath('../../data/npy/y_random_l3_6_dv.npy')\n",
    "y_l3_mean_path = tf.keras.utils.get_file('y_random_l3_6_mean.npy', 'file://'+y_l3_mean_fullPath)\n",
    "y_l3_rb_path = tf.keras.utils.get_file('y_random_l3_6_rb.npy', 'file://'+y_l3_rb_fullPath)\n",
    "y_l3_dv_path = tf.keras.utils.get_file('y_random_l3_6_dv.npy', 'file://'+y_l3_dv_fullPath)\n",
    "\n",
    "\n",
    "x_data = np.load(x_l3_dv_path)\n",
    "y_data = np.load(y_l3_dv_path, allow_pickle=True)\n",
    "\n",
    "print(len(y_data))\n",
    "print(y_data)\n",
    "\n",
    "# min_val = y_data.min()\n",
    "# max_val = y_data.max()\n",
    "\n",
    "# y_data = (y_data - min_val)/(max_val - min_val)\n",
    "\n",
    "x_train, x_test, y_train, y_test = train_test_split(x_data, y_data, test_size=0.2)\n",
    "\n",
    "print(x_train.shape)\n",
    "print(x_test.shape)\n",
    "print(y_train.shape)\n",
    "print(y_test.shape)"
   ]
  },
  {
   "attachments": {},
   "cell_type": "markdown",
   "metadata": {},
   "source": [
    "## Set my model\n",
    "- input_shape は入力データのサイズ。\n",
    "- モデルの定義方法は調べればたくさん出てきますが、例えばここ： https://sinyblog.com/deaplearning/keras_how_to/ \n",
    "- 最後の層の出力は、期待する出力データのサイズ\n",
    "- [model](https://github.com/si-tm/docs-l30n/blob/master/site/ja/tutorials/quickstart/beginner.py)"
   ]
  },
  {
   "cell_type": "code",
   "execution_count": 5,
   "metadata": {
    "scrolled": true
   },
   "outputs": [],
   "source": [
    "def build_model():\n",
    "    \n",
    "    model = tf.keras.models.Sequential([\n",
    "    tf.keras.layers.Flatten(input_shape=(x_train.shape[1],)),\n",
    "    tf.keras.layers.Dense(128, activation='relu'), # units=128 : 出力空間の次元数\n",
    "    tf.keras.layers.Dropout(0.2), # 入力にドロップアウトを適用する rate=0.2 : 入力ユニットをドロップする割合\n",
    "    tf.keras.layers.Dense(1) \n",
    "    ])\n",
    "\n",
    "    optimizer = tf.keras.optimizers.Adam() # optimizers も Adam 以外に色々種類があります。調べてみてください！\n",
    "\n",
    "    model.compile(loss='mse',\n",
    "                optimizer=optimizer,\n",
    "                metrics=['mae', 'mse']) # loss 関数に何を採用するかはどんな問題を解きたいのかによります。\n",
    "                                        #ここでは MSE を採用していますが、他にも色々な選択肢があります。調べてみてください！\n",
    "    return model"
   ]
  },
  {
   "cell_type": "code",
   "execution_count": 6,
   "metadata": {
    "scrolled": true
   },
   "outputs": [
    {
     "name": "stderr",
     "output_type": "stream",
     "text": [
      "2023-06-13 14:14:26.265921: I tensorflow/core/platform/cpu_feature_guard.cc:193] This TensorFlow binary is optimized with oneAPI Deep Neural Network Library (oneDNN) to use the following CPU instructions in performance-critical operations:  SSE4.1 SSE4.2\n",
      "To enable them in other operations, rebuild TensorFlow with the appropriate compiler flags.\n"
     ]
    }
   ],
   "source": [
    "model = build_model()"
   ]
  },
  {
   "cell_type": "code",
   "execution_count": 7,
   "metadata": {
    "scrolled": true
   },
   "outputs": [
    {
     "name": "stdout",
     "output_type": "stream",
     "text": [
      "Model: \"sequential\"\n",
      "_________________________________________________________________\n",
      " Layer (type)                Output Shape              Param #   \n",
      "=================================================================\n",
      " flatten (Flatten)           (None, 1728)              0         \n",
      "                                                                 \n",
      " dense (Dense)               (None, 128)               221312    \n",
      "                                                                 \n",
      " dropout (Dropout)           (None, 128)               0         \n",
      "                                                                 \n",
      " dense_1 (Dense)             (None, 1)                 129       \n",
      "                                                                 \n",
      "=================================================================\n",
      "Total params: 221,441\n",
      "Trainable params: 221,441\n",
      "Non-trainable params: 0\n",
      "_________________________________________________________________\n"
     ]
    }
   ],
   "source": [
    "model.summary()"
   ]
  },
  {
   "cell_type": "code",
   "execution_count": 8,
   "metadata": {
    "scrolled": true
   },
   "outputs": [
    {
     "name": "stdout",
     "output_type": "stream",
     "text": [
      "(10, 1728)\n",
      "1/1 [==============================] - 0s 62ms/step\n"
     ]
    }
   ],
   "source": [
    "example_batch = x_train[:10]\n",
    "print(example_batch.shape)\n",
    "example_result = model.predict(example_batch)\n",
    "# example_result"
   ]
  },
  {
   "cell_type": "code",
   "execution_count": 9,
   "metadata": {},
   "outputs": [
    {
     "name": "stdout",
     "output_type": "stream",
     "text": [
      "[[-0.07877351]\n",
      " [-0.0611064 ]\n",
      " [ 0.01964787]\n",
      " [-0.08868599]\n",
      " [ 0.0233559 ]\n",
      " [-0.00155323]\n",
      " [-0.0402156 ]\n",
      " [-0.03306209]\n",
      " [-0.06506428]\n",
      " [-0.04454915]]\n"
     ]
    }
   ],
   "source": [
    "print(example_result)"
   ]
  },
  {
   "cell_type": "code",
   "execution_count": 10,
   "metadata": {
    "scrolled": true
   },
   "outputs": [
    {
     "name": "stdout",
     "output_type": "stream",
     "text": [
      "\n",
      "....................................................................................................\n",
      "....................................................................................................\n",
      "....................................................................................................\n",
      "...................................................................................................."
     ]
    }
   ],
   "source": [
    "# エポックが終わるごとにドットを一つ出力することで進捗を表示\n",
    "class PrintDot(tf.keras.callbacks.Callback):\n",
    "    def on_epoch_end(self, epoch, logs):\n",
    "        if epoch % 100 == 0: print('')\n",
    "        print('.', end='')\n",
    "\n",
    "# early_stop = keras.callbacks.EarlyStopping(monitor='val_loss', patience=10)\n",
    "EPOCHS = 400 # epoch 数も考慮しよう\n",
    "# EPOCHS = 100 # epoch 数も考慮しよう\n",
    "\n",
    "history = model.fit(\n",
    "    x_train, y_train,\n",
    "    epochs=EPOCHS, validation_split = 0.2, verbose=0,\n",
    "    callbacks=[PrintDot()]\n",
    ")"
   ]
  },
  {
   "cell_type": "code",
   "execution_count": 11,
   "metadata": {
    "scrolled": true
   },
   "outputs": [
    {
     "data": {
      "text/html": [
       "<div>\n",
       "<style scoped>\n",
       "    .dataframe tbody tr th:only-of-type {\n",
       "        vertical-align: middle;\n",
       "    }\n",
       "\n",
       "    .dataframe tbody tr th {\n",
       "        vertical-align: top;\n",
       "    }\n",
       "\n",
       "    .dataframe thead th {\n",
       "        text-align: right;\n",
       "    }\n",
       "</style>\n",
       "<table border=\"1\" class=\"dataframe\">\n",
       "  <thead>\n",
       "    <tr style=\"text-align: right;\">\n",
       "      <th></th>\n",
       "      <th>loss</th>\n",
       "      <th>mae</th>\n",
       "      <th>mse</th>\n",
       "      <th>val_loss</th>\n",
       "      <th>val_mae</th>\n",
       "      <th>val_mse</th>\n",
       "      <th>epoch</th>\n",
       "    </tr>\n",
       "  </thead>\n",
       "  <tbody>\n",
       "    <tr>\n",
       "      <th>395</th>\n",
       "      <td>0.471845</td>\n",
       "      <td>0.538996</td>\n",
       "      <td>0.471845</td>\n",
       "      <td>8.640208</td>\n",
       "      <td>2.193396</td>\n",
       "      <td>8.640208</td>\n",
       "      <td>395</td>\n",
       "    </tr>\n",
       "    <tr>\n",
       "      <th>396</th>\n",
       "      <td>0.459138</td>\n",
       "      <td>0.539619</td>\n",
       "      <td>0.459138</td>\n",
       "      <td>8.849916</td>\n",
       "      <td>2.218443</td>\n",
       "      <td>8.849916</td>\n",
       "      <td>396</td>\n",
       "    </tr>\n",
       "    <tr>\n",
       "      <th>397</th>\n",
       "      <td>0.431123</td>\n",
       "      <td>0.504522</td>\n",
       "      <td>0.431123</td>\n",
       "      <td>9.053031</td>\n",
       "      <td>2.242359</td>\n",
       "      <td>9.053031</td>\n",
       "      <td>397</td>\n",
       "    </tr>\n",
       "    <tr>\n",
       "      <th>398</th>\n",
       "      <td>0.507218</td>\n",
       "      <td>0.565254</td>\n",
       "      <td>0.507218</td>\n",
       "      <td>8.857352</td>\n",
       "      <td>2.220227</td>\n",
       "      <td>8.857352</td>\n",
       "      <td>398</td>\n",
       "    </tr>\n",
       "    <tr>\n",
       "      <th>399</th>\n",
       "      <td>0.418073</td>\n",
       "      <td>0.505067</td>\n",
       "      <td>0.418073</td>\n",
       "      <td>9.165066</td>\n",
       "      <td>2.260027</td>\n",
       "      <td>9.165066</td>\n",
       "      <td>399</td>\n",
       "    </tr>\n",
       "  </tbody>\n",
       "</table>\n",
       "</div>"
      ],
      "text/plain": [
       "         loss       mae       mse  val_loss   val_mae   val_mse  epoch\n",
       "395  0.471845  0.538996  0.471845  8.640208  2.193396  8.640208    395\n",
       "396  0.459138  0.539619  0.459138  8.849916  2.218443  8.849916    396\n",
       "397  0.431123  0.504522  0.431123  9.053031  2.242359  9.053031    397\n",
       "398  0.507218  0.565254  0.507218  8.857352  2.220227  8.857352    398\n",
       "399  0.418073  0.505067  0.418073  9.165066  2.260027  9.165066    399"
      ]
     },
     "execution_count": 11,
     "metadata": {},
     "output_type": "execute_result"
    }
   ],
   "source": [
    "hist = pd.DataFrame(history.history)\n",
    "hist['epoch'] = history.epoch\n",
    "hist.tail()"
   ]
  },
  {
   "cell_type": "code",
   "execution_count": 12,
   "metadata": {
    "scrolled": true
   },
   "outputs": [
    {
     "data": {
      "image/png": "[encoded data removed]",
      "text/plain": [
       "<Figure size 640x480 with 1 Axes>"
      ]
     },
     "metadata": {},
     "output_type": "display_data"
    },
    {
     "data": {
      "image/png": "[encoded data removed]",
      "text/plain": [
       "<Figure size 640x480 with 1 Axes>"
      ]
     },
     "metadata": {},
     "output_type": "display_data"
    }
   ],
   "source": [
    "def plot_history(history):\n",
    "    hist = pd.DataFrame(history.history)\n",
    "    hist['epoch'] = history.epoch\n",
    "\n",
    "    plt.figure()\n",
    "    plt.xlabel('Epoch')\n",
    "    plt.ylabel('Mean Abs Error [mc]')\n",
    "    plt.plot(hist['epoch'], hist['mae'], label='Train Error')\n",
    "    plt.plot(hist['epoch'], hist['val_mae'], label = 'Val Error')\n",
    "    plt.ylim([0,30])\n",
    "    plt.legend()\n",
    "\n",
    "    plt.figure()\n",
    "    plt.xlabel('Epoch')\n",
    "    plt.ylabel('Mean Square Error [$mc^2$]')\n",
    "    plt.plot(hist['epoch'], hist['mse'], label='Train Error')\n",
    "    plt.plot(hist['epoch'], hist['val_mse'], label = 'Val Error')\n",
    "    plt.ylim([0,3])\n",
    "    plt.legend()\n",
    "    plt.show()\n",
    "\n",
    "\n",
    "plot_history(history)"
   ]
  },
  {
   "cell_type": "code",
   "execution_count": 13,
   "metadata": {
    "scrolled": true
   },
   "outputs": [
    {
     "name": "stdout",
     "output_type": "stream",
     "text": [
      "6/6 [==============================] - 0s 813us/step\n"
     ]
    },
    {
     "data": {
      "text/plain": [
       "[<matplotlib.lines.Line2D at 0x7fd0b960a0a0>]"
      ]
     },
     "execution_count": 13,
     "metadata": {},
     "output_type": "execute_result"
    },
    {
     "data": {
      "image/png": "[encoded data removed]",
      "text/plain": [
       "<Figure size 600x600 with 1 Axes>"
      ]
     },
     "metadata": {},
     "output_type": "display_data"
    }
   ],
   "source": [
    "test_predictions = model.predict(x_test).flatten()\n",
    "res = linregress(y_test, test_predictions)\n",
    "\n",
    "plt.figure(figsize=(6,6))\n",
    "plt.scatter(y_test, test_predictions)\n",
    "# plt.xlabel('True Values [mc]')\n",
    "# plt.ylabel('Predictions [mc]')\n",
    "plt.xlabel('True Values of volume')\n",
    "plt.ylabel('Predictions of volume')\n",
    "plt.axis('equal')\n",
    "plt.axis('square')\n",
    "plt.xlim([0,20])\n",
    "plt.ylim([0,20])\n",
    "_ = plt.plot([0,20], [0,20])\n",
    "\n",
    "plt.plot([0,20], res.intercept + res.slope*np.array([0, 20]), 'r', label='fitted line')\n",
    "\n",
    "# normalizer 学習前"
   ]
  },
  {
   "cell_type": "code",
   "execution_count": 14,
   "metadata": {
    "scrolled": true
   },
   "outputs": [
    {
     "name": "stdout",
     "output_type": "stream",
     "text": [
      "INFO:tensorflow:Assets written to: ../saved_model/l3_dev_230613/assets\n"
     ]
    }
   ],
   "source": [
    "# トレーニングした model をどこかで使用したいなら以下のようにモデルを保存する\n",
    "model.save('../saved_model/l3_dev_230613')"
   ]
  },
  {
   "cell_type": "code",
   "execution_count": 15,
   "metadata": {},
   "outputs": [],
   "source": [
    "mse = tf.keras.losses.MeanSquaredError()"
   ]
  },
  {
   "attachments": {},
   "cell_type": "markdown",
   "metadata": {},
   "source": []
  },
  {
   "cell_type": "code",
   "execution_count": 16,
   "metadata": {},
   "outputs": [
    {
     "data": {
      "text/plain": [
       "0.13129348"
      ]
     },
     "execution_count": 16,
     "metadata": {},
     "output_type": "execute_result"
    }
   ],
   "source": [
    "mse(y_test,test_predictions).numpy()"
   ]
  },
  {
   "cell_type": "code",
   "execution_count": null,
   "metadata": {},
   "outputs": [],
   "source": [
    "test_predictions.rank"
   ]
  },
  {
   "cell_type": "code",
   "execution_count": 5,
   "metadata": {},
   "outputs": [
    {
     "name": "stderr",
     "output_type": "stream",
     "text": [
      "2023-06-20 12:51:58.838067: I tensorflow/core/platform/cpu_feature_guard.cc:193] This TensorFlow binary is optimized with oneAPI Deep Neural Network Library (oneDNN) to use the following CPU instructions in performance-critical operations:  SSE4.1 SSE4.2\n",
      "To enable them in other operations, rebuild TensorFlow with the appropriate compiler flags.\n"
     ]
    },
    {
     "name": "stdout",
     "output_type": "stream",
     "text": [
      "6/6 [==============================] - 0s 923us/step\n"
     ]
    },
    {
     "data": {
      "text/plain": [
       "3.611686"
      ]
     },
     "execution_count": 5,
     "metadata": {},
     "output_type": "execute_result"
    }
   ],
   "source": [
    "from keras.models import load_model\n",
    "\n",
    "def getModel(path):\n",
    "    model = load_model(path)\n",
    "    return model\n",
    "mse = tf.keras.losses.MeanSquaredError()\n",
    "model = getModel(path='../saved_model/l3_dev_230613')\n",
    "test_predictions = model.predict(x_test).flatten()\n",
    "\n",
    "mse(y_test,test_predictions).numpy()"
   ]
  },
  {
   "attachments": {},
   "cell_type": "markdown",
   "metadata": {},
   "source": []
  }
 ],
 "metadata": {
  "kernelspec": {
   "display_name": "base",
   "language": "python",
   "name": "python3"
  },
  "language_info": {
   "codemirror_mode": {
    "name": "ipython",
    "version": 3
   },
   "file_extension": ".py",
   "mimetype": "text/x-python",
   "name": "python",
   "nbconvert_exporter": "python",
   "pygments_lexer": "ipython3",
   "version": "3.9.16"
  },
  "vscode": {
   "interpreter": {
    "hash": "5e5f6d9a7f82cd92f07e7938d008a685454462d5ce7385d96edcda5cc017265d"
   }
  }
 },
 "nbformat": 4,
 "nbformat_minor": 4
}

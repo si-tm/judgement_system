{
 "cells": [
  {
   "cell_type": "code",
   "execution_count": 1,
   "metadata": {
    "scrolled": true
   },
   "outputs": [
    {
     "name": "stderr",
     "output_type": "stream",
     "text": [
      "2023-05-16 13:51:48.798741: I tensorflow/core/platform/cpu_feature_guard.cc:193] This TensorFlow binary is optimized with oneAPI Deep Neural Network Library (oneDNN) to use the following CPU instructions in performance-critical operations:  SSE4.1 SSE4.2\n",
      "To enable them in other operations, rebuild TensorFlow with the appropriate compiler flags.\n"
     ]
    },
    {
     "name": "stdout",
     "output_type": "stream",
     "text": [
      "TensorFlow version: 2.10.0\n"
     ]
    }
   ],
   "source": [
    "import tensorflow as tf\n",
    "print(\"TensorFlow version:\", tf.__version__)\n",
    "\n",
    "from tensorflow.keras.layers import Dense\n",
    "from tensorflow.keras import Model\n",
    "from tensorflow.keras import layers\n",
    "from tensorflow import keras\n",
    "import os\n",
    "import sys\n",
    "import matplotlib.pyplot as plt\n",
    "import pandas as pd\n",
    "import seaborn as sns\n",
    "import csv\n",
    "import pickle\n",
    "from scipy.stats import linregress\n",
    "from sklearn.model_selection import train_test_split\n",
    "from sklearn.model_selection import train_test_split\n",
    "from datetime import datetime\n",
    "import numpy as np\n",
    "from sklearn.preprocessing import Normalizer"
   ]
  },
  {
   "cell_type": "code",
   "execution_count": 2,
   "metadata": {},
   "outputs": [
    {
     "data": {
      "text/plain": [
       "'/Users/hyakuzukamaya/Desktop/lab/judgement_system/script/analyze'"
      ]
     },
     "execution_count": 2,
     "metadata": {},
     "output_type": "execute_result"
    }
   ],
   "source": [
    "pwd"
   ]
  },
  {
   "cell_type": "markdown",
   "metadata": {},
   "source": [
    "## Loading a dataset"
   ]
  },
  {
   "cell_type": "markdown",
   "metadata": {},
   "source": [
    "## Split into train data and test data as dataset\n",
    "- データセットとして使用するデータを取得する。\n",
    "- trainデータとtestデータに分割する。（例えば80%をtrainデータに、20%をtestデータに、など。）\n",
    "- 書き方はデータセットとして使用するデータの type による。もし、numpy の形で持っているならhttps://www.tensorflow.org/tutorials/load_data/numpy?hl=ja が参考になります。"
   ]
  },
  {
   "cell_type": "code",
   "execution_count": 24,
   "metadata": {
    "scrolled": true
   },
   "outputs": [
    {
     "name": "stdout",
     "output_type": "stream",
     "text": [
      "837\n",
      "[ 8.65544145 14.43086969 11.54339638 11.54339638 11.54339638 17.31810228\n",
      " 17.31810228 11.54339638  8.65544145 11.54339638  8.65544145 14.43086969\n",
      " 11.54339638  8.65544145  8.65544145 14.43086969  8.65544145  8.65544145\n",
      "  8.65544145 11.54339638  8.65544145  8.65544145 14.43086969  8.65544145\n",
      " 11.54339638 11.54339638  8.65544145  8.65544145  8.65544145 17.31810228\n",
      "  8.65544145  8.65544145 17.31810228 11.54339638 11.54339638  8.65544145\n",
      "  8.65544145 14.43086969 11.54339638  8.65544145 14.43086969 11.54339638\n",
      " 11.54339638  8.65544145  8.65544145 11.54339638  8.65544145  8.65544145\n",
      " 11.54339638 11.54339638  8.65544145  8.65544145 14.43086969  8.65544145\n",
      "  8.65544145 14.43086969  8.65544145 14.43086969 17.31810228 11.54339638\n",
      " 11.54339638  8.65544145  8.65544145  8.65544145  8.65544145  8.65544145\n",
      " 11.54339638  8.65544145 11.54339638  8.65544145  8.65544145 11.54339638\n",
      "  8.65544145  8.65544145 14.43086969  8.65544145 11.54339638  8.65544145\n",
      "  8.65544145 17.31810228  8.65544145  8.65544145 11.54339638  8.65544145\n",
      " 11.54339638  8.65544145  8.65544145 14.43086969 11.54339638 14.43086969\n",
      "  8.65544145 14.43086969  8.65544145  8.65544145  8.65544145 11.54339638\n",
      "  8.65544145 11.54339638  8.65544145 11.54339638 14.43086969  8.65544145\n",
      "  8.65544145 11.54339638  8.65544145 11.54339638 11.54339638  8.65544145\n",
      " 14.43086969 14.43086969 11.54339638  8.65544145 11.54339638 11.54339638\n",
      " 11.54339638  8.65544145  8.65544145  8.65544145 11.54339638 11.54339638\n",
      " 11.54339638  8.65544145  8.65544145 14.43086969 11.54339638 11.54339638\n",
      " 14.43086969 11.54339638 11.54339638 11.54339638 11.54339638 11.54339638\n",
      "  8.65544145  8.65544145 11.54339638  8.65544145 11.54339638 14.43086969\n",
      " 14.43086969  8.65544145  8.65544145  8.65544145 17.31810228  8.65544145\n",
      " 14.43086969 14.43086969 11.54339638  8.65544145 11.54339638 11.54339638\n",
      " 11.54339638  8.65544145  8.65544145  8.65544145 17.31810228 11.54339638\n",
      "  8.65544145  8.65544145  8.65544145  8.65544145 11.54339638  8.65544145\n",
      " 14.43086969 11.54339638  8.65544145 14.43086969 11.54339638  8.65544145\n",
      " 17.31810228  8.65544145 14.43086969 11.54339638  8.65544145 11.54339638\n",
      " 11.54339638 11.54339638  8.65544145  8.65544145 11.54339638 11.54339638\n",
      " 11.54339638  8.65544145 11.54339638 11.54339638  8.65544145  8.65544145\n",
      " 11.54339638  8.65544145  8.65544145  8.65544145 11.54339638 17.31810228\n",
      " 11.54339638 11.54339638 17.31810228 14.43086969 14.43086969  8.65544145\n",
      " 14.43086969 11.54339638  8.65544145 11.54339638 11.54339638 11.54339638\n",
      " 11.54339638 11.54339638  8.65544145  8.65544145 11.54339638  8.65544145\n",
      "  8.65544145 14.43086969 11.54339638  8.65544145  8.65544145  8.65544145\n",
      " 14.43086969 11.54339638  8.65544145 11.54339638  8.65544145 14.43086969\n",
      " 11.54339638  8.65544145 14.43086969 11.54339638  8.65544145  8.65544145\n",
      " 14.43086969  8.65544145  8.65544145  8.65544145 17.31810228  8.65544145\n",
      "  8.65544145 11.54339638 14.43086969  8.65544145 17.31810228 14.43086969\n",
      "  8.65544145 11.54339638 14.43086969 11.54339638  8.65544145 11.54339638\n",
      "  8.65544145 14.43086969  8.65544145 11.54339638 14.43086969 17.31810228\n",
      " 11.54339638 11.54339638  8.65544145 11.54339638 11.54339638 11.54339638\n",
      " 14.43086969  8.65544145 11.54339638 11.54339638 11.54339638  8.65544145\n",
      " 11.54339638  8.65544145 11.54339638 11.54339638 17.31810228 11.54339638\n",
      " 11.54339638 14.43086969 14.43086969 11.54339638 14.43086969  8.65544145\n",
      "  8.65544145  8.65544145  8.65544145  8.65544145 11.54339638  8.65544145\n",
      " 14.43086969 17.31810228  8.65544145 11.54339638  8.65544145 17.31810228\n",
      " 14.43086969 11.54339638 11.54339638  8.65544145  8.65544145  8.65544145\n",
      " 11.54339638 11.54339638 14.43086969  8.65544145  8.65544145 17.31810228\n",
      " 11.54339638 14.43086969  8.65544145 11.54339638  8.65544145  8.65544145\n",
      " 17.31810228 14.43086969  8.65544145  8.65544145  8.65544145 11.54339638\n",
      "  8.65544145 11.54339638 17.31810228 11.54339638 11.54339638 11.54339638\n",
      "  8.65544145 11.54339638 11.54339638 11.54339638 14.43086969  8.65544145\n",
      " 11.54339638 11.54339638 14.43086969 14.43086969 17.31810228 11.54339638\n",
      " 14.43086969 11.54339638 14.43086969  8.65544145 11.54339638 11.54339638\n",
      "  8.65544145 11.54339638  8.65544145 11.54339638 11.54339638 11.54339638\n",
      "  8.65544145  8.65544145 11.54339638  8.65544145 14.43086969 14.43086969\n",
      "  8.65544145 11.54339638  8.65544145 14.43086969 11.54339638 11.54339638\n",
      " 11.54339638 11.54339638 11.54339638  8.65544145  8.65544145 17.31810228\n",
      " 14.43086969  8.65544145 17.31810228  8.65544145 11.54339638 11.54339638\n",
      " 11.54339638 11.54339638  8.65544145 11.54339638  8.65544145  8.65544145\n",
      " 14.43086969  8.65544145  8.65544145  8.65544145 11.54339638 14.43086969\n",
      " 11.54339638  8.65544145  8.65544145 11.54339638  8.65544145 17.31810228\n",
      " 11.54339638 14.43086969  8.65544145 11.54339638  8.65544145  8.65544145\n",
      "  8.65544145  8.65544145 14.43086969 11.54339638 11.54339638  8.65544145\n",
      " 11.54339638  8.65544145  8.65544145 11.54339638 11.54339638  8.65544145\n",
      "  8.65544145  8.65544145  8.65544145 14.43086969  8.65544145 17.31810228\n",
      "  8.65544145 11.54339638 14.43086969 14.43086969 14.43086969 14.43086969\n",
      " 11.54339638  8.65544145 11.54339638 14.43086969 11.54339638 11.54339638\n",
      " 11.54339638 11.54339638 11.54339638  8.65544145 11.54339638 11.54339638\n",
      " 11.54339638 11.54339638 11.54339638 11.54339638 11.54339638 17.31810228\n",
      " 11.54339638  8.65544145 14.43086969 11.54339638  8.65544145 11.54339638\n",
      " 11.54339638  8.65544145 14.43086969  8.65544145 11.54339638  8.65544145\n",
      "  8.65544145 11.54339638  8.65544145 14.43086969 11.54339638 11.54339638\n",
      "  8.65544145  8.65544145  8.65544145 11.54339638  8.65544145  8.65544145\n",
      "  8.65544145  8.65544145  8.65544145 11.54339638 11.54339638 14.43086969\n",
      " 11.54339638  8.65544145 11.54339638 14.43086969  8.65544145 14.43086969\n",
      " 11.54339638  8.65544145  8.65544145 14.43086969  8.65544145  8.65544145\n",
      "  8.65544145 11.54339638 14.43086969  8.65544145 14.43086969 11.54339638\n",
      " 14.43086969 17.31810228 11.54339638  8.65544145  8.65544145  8.65544145\n",
      "  8.65544145 14.43086969 17.31810228 14.43086969  8.65544145  8.65544145\n",
      "  8.65544145 11.54339638 14.43086969 14.43086969 14.43086969 11.54339638\n",
      "  8.65544145 11.54339638 14.43086969  8.65544145  8.65544145 11.54339638\n",
      "  8.65544145  8.65544145  8.65544145 14.43086969 11.54339638  8.65544145\n",
      "  8.65544145 17.31810228 11.54339638 11.54339638 11.54339638 11.54339638\n",
      "  8.65544145  8.65544145  8.65544145 14.43086969  8.65544145  8.65544145\n",
      "  8.65544145 14.43086969 11.54339638 14.43086969 14.43086969  8.65544145\n",
      " 11.54339638 11.54339638  8.65544145 14.43086969  8.65544145  8.65544145\n",
      "  8.65544145 11.54339638 11.54339638 11.54339638  8.65544145  8.65544145\n",
      "  8.65544145  8.65544145 14.43086969 11.54339638  8.65544145 14.43086969\n",
      " 11.54339638 14.43086969  8.65544145  8.65544145 17.31810228 11.54339638\n",
      " 11.54339638 11.54339638 11.54339638 11.54339638  8.65544145  8.65544145\n",
      "  8.65544145  8.65544145 11.54339638 11.54339638 11.54339638  8.65544145\n",
      "  8.65544145  8.65544145  8.65544145 11.54339638  8.65544145  8.65544145\n",
      "  8.65544145 11.54339638  8.65544145  8.65544145 11.54339638 14.43086969\n",
      " 14.43086969  8.65544145  8.65544145  8.65544145 17.31810228  8.65544145\n",
      " 14.43086969 11.54339638 14.43086969 11.54339638 11.54339638 11.54339638\n",
      " 11.54339638 14.43086969 11.54339638  8.65544145  8.65544145  8.65544145\n",
      "  8.65544145  8.65544145 11.54339638  8.65544145 14.43086969 14.43086969\n",
      " 11.54339638 14.43086969 11.54339638 11.54339638 14.43086969 14.43086969\n",
      " 11.54339638 14.43086969 14.43086969 11.54339638 14.43086969 11.54339638\n",
      " 11.54339638  8.65544145 14.43086969  8.65544145 14.43086969 17.31810228\n",
      "  8.65544145  8.65544145  8.65544145  8.65544145 14.43086969  8.65544145\n",
      "  8.65544145 11.54339638 14.43086969  8.65544145 11.54339638 14.43086969\n",
      " 11.54339638 11.54339638 14.43086969  8.65544145 11.54339638  8.65544145\n",
      " 17.31810228  8.65544145 11.54339638 14.43086969 11.54339638 11.54339638\n",
      "  8.65544145 14.43086969 11.54339638  8.65544145 17.31810228 14.43086969\n",
      " 17.31810228  8.65544145 11.54339638 14.43086969 11.54339638  8.65544145\n",
      " 11.54339638 11.54339638  8.65544145 11.54339638  8.65544145 14.43086969\n",
      "  8.65544145 11.54339638 17.31810228 11.54339638  8.65544145 11.54339638\n",
      " 11.54339638 11.54339638  8.65544145  8.65544145 11.54339638 14.43086969\n",
      " 14.43086969 11.54339638 11.54339638  8.65544145  8.65544145 11.54339638\n",
      " 11.54339638  8.65544145  8.65544145 11.54339638 14.43086969  8.65544145\n",
      " 14.43086969 17.31810228 14.43086969  8.65544145 11.54339638 11.54339638\n",
      "  8.65544145 11.54339638  8.65544145  8.65544145 11.54339638 11.54339638\n",
      " 14.43086969  8.65544145  8.65544145 14.43086969  8.65544145  8.65544145\n",
      " 14.43086969 11.54339638 11.54339638  8.65544145 11.54339638 14.43086969\n",
      " 14.43086969  8.65544145 14.43086969 11.54339638  8.65544145 11.54339638\n",
      "  8.65544145 11.54339638  8.65544145  8.65544145 11.54339638 14.43086969\n",
      " 14.43086969 11.54339638 11.54339638  8.65544145 11.54339638 11.54339638\n",
      "  8.65544145  8.65544145  8.65544145 11.54339638  8.65544145 14.43086969\n",
      " 17.31810228 14.43086969 11.54339638  8.65544145  8.65544145 11.54339638\n",
      "  8.65544145 11.54339638  8.65544145  8.65544145  8.65544145  8.65544145\n",
      "  8.65544145 11.54339638 11.54339638 11.54339638 11.54339638 17.31810228\n",
      "  8.65544145  8.65544145 11.54339638  8.65544145 11.54339638  8.65544145\n",
      " 11.54339638 11.54339638 11.54339638 14.43086969 11.54339638 14.43086969\n",
      "  8.65544145 11.54339638  8.65544145  8.65544145 14.43086969  8.65544145\n",
      "  8.65544145 11.54339638  8.65544145 11.54339638 11.54339638 14.43086969\n",
      "  8.65544145  8.65544145  8.65544145 14.43086969 14.43086969  8.65544145\n",
      " 11.54339638 11.54339638 14.43086969 11.54339638 11.54339638 14.43086969\n",
      " 11.54339638 11.54339638  8.65544145 11.54339638  8.65544145  8.65544145\n",
      "  8.65544145 11.54339638  8.65544145  8.65544145  8.65544145 14.43086969\n",
      "  8.65544145  8.65544145  8.65544145 11.54339638  8.65544145  8.65544145\n",
      " 11.54339638 11.54339638 11.54339638  8.65544145  8.65544145  8.65544145\n",
      " 17.31810228  8.65544145  8.65544145  8.65544145  8.65544145 14.43086969\n",
      "  8.65544145 14.43086969  8.65544145  8.65544145 11.54339638 14.43086969\n",
      "  8.65544145  8.65544145  8.65544145 11.54339638 11.54339638  8.65544145\n",
      " 11.54339638 17.31810228  8.65544145  8.65544145  8.65544145 11.54339638\n",
      "  8.65544145  8.65544145  8.65544145]\n",
      "(669, 1728)\n",
      "(168, 1728)\n",
      "(669,)\n",
      "(168,)\n"
     ]
    }
   ],
   "source": [
    "\n",
    "\n",
    "# x_path = '../../data/npy/x_random_l3_6.npy'\n",
    "x_path = '../../data/npy/x_random_l3_6_dv.npy'\n",
    "# x_path = '../../data/npy/x_random_6_diffseq_mean_l3.npy'\n",
    "# x_path = '../../data/npy/x_random_6_diffseq_mean_l3_3.npy'\n",
    "\n",
    "# y_path = '../../data/npy/y_random_l3_6.npy'\n",
    "y_path = '../../data/npy/y_random_l3_6_dv.npy'\n",
    "# y_path = '../../data/npy/y_random_6_diffseq_mean_l3.npy'\n",
    "# y_path = '../../data/npy/y_random_6_diffseq_mean_l3_3.npy'\n",
    "\n",
    "# l3\n",
    "x_l3_mean_fullPath = os.path.abspath('../../data/npy/x_random_l3_6_mean.npy')\n",
    "x_l3_rb_fullPath = os.path.abspath('../../data/npy/x_random_l3_6_rb.npy')\n",
    "x_l3_dv_fullPath = os.path.abspath('../../data/npy/x_random_l3_6_dv.npy')\n",
    "x_l3_mean_path = tf.keras.utils.get_file('x_random_l3_6_mean.npy', 'file://'+x_l3_mean_fullPath)\n",
    "x_l3_rb_path = tf.keras.utils.get_file('x_random_l3_6_mean.npy', 'file://'+x_l3_rb_fullPath)\n",
    "x_l3_dv_path = tf.keras.utils.get_file('x_random_l3_6_mean.npy', 'file://'+x_l3_dv_fullPath)\n",
    "\n",
    "y_l3_mean_fullPath = os.path.abspath('../../data/npy/y_random_l3_6_mean.npy')\n",
    "y_l3_rb_fullPath = os.path.abspath('../../data/npy/y_random_l3_6_rb.npy')\n",
    "y_l3_dv_fullPath = os.path.abspath('../../data/npy/y_random_l3_6_dv.npy')\n",
    "y_l3_mean_path = tf.keras.utils.get_file('y_random_l3_6_mean.npy', 'file://'+y_l3_mean_fullPath)\n",
    "y_l3_rb_path = tf.keras.utils.get_file('y_random_l3_6_rb.npy', 'file://'+y_l3_rb_fullPath)\n",
    "y_l3_dv_path = tf.keras.utils.get_file('y_random_l3_6_dv.npy', 'file://'+y_l3_dv_fullPath)\n",
    "\n",
    "\n",
    "x_data = np.load(x_l3_dv_path)\n",
    "y_data = np.load(y_l3_dv_path, allow_pickle=True)\n",
    "\n",
    "print(len(y_data))\n",
    "print(y_data)\n",
    "\n",
    "# min_val = y_data.min()\n",
    "# max_val = y_data.max()\n",
    "\n",
    "# y_data = (y_data - min_val)/(max_val - min_val)\n",
    "\n",
    "x_train, x_test, y_train, y_test = train_test_split(x_data, y_data, test_size=0.2)\n",
    "\n",
    "print(x_train.shape)\n",
    "print(x_test.shape)\n",
    "print(y_train.shape)\n",
    "print(y_test.shape)"
   ]
  },
  {
   "attachments": {},
   "cell_type": "markdown",
   "metadata": {},
   "source": [
    "## Set my model\n",
    "- input_shape は入力データのサイズ。\n",
    "- モデルの定義方法は調べればたくさん出てきますが、例えばここ： https://sinyblog.com/deaplearning/keras_how_to/ \n",
    "- 最後の層の出力は、期待する出力データのサイズ\n",
    "- [model](https://github.com/si-tm/docs-l30n/blob/master/site/ja/tutorials/quickstart/beginner.py)"
   ]
  },
  {
   "cell_type": "code",
   "execution_count": 25,
   "metadata": {
    "scrolled": true
   },
   "outputs": [],
   "source": [
    "def build_model():\n",
    "    \n",
    "    model = tf.keras.models.Sequential([\n",
    "    tf.keras.layers.Flatten(input_shape=(x_train.shape[1],)),\n",
    "    tf.keras.layers.Dense(128, activation='relu'), # units=128 : 出力空間の次元数\n",
    "    tf.keras.layers.Dropout(0.2), # 入力にドロップアウトを適用する rate=0.2 : 入力ユニットをドロップする割合\n",
    "    tf.keras.layers.Dense(1) \n",
    "    ])\n",
    "\n",
    "    optimizer = tf.keras.optimizers.Adam() # optimizers も Adam 以外に色々種類があります。調べてみてください！\n",
    "\n",
    "    model.compile(loss='mse',\n",
    "                optimizer=optimizer,\n",
    "                metrics=['mae', 'mse']) # loss 関数に何を採用するかはどんな問題を解きたいのかによります。\n",
    "                                        #ここでは MSE を採用していますが、他にも色々な選択肢があります。調べてみてください！\n",
    "    return model"
   ]
  },
  {
   "cell_type": "code",
   "execution_count": 26,
   "metadata": {
    "scrolled": true
   },
   "outputs": [],
   "source": [
    "model = build_model()"
   ]
  },
  {
   "cell_type": "code",
   "execution_count": 27,
   "metadata": {
    "scrolled": true
   },
   "outputs": [
    {
     "name": "stdout",
     "output_type": "stream",
     "text": [
      "Model: \"sequential_2\"\n",
      "_________________________________________________________________\n",
      " Layer (type)                Output Shape              Param #   \n",
      "=================================================================\n",
      " flatten_2 (Flatten)         (None, 1728)              0         \n",
      "                                                                 \n",
      " dense_4 (Dense)             (None, 128)               221312    \n",
      "                                                                 \n",
      " dropout_2 (Dropout)         (None, 128)               0         \n",
      "                                                                 \n",
      " dense_5 (Dense)             (None, 1)                 129       \n",
      "                                                                 \n",
      "=================================================================\n",
      "Total params: 221,441\n",
      "Trainable params: 221,441\n",
      "Non-trainable params: 0\n",
      "_________________________________________________________________\n"
     ]
    }
   ],
   "source": [
    "model.summary()"
   ]
  },
  {
   "cell_type": "code",
   "execution_count": 28,
   "metadata": {
    "scrolled": true
   },
   "outputs": [
    {
     "name": "stdout",
     "output_type": "stream",
     "text": [
      "(10, 1728)\n",
      "1/1 [==============================] - 0s 34ms/step\n"
     ]
    }
   ],
   "source": [
    "example_batch = x_train[:10]\n",
    "print(example_batch.shape)\n",
    "example_result = model.predict(example_batch)\n",
    "# example_result"
   ]
  },
  {
   "cell_type": "code",
   "execution_count": 29,
   "metadata": {},
   "outputs": [
    {
     "name": "stdout",
     "output_type": "stream",
     "text": [
      "[[-0.03622182]\n",
      " [-0.08632724]\n",
      " [-0.12331301]\n",
      " [ 0.00279675]\n",
      " [-0.06856211]\n",
      " [-0.08125892]\n",
      " [-0.10710268]\n",
      " [-0.09160622]\n",
      " [-0.08354578]\n",
      " [-0.10248978]]\n"
     ]
    }
   ],
   "source": [
    "print(example_result)"
   ]
  },
  {
   "cell_type": "code",
   "execution_count": 30,
   "metadata": {
    "scrolled": true
   },
   "outputs": [
    {
     "name": "stdout",
     "output_type": "stream",
     "text": [
      "\n",
      "....................................................................................................\n",
      "....................................................................................................\n",
      "....................................................................................................\n",
      "...................................................................................................."
     ]
    }
   ],
   "source": [
    "# エポックが終わるごとにドットを一つ出力することで進捗を表示\n",
    "class PrintDot(tf.keras.callbacks.Callback):\n",
    "    def on_epoch_end(self, epoch, logs):\n",
    "        if epoch % 100 == 0: print('')\n",
    "        print('.', end='')\n",
    "\n",
    "# early_stop = keras.callbacks.EarlyStopping(monitor='val_loss', patience=10)\n",
    "EPOCHS = 400 # epoch 数も考慮しよう\n",
    "# EPOCHS = 100 # epoch 数も考慮しよう\n",
    "\n",
    "history = model.fit(\n",
    "    x_train, y_train,\n",
    "    epochs=EPOCHS, validation_split = 0.2, verbose=0,\n",
    "    callbacks=[PrintDot()]\n",
    ")"
   ]
  },
  {
   "cell_type": "code",
   "execution_count": 31,
   "metadata": {
    "scrolled": true
   },
   "outputs": [
    {
     "data": {
      "text/html": [
       "<div>\n",
       "<style scoped>\n",
       "    .dataframe tbody tr th:only-of-type {\n",
       "        vertical-align: middle;\n",
       "    }\n",
       "\n",
       "    .dataframe tbody tr th {\n",
       "        vertical-align: top;\n",
       "    }\n",
       "\n",
       "    .dataframe thead th {\n",
       "        text-align: right;\n",
       "    }\n",
       "</style>\n",
       "<table border=\"1\" class=\"dataframe\">\n",
       "  <thead>\n",
       "    <tr style=\"text-align: right;\">\n",
       "      <th></th>\n",
       "      <th>loss</th>\n",
       "      <th>mae</th>\n",
       "      <th>mse</th>\n",
       "      <th>val_loss</th>\n",
       "      <th>val_mae</th>\n",
       "      <th>val_mse</th>\n",
       "      <th>epoch</th>\n",
       "    </tr>\n",
       "  </thead>\n",
       "  <tbody>\n",
       "    <tr>\n",
       "      <th>395</th>\n",
       "      <td>0.482709</td>\n",
       "      <td>0.541166</td>\n",
       "      <td>0.482709</td>\n",
       "      <td>7.932635</td>\n",
       "      <td>2.215187</td>\n",
       "      <td>7.932635</td>\n",
       "      <td>395</td>\n",
       "    </tr>\n",
       "    <tr>\n",
       "      <th>396</th>\n",
       "      <td>0.477761</td>\n",
       "      <td>0.539676</td>\n",
       "      <td>0.477761</td>\n",
       "      <td>7.268316</td>\n",
       "      <td>2.129314</td>\n",
       "      <td>7.268316</td>\n",
       "      <td>396</td>\n",
       "    </tr>\n",
       "    <tr>\n",
       "      <th>397</th>\n",
       "      <td>0.481037</td>\n",
       "      <td>0.528034</td>\n",
       "      <td>0.481037</td>\n",
       "      <td>7.645016</td>\n",
       "      <td>2.175116</td>\n",
       "      <td>7.645016</td>\n",
       "      <td>397</td>\n",
       "    </tr>\n",
       "    <tr>\n",
       "      <th>398</th>\n",
       "      <td>0.446382</td>\n",
       "      <td>0.512577</td>\n",
       "      <td>0.446382</td>\n",
       "      <td>7.571178</td>\n",
       "      <td>2.166010</td>\n",
       "      <td>7.571178</td>\n",
       "      <td>398</td>\n",
       "    </tr>\n",
       "    <tr>\n",
       "      <th>399</th>\n",
       "      <td>0.472227</td>\n",
       "      <td>0.539459</td>\n",
       "      <td>0.472227</td>\n",
       "      <td>7.665671</td>\n",
       "      <td>2.176793</td>\n",
       "      <td>7.665671</td>\n",
       "      <td>399</td>\n",
       "    </tr>\n",
       "  </tbody>\n",
       "</table>\n",
       "</div>"
      ],
      "text/plain": [
       "         loss       mae       mse  val_loss   val_mae   val_mse  epoch\n",
       "395  0.482709  0.541166  0.482709  7.932635  2.215187  7.932635    395\n",
       "396  0.477761  0.539676  0.477761  7.268316  2.129314  7.268316    396\n",
       "397  0.481037  0.528034  0.481037  7.645016  2.175116  7.645016    397\n",
       "398  0.446382  0.512577  0.446382  7.571178  2.166010  7.571178    398\n",
       "399  0.472227  0.539459  0.472227  7.665671  2.176793  7.665671    399"
      ]
     },
     "execution_count": 31,
     "metadata": {},
     "output_type": "execute_result"
    }
   ],
   "source": [
    "hist = pd.DataFrame(history.history)\n",
    "hist['epoch'] = history.epoch\n",
    "hist.tail()"
   ]
  },
  {
   "cell_type": "code",
   "execution_count": 32,
   "metadata": {
    "scrolled": true
   },
   "outputs": [
    {
     "data": {
      "image/png": "[encoded data removed]",
      "text/plain": [
       "<Figure size 640x480 with 1 Axes>"
      ]
     },
     "metadata": {},
     "output_type": "display_data"
    },
    {
     "data": {
      "image/png": "[encoded data removed]",
      "text/plain": [
       "<Figure size 640x480 with 1 Axes>"
      ]
     },
     "metadata": {},
     "output_type": "display_data"
    }
   ],
   "source": [
    "def plot_history(history):\n",
    "    hist = pd.DataFrame(history.history)\n",
    "    hist['epoch'] = history.epoch\n",
    "\n",
    "    plt.figure()\n",
    "    plt.xlabel('Epoch')\n",
    "    plt.ylabel('Mean Abs Error [mc]')\n",
    "    plt.plot(hist['epoch'], hist['mae'], label='Train Error')\n",
    "    plt.plot(hist['epoch'], hist['val_mae'], label = 'Val Error')\n",
    "    plt.ylim([0,30])\n",
    "    plt.legend()\n",
    "\n",
    "    plt.figure()\n",
    "    plt.xlabel('Epoch')\n",
    "    plt.ylabel('Mean Square Error [$mc^2$]')\n",
    "    plt.plot(hist['epoch'], hist['mse'], label='Train Error')\n",
    "    plt.plot(hist['epoch'], hist['val_mse'], label = 'Val Error')\n",
    "    plt.ylim([0,3])\n",
    "    plt.legend()\n",
    "    plt.show()\n",
    "\n",
    "\n",
    "plot_history(history)"
   ]
  },
  {
   "cell_type": "code",
   "execution_count": 34,
   "metadata": {
    "scrolled": true
   },
   "outputs": [
    {
     "name": "stdout",
     "output_type": "stream",
     "text": [
      "6/6 [==============================] - 0s 2ms/step\n"
     ]
    },
    {
     "data": {
      "text/plain": [
       "[<matplotlib.lines.Line2D at 0x7fb720db5340>]"
      ]
     },
     "execution_count": 34,
     "metadata": {},
     "output_type": "execute_result"
    },
    {
     "data": {
      "image/png": "[encoded data removed]",
      "text/plain": [
       "<Figure size 600x600 with 1 Axes>"
      ]
     },
     "metadata": {},
     "output_type": "display_data"
    }
   ],
   "source": [
    "test_predictions = model.predict(x_test).flatten()\n",
    "res = linregress(y_test, test_predictions)\n",
    "\n",
    "plt.figure(figsize=(6,6))\n",
    "plt.scatter(y_test, test_predictions)\n",
    "# plt.xlabel('True Values [mc]')\n",
    "# plt.ylabel('Predictions [mc]')\n",
    "plt.xlabel('True Values of volume')\n",
    "plt.ylabel('Predictions of volume')\n",
    "plt.axis('equal')\n",
    "plt.axis('square')\n",
    "plt.xlim([0,20])\n",
    "plt.ylim([0,20])\n",
    "_ = plt.plot([0,20], [0,20])\n",
    "\n",
    "plt.plot([0,20], res.intercept + res.slope*np.array([0, 20]), 'r', label='fitted line')\n",
    "\n",
    "# normalizer 学習前"
   ]
  },
  {
   "cell_type": "code",
   "execution_count": 14,
   "metadata": {
    "scrolled": true
   },
   "outputs": [
    {
     "name": "stdout",
     "output_type": "stream",
     "text": [
      "INFO:tensorflow:Assets written to: ../saved_model/random_l1_6_dev_model/assets\n"
     ]
    }
   ],
   "source": [
    "# トレーニングした model をどこかで使用したいなら以下のようにモデルを保存する\n",
    "# model.save('../saved_model/random_l3_6_dev_model')"
   ]
  },
  {
   "cell_type": "code",
   "execution_count": 15,
   "metadata": {},
   "outputs": [],
   "source": [
    "mse = tf.keras.losses.MeanSquaredError()"
   ]
  },
  {
   "cell_type": "markdown",
   "metadata": {},
   "source": []
  },
  {
   "cell_type": "code",
   "execution_count": 16,
   "metadata": {},
   "outputs": [
    {
     "data": {
      "text/plain": [
       "0.13129348"
      ]
     },
     "execution_count": 16,
     "metadata": {},
     "output_type": "execute_result"
    }
   ],
   "source": [
    "mse(y_test,test_predictions).numpy()"
   ]
  },
  {
   "cell_type": "code",
   "execution_count": null,
   "metadata": {},
   "outputs": [],
   "source": [
    "test_predictions.rank"
   ]
  },
  {
   "cell_type": "markdown",
   "metadata": {},
   "source": []
  }
 ],
 "metadata": {
  "kernelspec": {
   "display_name": "base",
   "language": "python",
   "name": "python3"
  },
  "language_info": {
   "codemirror_mode": {
    "name": "ipython",
    "version": 3
   },
   "file_extension": ".py",
   "mimetype": "text/x-python",
   "name": "python",
   "nbconvert_exporter": "python",
   "pygments_lexer": "ipython3",
   "version": "3.9.16"
  },
  "vscode": {
   "interpreter": {
    "hash": "5e5f6d9a7f82cd92f07e7938d008a685454462d5ce7385d96edcda5cc017265d"
   }
  }
 },
 "nbformat": 4,
 "nbformat_minor": 4
}

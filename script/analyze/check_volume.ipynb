{
 "cells": [
  {
   "cell_type": "code",
   "execution_count": null,
   "metadata": {},
   "outputs": [],
   "source": []
  },
  {
   "cell_type": "markdown",
   "metadata": {},
   "source": [
    "../input/results/oxdna_random_6/L1/d-2-14/L1_d-2-14_2023-01-30-194808/L1_d-2-14_2023-01-30-194808/  \n",
    "{'ratio_of_volume': 1.0, 'mean_volume': 6.4863029958777645, 'deviation_of_volume': 5.766281297335398}  \n",
    "../input/results/oxdna_random_6/L1/d-7-15/L1_d-7-15_2023-01-30-063234/L1_d-7-15_2023-01-30-063234/  \n",
    "{'ratio_of_volume': 0.95, 'mean_volume': 210.06664569316092, 'deviation_of_volume': 5.820491074083896}  \n",
    "\n",
    "I would like to check this results  "
   ]
  },
  {
   "cell_type": "code",
   "execution_count": 14,
   "metadata": {},
   "outputs": [
    {
     "name": "stdout",
     "output_type": "stream",
     "text": [
      "README.md              convexhull_volume.pyc  \u001b[31moutput_bonds.sh\u001b[m\u001b[m*\n",
      "\u001b[34m__pycache__\u001b[m\u001b[m/           get_conf_data.py       readers.py\n",
      "base.py                get_top_data.py        readers.pyc\n",
      "base.pyc               model.h                rna_model.h\n",
      "convexhull_volume.py   \u001b[31moutput_bonds.py\u001b[m\u001b[m*       run_output_bonds.py\n"
     ]
    }
   ],
   "source": [
    "ls measuring_volume"
   ]
  },
  {
   "cell_type": "code",
   "execution_count": 15,
   "metadata": {},
   "outputs": [],
   "source": [
    "import sys\n",
    "sys.path.append(\"measuring_volume\")\n",
    "import convexhull_volume as cv\n",
    "import get_top_data as gtd"
   ]
  },
  {
   "cell_type": "markdown",
   "metadata": {},
   "source": []
  },
  {
   "cell_type": "code",
   "execution_count": 16,
   "metadata": {},
   "outputs": [
    {
     "name": "stdout",
     "output_type": "stream",
     "text": [
      "../input/results/oxdna_random_6/L1/d-2-14/L1_d-2-14_2023-01-30-194808//L1_d-2-14_2023-01-30-194808 : mean volume is 6.4863029958777645\n",
      "../input/results/oxdna_random_6/L1/d-2-14/L1_d-2-14_2023-01-30-194808//L1_d-2-14_2023-01-30-194808 : number of strands is 20.0\n",
      "7.805962240200899\n",
      "20.0\n",
      "20.0\n"
     ]
    }
   ],
   "source": [
    "target_dir1 = \"../input/results/oxdna_random_6/L1/d-2-14/L1_d-2-14_2023-01-30-194808//L1_d-2-14_2023-01-30-194808\"\n",
    "cv.convexhull_volume_all_strands(target_dir1)\n",
    "cv.convexhull_volume_all_strands_meandev(target_dir1)\n",
    "strands2particle, particle2strand = gtd.get_particle_strands_data(target_dir1)\n",
    "print(float(len(strands2particle)))"
   ]
  },
  {
   "cell_type": "code",
   "execution_count": 17,
   "metadata": {},
   "outputs": [
    {
     "name": "stdout",
     "output_type": "stream",
     "text": [
      "../input/results/oxdna_random_6/L1/d-7-15/L1_d-7-15_2023-01-30-063234/L1_d-7-15_2023-01-30-063234 : mean volume is 210.06664569316092\n",
      "../input/results/oxdna_random_6/L1/d-7-15/L1_d-7-15_2023-01-30-063234/L1_d-7-15_2023-01-30-063234 : number of strands is 19.0\n",
      "4.096138463907446\n",
      "19.0\n",
      "19.0\n"
     ]
    }
   ],
   "source": [
    "target_dir2 = \"../input/results/oxdna_random_6/L1/d-7-15/L1_d-7-15_2023-01-30-063234/L1_d-7-15_2023-01-30-063234\"\n",
    "cv.convexhull_volume_all_strands(target_dir2)\n",
    "cv.convexhull_volume_all_strands_meandev(target_dir2)\n",
    "strands2particle, particle2strand = gtd.get_particle_strands_data(target_dir2)\n",
    "print(float(len(strands2particle)))"
   ]
  },
  {
   "cell_type": "code",
   "execution_count": 18,
   "metadata": {},
   "outputs": [],
   "source": [
    "import numpy as np\n",
    "import matplotlib.pylab as plt\n",
    "import sys\n",
    "sys.path.append('../')\n",
    "sys.path.append('.')\n",
    "sys.path.append('measuring_volume/')\n",
    "sys.path.append('common/')\n",
    "import get_target_file as gtf\n",
    "from mpl_toolkits.mplot3d import Axes3D\n",
    "import get_top_data as gtd\n",
    "import get_conf_data as gcd\n",
    "from scipy.spatial import ConvexHull\n",
    "# import k3d\n",
    "import statistics\n",
    "import math\n",
    "\n",
    "def get_all_r(target_dir):\n",
    "    conf_name = gtf.get_conf(target_dir)\n",
    "    conf_f = open(conf_name, \"r\")\n",
    "    col = 0\n",
    "\n",
    "\n",
    "    x = []\n",
    "    y = []\n",
    "    z = []\n",
    "    for l in conf_f:\n",
    "        col += 1\n",
    "        if col > 3:\n",
    "            rx = float(l.split(\" \")[0])\n",
    "            ry = float(l.split(\" \")[1])\n",
    "            rz = float(l.split(\" \")[2])\n",
    "            x.append(rx)\n",
    "            y.append(ry)\n",
    "            z.append(rz)\n",
    "\n",
    "    conf_f.close()\n",
    "    return x, y, z\n",
    "\n",
    "def translate_strand(points, box=100):\n",
    "    # type of points is [[cm_pos_x, cm_pos_y, cm_pos_z]]\n",
    "    # 2.translate(np.rint((s1.cm_pos - s2.cm_pos - diff1 + diff2) / self._box) * self._box)\n",
    "    # diff1 = np.rint(s1.cm_pos / self._box ) * self._box\n",
    "\n",
    "    for index, p in enumerate(points):\n",
    "        if index == 0:\n",
    "            plst = np.array(p)\n",
    "            first_diff = np.rint(plst/box) * box\n",
    "            first_p = plst\n",
    "        else:\n",
    "            plst = np.array(p)\n",
    "            tmp_diff = np.rint(plst/box) * box\n",
    "            p += np.rint((first_p - plst - first_diff + tmp_diff) / box) * box\n",
    "\n",
    "\n",
    "\n",
    "\n",
    "def get_r(target_dir, strands):\n",
    "\n",
    "    target_strands = list(strands)\n",
    "    conf_dic = gcd.get_conf_data(target_dir)\n",
    "\n",
    "\n",
    "    x = []\n",
    "    y = []\n",
    "    z = []\n",
    "\n",
    "    for particle_id in target_strands:\n",
    "        x.append(conf_dic[particle_id][\"rx\"])\n",
    "        y.append(conf_dic[particle_id][\"ry\"])\n",
    "        z.append(conf_dic[particle_id][\"rz\"])\n",
    "    \n",
    "    return x, y, z\n",
    "\n",
    "def convexhull_volume(x, y, z):\n",
    "    points = []\n",
    "    for i in range(len(x)):\n",
    "        lst = [x[i], y[i], z[i]]\n",
    "        points.append(lst)\n",
    "    \n",
    "    print(points)\n",
    "    # 追加\n",
    "#     points = np.mod(points, 100)\n",
    "    box = 100\n",
    "    \n",
    "    hull = ConvexHull(points)\n",
    "\n",
    "    points = np.array(points)\n",
    "\n",
    "\n",
    "\n",
    "    fig = plt.figure()\n",
    "    ax = fig.add_subplot(111, projection=\"3d\")\n",
    "\n",
    "    # Plot defining corner points\n",
    "    ax.plot(points.T[0], points.T[1], points.T[2], \"ko\")\n",
    "    # ax.plot(x, y, z, \"ko\")\n",
    "\n",
    "    # 12 = 2 * 6 faces are the simplices (2 simplices per square face)\n",
    "    for s in hull.simplices:\n",
    "        s = np.append(s, s[0])  # Here we cycle back to the first coordinate\n",
    "        ax.plot(points[s, 0], points[s, 1], points[s, 2], \"r-\")\n",
    "        # ax.plot(x, y, z, \"r-\")\n",
    "\n",
    "    # Make axis label\n",
    "    for i in [\"x\", \"y\", \"z\"]:\n",
    "        eval(\"ax.set_{:s}label('{:s}')\".format(i, i))\n",
    "\n",
    "    plt.show()\n",
    "\n",
    "    \n",
    "    return hull.volume\n",
    "    \n",
    "def plot(X, Y, Z, target_dir):\n",
    "    fig = plt.figure()\n",
    "    ax = fig.add_subplot(projection='3d')\n",
    "    ax.scatter(X, Y, Z)\n",
    "    plt.show()\n",
    "\n",
    "def convexhull_volume_all_strands(target_dir):\n",
    "    strands2particle, particle2strand = gtd.get_particle_strands_data(target_dir)\n",
    "\n",
    "    volumes = {}\n",
    "\n",
    "    for strand in strands2particle:\n",
    "        x, y, z = get_r(target_dir, strands2particle[strand])\n",
    "        volumes[strand] = convexhull_volume(x, y, z)\n",
    "        # plot(x, y, z, target_dir)\n",
    "    \n",
    "    mean_volume = 0.0\n",
    "    num_of_strands = float(len(strands2particle))\n",
    "\n",
    "    for strand in volumes:\n",
    "        # print(volumes[strand])\n",
    "        mean_volume += volumes[strand]\n",
    "    \n",
    "    mean_volume /= num_of_strands\n",
    "    print(target_dir + \" : mean volume is \" + str(mean_volume))\n",
    "    print(target_dir + \" : number of strands is \" + str(num_of_strands))\n",
    "    return mean_volume\n",
    "\n",
    "def convexhull_volume_all_strands_meandev(target_dir):\n",
    "    strands2particle, particle2strand = gtd.get_particle_strands_data(target_dir)\n",
    "\n",
    "    volumes = {}\n",
    "\n",
    "    for strand in strands2particle:\n",
    "        x, y, z = get_r(target_dir, strands2particle[strand])\n",
    "        volumes[strand] = convexhull_volume(x, y, z)\n",
    "        #         print(x, y, z)\n",
    "        # plot(x, y, z, target_dir)\n",
    "    \n",
    "    print(volumes)\n",
    "    \n",
    "    mean_volume = 0.0\n",
    "    num_of_strands = float(len(strands2particle))\n",
    "\n",
    "    for strand in volumes:\n",
    "        mean_volume += volumes[strand]\n",
    "    \n",
    "    mean_volume /= num_of_strands\n",
    "    dev_volume = statistics.pstdev(volumes)\n",
    "    print(num_of_strands)\n",
    "\n",
    "    return mean_volume, dev_volume\n",
    "\n",
    "\n"
   ]
  },
  {
   "cell_type": "code",
   "execution_count": 19,
   "metadata": {},
   "outputs": [
    {
     "name": "stdout",
     "output_type": "stream",
     "text": [
      "[[167.491879563092, -9.40455397662559, 24.5214205372287], [166.824905465035, -8.93224617621311, 24.6619086284744], [166.374868514815, -9.06303413587304, 24.9572867034575], [166.676843174772, -8.5347512152448, 24.9734622062313], [167.131223978396, -8.40213015383009, 25.1296545566318], [167.445448237781, -8.31897626900663, 25.4524939964067], [166.714901400508, -8.01600732084819, 25.9080930739791], [166.896727566488, -7.45701218501478, 25.6699341224976], [167.123067305771, -6.99074145621556, 25.6028492802924], [167.554539601408, -6.74481220088791, 25.4738563964714], [168.050295235092, -6.66976918610344, 25.3034421832236], [167.939657803121, -6.17301500428569, 24.4261079587713], [167.952128827766, -6.48170018061958, 24.3908092124593], [168.111280016005, -6.93407976392092, 24.5424262988704], [168.109885223079, -7.37151833516957, 24.8620945464866], [168.190142409892, -7.69795672689818, 25.3333811052954], [168.067416054982, -7.72196989372388, 25.9120523354281], [167.72539140598, -7.7075014859618, 26.3633930951893], [167.524717240922, -8.43204397185657, 27.2121106675273], [166.894634954791, -7.59638855196266, 26.9778403988682]]\n"
     ]
    },
    {
     "ename": "TypeError",
     "evalue": "unsupported operand type(s) for /: 'list' and 'int'",
     "output_type": "error",
     "traceback": [
      "\u001b[0;31m---------------------------------------------------------------------------\u001b[0m",
      "\u001b[0;31mTypeError\u001b[0m                                 Traceback (most recent call last)",
      "Cell \u001b[0;32mIn[19], line 1\u001b[0m\n\u001b[0;32m----> 1\u001b[0m convexhull_volume_all_strands_meandev(target_dir2)\n",
      "Cell \u001b[0;32mIn[18], line 131\u001b[0m, in \u001b[0;36mconvexhull_volume_all_strands_meandev\u001b[0;34m(target_dir)\u001b[0m\n\u001b[1;32m    129\u001b[0m \u001b[39mfor\u001b[39;00m strand \u001b[39min\u001b[39;00m strands2particle:\n\u001b[1;32m    130\u001b[0m     x, y, z \u001b[39m=\u001b[39m get_r(target_dir, strands2particle[strand])\n\u001b[0;32m--> 131\u001b[0m     volumes[strand] \u001b[39m=\u001b[39m convexhull_volume(x, y, z)\n\u001b[1;32m    132\u001b[0m     \u001b[39m#         print(x, y, z)\u001b[39;00m\n\u001b[1;32m    133\u001b[0m     \u001b[39m# plot(x, y, z, target_dir)\u001b[39;00m\n\u001b[1;32m    135\u001b[0m \u001b[39mprint\u001b[39m(volumes)\n",
      "Cell \u001b[0;32mIn[18], line 66\u001b[0m, in \u001b[0;36mconvexhull_volume\u001b[0;34m(x, y, z)\u001b[0m\n\u001b[1;32m     63\u001b[0m     \u001b[39m# 追加\u001b[39;00m\n\u001b[1;32m     64\u001b[0m \u001b[39m#     points = np.mod(points, 100)\u001b[39;00m\n\u001b[1;32m     65\u001b[0m     box \u001b[39m=\u001b[39m \u001b[39m100\u001b[39m\n\u001b[0;32m---> 66\u001b[0m     points \u001b[39m=\u001b[39m (points \u001b[39m/\u001b[39;49m box) \u001b[39m*\u001b[39m box\n\u001b[1;32m     68\u001b[0m     hull \u001b[39m=\u001b[39m ConvexHull(points)\n\u001b[1;32m     70\u001b[0m     points \u001b[39m=\u001b[39m np\u001b[39m.\u001b[39marray(points)\n",
      "\u001b[0;31mTypeError\u001b[0m: unsupported operand type(s) for /: 'list' and 'int'"
     ]
    }
   ],
   "source": [
    "convexhull_volume_all_strands_meandev(target_dir2)"
   ]
  },
  {
   "cell_type": "code",
   "execution_count": 39,
   "metadata": {},
   "outputs": [],
   "source": [
    "lst = [[96.6518314888424, -227.392072286216, 219.803277275761],\n",
    " [96.5452072329311, -227.190120531322, 220.24401646738],\n",
    " [96.8502487237835, -226.135694873475, 219.755073482845],\n",
    " [97.2485868444429, -226.147834659714, 219.424198893554],\n",
    " [97.329554600845, -225.853807714041, 218.991817076538],\n",
    " [97.7254510103363, -225.514993502087, 218.737878709592],\n",
    " [98.0387206841756, -225.110212797437, 218.767988172248],\n",
    " [98.4988166730302, -224.95130673137, 218.892231064315],\n",
    " [99.0468681108471, -224.851025756903, 218.895433328301],\n",
    " [99.6603193990761, -224.961411671824, 218.881514324423],\n",
    " [100.142956678409, -225.081177100267, 218.636170273363],\n",
    " [100.517575856033, -225.051403140247, 218.152239399471],\n",
    " [100.606870364209, -224.992508337628, 217.652953615376],\n",
    " [101.252718485089, -225.691310714448, 217.463493543791],\n",
    " [101.585519804945, -225.533005823739, 217.651442825199],\n",
    " [101.846358484485, -225.213175813547, 217.816470964865],\n",
    " [101.930490128441, -224.740750351131, 217.94069230943],\n",
    " [102.139422792698, -224.620638895751, 218.381344942305],\n",
    " [102.368259748101, -224.755885095941, 218.849774895617],\n",
    " [102.324052147393, -223.939748652477, 219.53022559266],\n",
    " [199.489127807409, 177.220808914266, 316.383838769977],\n",
    " [198.777119094293, 176.242769436341, 316.923143971852],\n",
    " [198.995259372871, 176.26198951281, 317.370476337845],\n",
    " [199.502056703995, 176.972160656934, 317.864336867841],\n",
    " [199.878433058766, 176.356885453373, 317.245736012956],\n",
    " [199.65160661812, 175.898520831043, 318.060671787543],\n",
    " [199.430723526655, 175.525841974302, 317.918502347712],\n",
    " [199.273338697072, 175.049998742355, 317.802915156943],\n",
    " [199.155997725213, 174.471739515377, 317.989162539842],\n",
    " [198.991330351767, 174.086298963222, 318.340303285739],\n",
    " [198.771725982412, 173.928405694356, 318.79420194709],\n",
    " [198.594270764397, 173.980029526168, 319.30075588847],\n",
    " [198.328653971525, 174.209619595546, 319.644163950024],\n",
    " [198.04110251874, 174.624712490993, 319.733820416899],\n",
    " [197.57951651398, 174.859503274299, 319.928263640322],\n",
    " [197.060257648537, 174.948437588954, 319.840396646307],\n",
    " [196.642961450098, 174.799607949156, 320.042225894988],\n",
    " [196.351150974153, 174.486514451996, 320.266276369638],\n",
    " [196.249676880215, 174.261128995387, 320.679837359277],\n",
    " [196.255869548483, 174.596328359795, 321.207938340279]]"
   ]
  },
  {
   "cell_type": "code",
   "execution_count": 33,
   "metadata": {},
   "outputs": [
    {
     "data": {
      "text/plain": [
       "array([[96.65183149, 72.60792771, 19.80327728],\n",
       "       [96.54520723, 72.80987947, 20.24401647],\n",
       "       [96.85024872, 73.86430513, 19.75507348],\n",
       "       [97.24858684, 73.85216534, 19.42419889],\n",
       "       [97.3295546 , 74.14619229, 18.99181708],\n",
       "       [97.72545101, 74.4850065 , 18.73787871],\n",
       "       [98.03872068, 74.8897872 , 18.76798817],\n",
       "       [98.49881667, 75.04869327, 18.89223106],\n",
       "       [99.04686811, 75.14897424, 18.89543333],\n",
       "       [99.6603194 , 75.03858833, 18.88151432],\n",
       "       [ 0.14295668, 74.9188229 , 18.63617027],\n",
       "       [ 0.51757586, 74.94859686, 18.1522394 ],\n",
       "       [ 0.60687036, 75.00749166, 17.65295362],\n",
       "       [ 1.25271849, 74.30868929, 17.46349354],\n",
       "       [ 1.5855198 , 74.46699418, 17.65144283],\n",
       "       [ 1.84635848, 74.78682419, 17.81647096],\n",
       "       [ 1.93049013, 75.25924965, 17.94069231],\n",
       "       [ 2.13942279, 75.3793611 , 18.38134494],\n",
       "       [ 2.36825975, 75.2441149 , 18.8497749 ],\n",
       "       [ 2.32405215, 76.06025135, 19.53022559],\n",
       "       [99.48912781, 77.22080891, 16.38383877],\n",
       "       [98.77711909, 76.24276944, 16.92314397],\n",
       "       [98.99525937, 76.26198951, 17.37047634],\n",
       "       [99.5020567 , 76.97216066, 17.86433687],\n",
       "       [99.87843306, 76.35688545, 17.24573601],\n",
       "       [99.65160662, 75.89852083, 18.06067179],\n",
       "       [99.43072353, 75.52584197, 17.91850235],\n",
       "       [99.2733387 , 75.04999874, 17.80291516],\n",
       "       [99.15599773, 74.47173952, 17.98916254],\n",
       "       [98.99133035, 74.08629896, 18.34030329],\n",
       "       [98.77172598, 73.92840569, 18.79420195],\n",
       "       [98.59427076, 73.98002953, 19.30075589],\n",
       "       [98.32865397, 74.2096196 , 19.64416395],\n",
       "       [98.04110252, 74.62471249, 19.73382042],\n",
       "       [97.57951651, 74.85950327, 19.92826364],\n",
       "       [97.06025765, 74.94843759, 19.84039665],\n",
       "       [96.64296145, 74.79960795, 20.04222589],\n",
       "       [96.35115097, 74.48651445, 20.26627637],\n",
       "       [96.24967688, 74.261129  , 20.67983736],\n",
       "       [96.25586955, 74.59632836, 21.20793834]])"
      ]
     },
     "execution_count": 33,
     "metadata": {},
     "output_type": "execute_result"
    }
   ],
   "source": [
    "np.mod(lst, 100)"
   ]
  },
  {
   "cell_type": "code",
   "execution_count": 22,
   "metadata": {},
   "outputs": [
    {
     "name": "stdout",
     "output_type": "stream",
     "text": [
      "[100. 100.   0.]\n"
     ]
    }
   ],
   "source": [
    "lst = [99.6603194 , 75.03858833, 18.88151432]\n",
    "lst = np.array(lst)\n",
    "print(np.rint(lst/100) * 100)"
   ]
  },
  {
   "cell_type": "code",
   "execution_count": null,
   "metadata": {},
   "outputs": [],
   "source": []
  }
 ],
 "metadata": {
  "kernelspec": {
   "display_name": "Python 3 (ipykernel)",
   "language": "python",
   "name": "python3"
  },
  "language_info": {
   "codemirror_mode": {
    "name": "ipython",
    "version": 3
   },
   "file_extension": ".py",
   "mimetype": "text/x-python",
   "name": "python",
   "nbconvert_exporter": "python",
   "pygments_lexer": "ipython3",
   "version": "3.10.4"
  },
  "vscode": {
   "interpreter": {
    "hash": "734ff201fc43812f869e2ea55fc775a1a5e6843a56fb1386be20bbe909d1abe9"
   }
  }
 },
 "nbformat": 4,
 "nbformat_minor": 2
}

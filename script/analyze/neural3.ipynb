{
 "cells": [
  {
   "cell_type": "code",
   "execution_count": 1,
   "metadata": {
    "scrolled": true
   },
   "outputs": [
    {
     "name": "stderr",
     "output_type": "stream",
     "text": [
      "2023-06-13 14:13:09.336169: I tensorflow/core/platform/cpu_feature_guard.cc:193] This TensorFlow binary is optimized with oneAPI Deep Neural Network Library (oneDNN) to use the following CPU instructions in performance-critical operations:  SSE4.1 SSE4.2\n",
      "To enable them in other operations, rebuild TensorFlow with the appropriate compiler flags.\n"
     ]
    },
    {
     "name": "stdout",
     "output_type": "stream",
     "text": [
      "TensorFlow version: 2.10.0\n"
     ]
    }
   ],
   "source": [
    "import tensorflow as tf\n",
    "print(\"TensorFlow version:\", tf.__version__)\n",
    "\n",
    "from tensorflow.keras.layers import Dense\n",
    "from tensorflow.keras import Model\n",
    "from tensorflow.keras import layers\n",
    "from tensorflow import keras\n",
    "import os\n",
    "import sys\n",
    "import matplotlib.pyplot as plt\n",
    "import pandas as pd\n",
    "import seaborn as sns\n",
    "import csv\n",
    "import pickle\n",
    "from scipy.stats import linregress\n",
    "from sklearn.model_selection import train_test_split\n",
    "from sklearn.model_selection import train_test_split\n",
    "from datetime import datetime\n",
    "import numpy as np\n",
    "from sklearn.preprocessing import Normalizer"
   ]
  },
  {
   "cell_type": "code",
   "execution_count": 3,
   "metadata": {},
   "outputs": [
    {
     "name": "stdout",
     "output_type": "stream",
     "text": [
      "/Users/hyakuzukamaya/Desktop/lab/judgement_system/script\n"
     ]
    }
   ],
   "source": [
    "cd .."
   ]
  },
  {
   "attachments": {},
   "cell_type": "markdown",
   "metadata": {},
   "source": [
    "## Loading a dataset"
   ]
  },
  {
   "attachments": {},
   "cell_type": "markdown",
   "metadata": {},
   "source": [
    "## Split into train data and test data as dataset\n",
    "- データセットとして使用するデータを取得する。\n",
    "- trainデータとtestデータに分割する。（例えば80%をtrainデータに、20%をtestデータに、など。）\n",
    "- 書き方はデータセットとして使用するデータの type による。もし、numpy の形で持っているならhttps://www.tensorflow.org/tutorials/load_data/numpy?hl=ja が参考になります。"
   ]
  },
  {
   "cell_type": "code",
   "execution_count": 4,
   "metadata": {
    "scrolled": true
   },
   "outputs": [
    {
     "name": "stdout",
     "output_type": "stream",
     "text": [
      "[81.75717984 71.65941225 73.36071694 74.59486076 74.18886587 75.28969818\n",
      " 78.17905737 70.24666812 69.45891147 70.66928379 72.38153153 74.88615512\n",
      " 74.62777576 75.44351163 70.57883192 76.96524603 78.86898754 79.62410297\n",
      " 74.88469404 74.4852573  85.04752364 73.29088743 78.3877519  71.72864106\n",
      " 71.36936091 75.3587049  80.3394017  74.96857571 78.40361308 71.74990286\n",
      " 69.20528967 73.75640951 76.29530953 77.49812357 78.56903897 74.78537322\n",
      " 77.54815098 74.43169559 74.2062597  73.18780943 71.23657538 68.70537632\n",
      " 74.99379326 76.14412122 74.39047458 71.42879968 80.33096126 79.1146863\n",
      " 72.99107749 78.73958767 63.5986374  78.00423104 71.06721523 78.27479096\n",
      " 75.56486089 73.28142168 73.94396379 76.05046169 74.22902072 71.33532686\n",
      " 78.73829771 81.84411629 76.72695433 71.96600068 69.74555463 71.55830513\n",
      " 77.94871633 74.24648196 77.00629656 74.29311097 69.73287812 70.12018929\n",
      " 69.98857063 76.66056971 80.84087478 77.71646308 76.36951913 79.11906634\n",
      " 78.17817632 74.91454604 81.34373391 67.42934475 67.84691778 73.55803991\n",
      " 69.98338525 83.05424762 83.62125488 77.19120394 70.5050473  74.13105997\n",
      " 78.00331884 78.70483929 71.89789023 71.00631121 74.07202194 82.63788722\n",
      " 79.20892611 76.10499173 70.92471804 72.06884029 70.05191949 76.853271\n",
      " 77.26608693 70.09879531 80.78350472 76.55642057 74.21545404 76.37263256\n",
      " 69.55791799 80.22542014 78.52490363 76.51950938 69.91985955 73.97945406\n",
      " 75.05085572 74.11166589 75.5650254  73.28618682 75.69476916 76.8175361\n",
      " 86.91597791 75.59805498 77.45199755 71.69606756 68.38877523 71.80805267\n",
      " 74.30589196 77.67727681 78.01380968 71.05980912 79.59200893 73.66527346\n",
      " 80.86366967 86.50538874 72.08426333 68.35277376 75.16970181 73.45894027\n",
      " 73.86036391 75.03550345 72.92816152 73.34125562 69.27745807 67.61327469\n",
      " 70.20579787 74.61213564 72.81837461 75.16282047 73.73638841 67.3003723\n",
      " 81.3111428  81.07849917 71.99524121 74.22516132 76.08762232 75.25887927\n",
      " 79.09195425 74.93889405 83.61713139 67.86800334 72.12511732 80.09075399\n",
      " 79.70247371 70.18774037 78.90372874 75.34830255 77.73167245 83.51295468\n",
      " 72.71783525 77.56410207 82.64179258 67.96872588 75.11275341 73.32746118\n",
      " 84.39534205 72.94026605 81.07699652 74.85988381 79.21482362 77.24645123\n",
      " 73.37149705 72.94646713 72.35578212 73.19876483 75.67261442 70.30681743\n",
      " 78.21544988 77.23505117 69.18677224 71.24411079 76.75341559 72.8653693\n",
      " 78.86704501 69.06524867 73.43736948 78.7350006  81.63287662 76.33657415\n",
      " 76.53433745 71.36785142 69.91377488 73.14128073 79.38372823 72.17249016\n",
      " 74.54926358 75.08098224 78.52022771 69.32069916 78.97942197 77.71479545\n",
      " 75.63043564 77.41298686 75.42280875 80.16182914 82.6505533  72.77906162\n",
      " 72.401552   78.08253905 82.60258639 78.59605275 72.75299721 80.59979423\n",
      " 75.04298717 75.43481092 72.91074289 74.10698171 76.39356107 79.4892858\n",
      " 76.15729253 86.29088893 75.67214266 72.5427332  77.01654182 84.4515015\n",
      " 73.02259218 75.36167887 73.95290566 77.80899822 74.08204236 76.86629014\n",
      " 79.42827287 82.04420586 76.63210167 74.90078968 86.70020887 74.40205442\n",
      " 78.37014514 74.23166767 81.31935964 80.50685885 74.81423211 77.51281777\n",
      " 76.36246761 76.80536486 77.73540563 77.44463859 74.71535026 71.39673463\n",
      " 72.12689601 65.80103883 82.88898588 74.95434238 74.66735047 79.67902716\n",
      " 71.74914578 73.61698317 70.39743588 74.47294354 77.37846496 80.51560379\n",
      " 71.61790994 83.37976553 74.07027981 79.06429017 73.63327699 71.58875919\n",
      " 74.18219894 74.83361055 76.21866815 77.26824229 74.24830937 75.8271255\n",
      " 76.92255024 75.10673903 78.27839641 74.47649837 68.36493668 71.85287232\n",
      " 77.18615817 72.92242947 70.97623639 80.61175019 86.76703357 75.37494974\n",
      " 74.23104308 70.45129017 70.97325883 79.92407906 73.44572713 73.23797328\n",
      " 75.04369165 82.78812324 70.25571201 76.19078242 76.46326747 73.62061101\n",
      " 71.47764248 71.53422467 67.42007408 70.46005477 80.60316447 76.5407954\n",
      " 74.85415075 67.98195622 73.69219673 71.19378775 75.87316533 75.84552583\n",
      " 76.3607637  78.79063235 81.95938106 73.07399529 76.19357919 77.7006479\n",
      " 79.84473971 72.68289222 76.12215167 81.01455357 71.48159457 79.27433062\n",
      " 75.33160265 69.76812848 70.20382067 78.44478541 80.80198256 80.17053095\n",
      " 71.74151407 77.2440874  73.90436788 77.59299974 79.47427055 72.06798041\n",
      " 75.88584001 74.3142633  79.23244725 70.76440211 72.85859848 72.44085463\n",
      " 70.23460913 78.84003786 73.46029137 78.07320395 69.6703035  75.36190081\n",
      " 71.6945605  75.31051387 73.74210416 82.37733141 75.40908695 78.277617\n",
      " 75.43126289 75.48987509 74.74203038 80.65967986 76.4323252  80.42983739\n",
      " 72.80463375 78.45780428 68.81716745 77.75682419 70.072943   77.40368338\n",
      " 76.36226759 70.39218604 73.05819395 77.51595429 76.13693191 74.91406217\n",
      " 68.05651902 77.52832987 74.94963604 76.34434255 79.71281529 72.22671275\n",
      " 72.1038814  73.51587495 74.68606844 74.62413568 66.66102291 72.91836058\n",
      " 71.10519    74.04653638 77.43885302 71.38460492 73.70330047 73.74282509\n",
      " 80.02027092 72.29871211 84.58176502 76.34834834 77.42949842 72.80189711\n",
      " 85.43479441 62.36297727 67.67573359 73.64778961 76.72904779 74.33627096\n",
      " 72.96665358 77.52492601 71.6226664  72.29964608 72.12510229 72.66152778\n",
      " 71.7701637  74.67185675 79.47832509 78.25272572 74.02662518 78.64847382\n",
      " 77.42414392 78.11979565 77.57616167 77.90778633 74.35011442 75.7299179\n",
      " 74.66654718 69.74230009 75.5566508  76.29868815 69.13696383 72.26355852\n",
      " 74.56669879 73.84715787 75.97690284 73.84768438 71.32326149 81.9028614\n",
      " 71.7407901  71.75936671 81.44343195 84.8993385  75.17060104 74.41288423\n",
      " 73.35338399 80.99250996 67.71360111 77.08457465 76.62036917 74.31574488\n",
      " 73.06702031 72.14076927 75.73715488 73.78557562 74.56724642 74.12515842\n",
      " 76.3767695  77.28011068 74.92737267 71.47093415 76.257801   73.0047152\n",
      " 78.06740352 74.54821165 77.30323137 67.30777434 76.63699181 73.99108871\n",
      " 73.19341793 77.45249842 84.20137201 77.90786508 69.34538522 71.6098845\n",
      " 72.20226482 73.54890599 75.08475279 75.51733815 71.0096953  72.35963881\n",
      " 77.19751419 79.67498868 80.08640993 75.03159047 75.52033673 79.63584656\n",
      " 76.13742762 76.39090389 71.58941475 71.81929272 78.69925595 72.68718835\n",
      " 79.77401701 76.69305107 73.69673929 80.4964321  73.10758362 76.75145145\n",
      " 71.69408066 75.48055295 71.92842162 80.95650421 74.7563631  78.57077522\n",
      " 76.48966112 68.97878455 79.37812079 79.19522473 76.99591858 72.90696103\n",
      " 77.46240056 76.78558048 77.44456481 74.49829487 70.80381043 73.11562624\n",
      " 75.9756204  72.47669376 74.34858161 74.19287594 80.09020557 78.69867026\n",
      " 80.31013854 73.83205363 74.32447796 69.11816654 68.37730941 72.8304856\n",
      " 68.62461087 71.97881504 64.10434596 79.85843627 68.08286855 72.9776959\n",
      " 73.8492025  80.35701971 71.70708781 84.38626933 78.44323607 80.51782353\n",
      " 70.35443017 78.99742485 74.94053375 71.62728159 71.82707434 74.84391488\n",
      " 67.74050305 71.70901297 76.14515383 71.93280226 73.02633124 79.28913697\n",
      " 70.02025202 73.23686969 73.23782062 78.26042917 77.44534416 82.43738087\n",
      " 67.02308746 79.97220835 72.52995323 81.0964248  73.94147747 77.86747222\n",
      " 72.68542605 72.69375821 79.61204615 69.72681483 79.08068005 71.1493301\n",
      " 76.7716011  81.87293937 79.67423571 75.43035182 69.09751792 76.19256053\n",
      " 73.50283754 74.00611979 71.23128725 65.29900272 76.86132515 75.63017932\n",
      " 77.26454386 70.9018262  74.29251522 74.43437711 76.13835196 76.66197558\n",
      " 74.86218233 76.85324464 77.80206038 75.46919516 74.88550057 72.99359045\n",
      " 67.19438002 74.65752781 72.28572193 71.79134496 79.51726889 73.9036466\n",
      " 72.01911721 70.02745045 76.08276063 69.0868206  79.02656253 73.35597904\n",
      " 77.12884908 77.51403646 73.51637031 71.31177329 76.3230034  78.42949866\n",
      " 78.76673947 68.02265242 78.49513071 78.44823649 76.89638697 74.96979871\n",
      " 85.54412559 76.85643224 84.35532918 77.5634607  83.08264017 69.85085711\n",
      " 73.60987919 80.66396032 77.73490325 73.95707867 70.40771076 76.56309333\n",
      " 72.25426735 75.70058172 68.57099499 73.2745516  78.48543037 79.34783183\n",
      " 78.13644332 71.8257963  74.12139647 80.97662339 76.44163235 73.33474378\n",
      " 75.08951176 70.30611716 73.78494465 79.70259895 78.11351603 70.14265921\n",
      " 75.49680332 78.58263189 74.10995334 76.40235511 77.24519038 69.46015374\n",
      " 79.21984591 76.96729379 65.40254534 71.76428131 74.25574812 77.58921693\n",
      " 77.55958339 80.32996254 79.33479873 74.06580336 74.01399302 74.45870265\n",
      " 72.71162053 83.41240438 72.20439072 75.4718214  73.38768876 77.36482486\n",
      " 70.95994222 76.38236284 76.9898248  85.22713721 73.33421327 84.22061267\n",
      " 74.72662443 81.6525509  77.72994665 75.21927377 66.8819833  75.57084998\n",
      " 77.33518659 74.1607989  67.01775598 74.74523316 72.35991698 75.28778471\n",
      " 64.91492637 73.65492812 81.69267752 74.71936154 77.7314214  75.84900659\n",
      " 69.85152015 70.52893945 78.64592869 69.12295311 76.48898347 69.92919385\n",
      " 71.30248413 71.52086718 71.40279398 73.93039749 75.9755801  72.92861992\n",
      " 66.36150183 67.4017047  75.36599136 70.14355502 74.55847565 73.03120931\n",
      " 76.77750212 79.52863485 76.67722375 72.89007347 80.56510883 77.4477081\n",
      " 75.77783761 80.3220152  73.66821114 75.56122118 68.02658744 73.27674881\n",
      " 67.25235035 75.60159502 76.64568686 66.28126904 79.51425066 77.2261403\n",
      " 74.64213568 79.44083622 78.48663378 68.66202266 76.30249661 78.0828651\n",
      " 78.151357   69.70144383 74.36196114 70.08767591 78.86166418 73.3157737\n",
      " 70.2755124  78.79710391 84.10183847 74.23000398 75.91033619 74.90018703\n",
      " 72.08536218 76.48251583 75.72500247 69.29245833 78.23555822 69.20763305\n",
      " 76.7587069  72.64875597 77.57333716 79.09953236 77.36157055 76.98860285\n",
      " 74.6190368  71.68047731 71.91145476 73.79599462 69.2201013  77.37668116\n",
      " 80.93942037 72.47016865 75.45199229 77.44765131 73.1965495  74.75071027\n",
      " 77.76432682 76.49219187 83.97961953 80.01361126 76.273887   76.968839\n",
      " 68.10430125 78.25295837 73.10902337 76.86136767 70.33519396 76.08232718\n",
      " 75.55800819 76.5592058  80.13548729 75.01250989 74.77024283 71.16186996\n",
      " 81.89933386 81.00241061 76.3601367  67.25507252 73.70967293 78.36638981\n",
      " 71.88365579 67.94197559 74.20147908 74.00090241 74.40586184 73.04026818\n",
      " 75.04331884 79.1195597  73.60672707 74.12782695 77.81053435 65.78644634\n",
      " 77.89257461 74.81279747 74.5061063  72.50738576 72.33551153 74.55406154\n",
      " 80.58516936 71.83299851 67.8932015  77.24318352 79.97355894 76.88430938\n",
      " 78.99288035 81.64756642 68.74516123 72.85692887 76.11415688 76.44183492\n",
      " 75.93876848 70.06167225 72.96256576 76.91855433 73.31660957 76.15371274\n",
      " 71.15435784 73.99688699 78.36482612]\n",
      "837\n",
      "(669, 1728)\n",
      "(168, 1728)\n",
      "(669,)\n",
      "(168,)\n"
     ]
    }
   ],
   "source": [
    "\n",
    "\n",
    "# x_path = '../../data/npy/x_random_l3_6.npy'\n",
    "x_path = '../../data/npy/x_random_l3_6_dv.npy'\n",
    "# x_path = '../../data/npy/x_random_6_diffseq_mean_l3.npy'\n",
    "# x_path = '../../data/npy/x_random_6_diffseq_mean_l3_3.npy'\n",
    "\n",
    "# y_path = '../../data/npy/y_random_l3_6.npy'\n",
    "y_path = '../../data/npy/y_random_l3_6_dv.npy'\n",
    "# y_path = '../../data/npy/y_random_6_diffseq_mean_l3.npy'\n",
    "# y_path = '../../data/npy/y_random_6_diffseq_mean_l3_3.npy'\n",
    "\n",
    "# l3\n",
    "x_l3_mean_fullPath = os.path.abspath('../../data/npy/x_random_l3_6_mean.npy')\n",
    "x_l3_rb_fullPath = os.path.abspath('../../data/npy/x_random_l3_6_rb.npy')\n",
    "x_l3_dv_fullPath = os.path.abspath('../../data/npy/x_random_l3_6_dv.npy')\n",
    "x_l3_mean_path = tf.keras.utils.get_file('x_random_l3_6_mean.npy', 'file://'+x_l3_mean_fullPath)\n",
    "x_l3_rb_path = tf.keras.utils.get_file('x_random_l3_6_mean.npy', 'file://'+x_l3_rb_fullPath)\n",
    "x_l3_dv_path = tf.keras.utils.get_file('x_random_l3_6_mean.npy', 'file://'+x_l3_dv_fullPath)\n",
    "\n",
    "y_l3_mean_fullPath = os.path.abspath('../../data/npy/y_random_l3_6_mean.npy')\n",
    "y_l3_rb_fullPath = os.path.abspath('../../data/npy/y_random_l3_6_rb.npy')\n",
    "y_l3_dv_fullPath = os.path.abspath('../../data/npy/y_random_l3_6_dv.npy')\n",
    "y_l3_mean_path = tf.keras.utils.get_file('y_random_l3_6_mean.npy', 'file://'+y_l3_mean_fullPath)\n",
    "y_l3_rb_path = tf.keras.utils.get_file('y_random_l3_6_mean.npy', 'file://'+y_l3_rb_fullPath)\n",
    "y_l3_dv_path = tf.keras.utils.get_file('y_random_l3_6_mean.npy', 'file://'+y_l3_dv_fullPath)\n",
    "\n",
    "\n",
    "x_data = np.load(x_l3_mean_path)\n",
    "y_data = np.load(y_l3_mean_path, allow_pickle=True)\n",
    "\n",
    "print(y_data)\n",
    "\n",
    "print(len(y_data))\n",
    "\n",
    "# min_val = y_data.min()\n",
    "# max_val = y_data.max()\n",
    "\n",
    "# y_data = (y_data - min_val)/(max_val - min_val)\n",
    "\n",
    "x_train, x_test, y_train, y_test = train_test_split(x_data, y_data, test_size=0.2)\n",
    "\n",
    "print(x_train.shape)\n",
    "print(x_test.shape)\n",
    "print(y_train.shape)\n",
    "print(y_test.shape)"
   ]
  },
  {
   "attachments": {},
   "cell_type": "markdown",
   "metadata": {},
   "source": [
    "## Set my model\n",
    "- input_shape は入力データのサイズ。\n",
    "- モデルの定義方法は調べればたくさん出てきますが、例えばここ： https://sinyblog.com/deaplearning/keras_how_to/ \n",
    "- 最後の層の出力は、期待する出力データのサイズ\n",
    "- [model](https://github.com/si-tm/docs-l30n/blob/master/site/ja/tutorials/quickstart/beginner.py)"
   ]
  },
  {
   "cell_type": "code",
   "execution_count": 5,
   "metadata": {
    "scrolled": true
   },
   "outputs": [],
   "source": [
    "def build_model():\n",
    "    \n",
    "    model = tf.keras.models.Sequential([\n",
    "    tf.keras.layers.Flatten(input_shape=(x_train.shape[1],)),\n",
    "    tf.keras.layers.Dense(128, activation='relu'), # units=128 : 出力空間の次元数\n",
    "    tf.keras.layers.Dropout(0.2), # 入力にドロップアウトを適用する rate=0.2 : 入力ユニットをドロップする割合\n",
    "    tf.keras.layers.Dense(1) \n",
    "    ])\n",
    "\n",
    "    optimizer = tf.keras.optimizers.Adam() # optimizers も Adam 以外に色々種類があります。調べてみてください！\n",
    "\n",
    "    model.compile(loss='mse',\n",
    "                optimizer=optimizer,\n",
    "                metrics=['mae', 'mse']) # loss 関数に何を採用するかはどんな問題を解きたいのかによります。\n",
    "                                        #ここでは MSE を採用していますが、他にも色々な選択肢があります。調べてみてください！\n",
    "    return model"
   ]
  },
  {
   "cell_type": "code",
   "execution_count": 6,
   "metadata": {
    "scrolled": true
   },
   "outputs": [
    {
     "name": "stderr",
     "output_type": "stream",
     "text": [
      "2023-06-13 14:13:22.080256: I tensorflow/core/platform/cpu_feature_guard.cc:193] This TensorFlow binary is optimized with oneAPI Deep Neural Network Library (oneDNN) to use the following CPU instructions in performance-critical operations:  SSE4.1 SSE4.2\n",
      "To enable them in other operations, rebuild TensorFlow with the appropriate compiler flags.\n"
     ]
    }
   ],
   "source": [
    "model = build_model()"
   ]
  },
  {
   "cell_type": "code",
   "execution_count": 7,
   "metadata": {
    "scrolled": true
   },
   "outputs": [
    {
     "name": "stdout",
     "output_type": "stream",
     "text": [
      "Model: \"sequential\"\n",
      "_________________________________________________________________\n",
      " Layer (type)                Output Shape              Param #   \n",
      "=================================================================\n",
      " flatten (Flatten)           (None, 1728)              0         \n",
      "                                                                 \n",
      " dense (Dense)               (None, 128)               221312    \n",
      "                                                                 \n",
      " dropout (Dropout)           (None, 128)               0         \n",
      "                                                                 \n",
      " dense_1 (Dense)             (None, 1)                 129       \n",
      "                                                                 \n",
      "=================================================================\n",
      "Total params: 221,441\n",
      "Trainable params: 221,441\n",
      "Non-trainable params: 0\n",
      "_________________________________________________________________\n"
     ]
    }
   ],
   "source": [
    "model.summary()"
   ]
  },
  {
   "cell_type": "code",
   "execution_count": 8,
   "metadata": {
    "scrolled": true
   },
   "outputs": [
    {
     "name": "stdout",
     "output_type": "stream",
     "text": [
      "(10, 1728)\n",
      "1/1 [==============================] - 0s 127ms/step\n"
     ]
    }
   ],
   "source": [
    "example_batch = x_train[:10]\n",
    "print(example_batch.shape)\n",
    "example_result = model.predict(example_batch)\n",
    "# example_result"
   ]
  },
  {
   "cell_type": "code",
   "execution_count": 9,
   "metadata": {},
   "outputs": [
    {
     "name": "stdout",
     "output_type": "stream",
     "text": [
      "[[-0.1338937 ]\n",
      " [ 0.01061916]\n",
      " [ 0.0356707 ]\n",
      " [ 0.01044368]\n",
      " [-0.02904498]\n",
      " [-0.01254198]\n",
      " [ 0.02227012]\n",
      " [-0.1618053 ]\n",
      " [-0.06516396]\n",
      " [-0.03254002]]\n"
     ]
    }
   ],
   "source": [
    "print(example_result)"
   ]
  },
  {
   "cell_type": "code",
   "execution_count": 10,
   "metadata": {
    "scrolled": true
   },
   "outputs": [
    {
     "name": "stdout",
     "output_type": "stream",
     "text": [
      "\n",
      "....................................................................................................\n",
      "....................................................................................................\n",
      "....................................................................................................\n",
      "...................................................................................................."
     ]
    }
   ],
   "source": [
    "# エポックが終わるごとにドットを一つ出力することで進捗を表示\n",
    "class PrintDot(tf.keras.callbacks.Callback):\n",
    "    def on_epoch_end(self, epoch, logs):\n",
    "        if epoch % 100 == 0: print('')\n",
    "        print('.', end='')\n",
    "\n",
    "# early_stop = keras.callbacks.EarlyStopping(monitor='val_loss', patience=10)\n",
    "EPOCHS = 400 # epoch 数も考慮しよう\n",
    "# EPOCHS = 100 # epoch 数も考慮しよう\n",
    "\n",
    "history = model.fit(\n",
    "    x_train, y_train,\n",
    "    epochs=EPOCHS, validation_split = 0.2, verbose=0,\n",
    "    callbacks=[PrintDot()]\n",
    ")"
   ]
  },
  {
   "cell_type": "code",
   "execution_count": 11,
   "metadata": {
    "scrolled": true
   },
   "outputs": [
    {
     "data": {
      "text/html": [
       "<div>\n",
       "<style scoped>\n",
       "    .dataframe tbody tr th:only-of-type {\n",
       "        vertical-align: middle;\n",
       "    }\n",
       "\n",
       "    .dataframe tbody tr th {\n",
       "        vertical-align: top;\n",
       "    }\n",
       "\n",
       "    .dataframe thead th {\n",
       "        text-align: right;\n",
       "    }\n",
       "</style>\n",
       "<table border=\"1\" class=\"dataframe\">\n",
       "  <thead>\n",
       "    <tr style=\"text-align: right;\">\n",
       "      <th></th>\n",
       "      <th>loss</th>\n",
       "      <th>mae</th>\n",
       "      <th>mse</th>\n",
       "      <th>val_loss</th>\n",
       "      <th>val_mae</th>\n",
       "      <th>val_mse</th>\n",
       "      <th>epoch</th>\n",
       "    </tr>\n",
       "  </thead>\n",
       "  <tbody>\n",
       "    <tr>\n",
       "      <th>395</th>\n",
       "      <td>21.418280</td>\n",
       "      <td>3.692335</td>\n",
       "      <td>21.418280</td>\n",
       "      <td>266.150391</td>\n",
       "      <td>13.915273</td>\n",
       "      <td>266.150391</td>\n",
       "      <td>395</td>\n",
       "    </tr>\n",
       "    <tr>\n",
       "      <th>396</th>\n",
       "      <td>19.983454</td>\n",
       "      <td>3.534326</td>\n",
       "      <td>19.983454</td>\n",
       "      <td>272.024902</td>\n",
       "      <td>14.081627</td>\n",
       "      <td>272.024902</td>\n",
       "      <td>396</td>\n",
       "    </tr>\n",
       "    <tr>\n",
       "      <th>397</th>\n",
       "      <td>19.738546</td>\n",
       "      <td>3.481585</td>\n",
       "      <td>19.738546</td>\n",
       "      <td>271.636536</td>\n",
       "      <td>14.075877</td>\n",
       "      <td>271.636536</td>\n",
       "      <td>397</td>\n",
       "    </tr>\n",
       "    <tr>\n",
       "      <th>398</th>\n",
       "      <td>20.140226</td>\n",
       "      <td>3.605774</td>\n",
       "      <td>20.140226</td>\n",
       "      <td>271.063812</td>\n",
       "      <td>14.058570</td>\n",
       "      <td>271.063812</td>\n",
       "      <td>398</td>\n",
       "    </tr>\n",
       "    <tr>\n",
       "      <th>399</th>\n",
       "      <td>20.699224</td>\n",
       "      <td>3.566602</td>\n",
       "      <td>20.699224</td>\n",
       "      <td>264.847626</td>\n",
       "      <td>13.866250</td>\n",
       "      <td>264.847626</td>\n",
       "      <td>399</td>\n",
       "    </tr>\n",
       "  </tbody>\n",
       "</table>\n",
       "</div>"
      ],
      "text/plain": [
       "          loss       mae        mse    val_loss    val_mae     val_mse  epoch\n",
       "395  21.418280  3.692335  21.418280  266.150391  13.915273  266.150391    395\n",
       "396  19.983454  3.534326  19.983454  272.024902  14.081627  272.024902    396\n",
       "397  19.738546  3.481585  19.738546  271.636536  14.075877  271.636536    397\n",
       "398  20.140226  3.605774  20.140226  271.063812  14.058570  271.063812    398\n",
       "399  20.699224  3.566602  20.699224  264.847626  13.866250  264.847626    399"
      ]
     },
     "execution_count": 11,
     "metadata": {},
     "output_type": "execute_result"
    }
   ],
   "source": [
    "hist = pd.DataFrame(history.history)\n",
    "hist['epoch'] = history.epoch\n",
    "hist.tail()"
   ]
  },
  {
   "cell_type": "code",
   "execution_count": 12,
   "metadata": {
    "scrolled": true
   },
   "outputs": [
    {
     "data": {
      "image/png": "[encoded data removed]",
      "text/plain": [
       "<Figure size 640x480 with 1 Axes>"
      ]
     },
     "metadata": {},
     "output_type": "display_data"
    },
    {
     "data": {
      "image/png": "[encoded data removed]",
      "text/plain": [
       "<Figure size 640x480 with 1 Axes>"
      ]
     },
     "metadata": {},
     "output_type": "display_data"
    }
   ],
   "source": [
    "def plot_history(history):\n",
    "    hist = pd.DataFrame(history.history)\n",
    "    hist['epoch'] = history.epoch\n",
    "\n",
    "    plt.figure()\n",
    "    plt.xlabel('Epoch')\n",
    "    plt.ylabel('Mean Abs Error [mc]')\n",
    "    plt.plot(hist['epoch'], hist['mae'], label='Train Error')\n",
    "    plt.plot(hist['epoch'], hist['val_mae'], label = 'Val Error')\n",
    "    plt.ylim([0,30])\n",
    "    plt.legend()\n",
    "\n",
    "    plt.figure()\n",
    "    plt.xlabel('Epoch')\n",
    "    plt.ylabel('Mean Square Error [$mc^2$]')\n",
    "    plt.plot(hist['epoch'], hist['mse'], label='Train Error')\n",
    "    plt.plot(hist['epoch'], hist['val_mse'], label = 'Val Error')\n",
    "    plt.ylim([0,3])\n",
    "    plt.legend()\n",
    "    plt.show()\n",
    "\n",
    "\n",
    "plot_history(history)"
   ]
  },
  {
   "cell_type": "code",
   "execution_count": 13,
   "metadata": {
    "scrolled": true
   },
   "outputs": [
    {
     "name": "stdout",
     "output_type": "stream",
     "text": [
      "6/6 [==============================] - 0s 890us/step\n"
     ]
    },
    {
     "data": {
      "text/plain": [
       "[<matplotlib.lines.Line2D at 0x7fdb818bb2b0>]"
      ]
     },
     "execution_count": 13,
     "metadata": {},
     "output_type": "execute_result"
    },
    {
     "data": {
      "image/png": "[encoded data removed]",
      "text/plain": [
       "<Figure size 600x600 with 1 Axes>"
      ]
     },
     "metadata": {},
     "output_type": "display_data"
    }
   ],
   "source": [
    "test_predictions = model.predict(x_test).flatten()\n",
    "res = linregress( y_test, test_predictions)\n",
    "\n",
    "plt.figure(figsize=(6,6))\n",
    "plt.scatter(y_test, test_predictions)\n",
    "# plt.xlabel('True Values [mc]')\n",
    "# plt.ylabel('Predictions [mc]')\n",
    "plt.xlabel('True Values of volume')\n",
    "plt.ylabel('Predictions of volume')\n",
    "plt.axis('equal')\n",
    "plt.axis('square')\n",
    "plt.xlim([0,100])\n",
    "plt.ylim([0,100])\n",
    "_ = plt.plot([0,100], [0,100])\n",
    "\n",
    "plt.plot([0,100], res.intercept + res.slope*np.array([0, 100]), 'r', label='fitted line')\n",
    "\n",
    "# normalizer 学習前"
   ]
  },
  {
   "cell_type": "code",
   "execution_count": 14,
   "metadata": {
    "scrolled": true
   },
   "outputs": [
    {
     "name": "stdout",
     "output_type": "stream",
     "text": [
      "INFO:tensorflow:Assets written to: ../saved_model/l3_ave_230613/assets\n"
     ]
    }
   ],
   "source": [
    "# トレーニングした model をどこかで使用したいなら以下のようにモデルを保存する\n",
    "model.save('../saved_model/l3_ave_230613')"
   ]
  },
  {
   "cell_type": "code",
   "execution_count": 15,
   "metadata": {},
   "outputs": [],
   "source": [
    "mse = tf.keras.losses.MeanSquaredError()"
   ]
  },
  {
   "attachments": {},
   "cell_type": "markdown",
   "metadata": {},
   "source": []
  },
  {
   "cell_type": "code",
   "execution_count": 16,
   "metadata": {},
   "outputs": [
    {
     "data": {
      "text/plain": [
       "0.13129348"
      ]
     },
     "execution_count": 16,
     "metadata": {},
     "output_type": "execute_result"
    }
   ],
   "source": [
    "mse(y_test,test_predictions).numpy()"
   ]
  },
  {
   "cell_type": "code",
   "execution_count": null,
   "metadata": {},
   "outputs": [],
   "source": [
    "test_predictions.rank"
   ]
  },
  {
   "attachments": {},
   "cell_type": "markdown",
   "metadata": {},
   "source": []
  }
 ],
 "metadata": {
  "kernelspec": {
   "display_name": "base",
   "language": "python",
   "name": "python3"
  },
  "language_info": {
   "codemirror_mode": {
    "name": "ipython",
    "version": 3
   },
   "file_extension": ".py",
   "mimetype": "text/x-python",
   "name": "python",
   "nbconvert_exporter": "python",
   "pygments_lexer": "ipython3",
   "version": "3.9.16"
  },
  "vscode": {
   "interpreter": {
    "hash": "5e5f6d9a7f82cd92f07e7938d008a685454462d5ce7385d96edcda5cc017265d"
   }
  }
 },
 "nbformat": 4,
 "nbformat_minor": 4
}

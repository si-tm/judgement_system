{
 "cells": [
  {
   "cell_type": "code",
   "execution_count": 1,
   "metadata": {
    "scrolled": true
   },
   "outputs": [
    {
     "name": "stderr",
     "output_type": "stream",
     "text": [
      "2023-07-10 23:21:18.697375: I tensorflow/core/platform/cpu_feature_guard.cc:193] This TensorFlow binary is optimized with oneAPI Deep Neural Network Library (oneDNN) to use the following CPU instructions in performance-critical operations:  SSE4.1 SSE4.2\n",
      "To enable them in other operations, rebuild TensorFlow with the appropriate compiler flags.\n"
     ]
    },
    {
     "name": "stdout",
     "output_type": "stream",
     "text": [
      "TensorFlow version: 2.10.0\n"
     ]
    }
   ],
   "source": [
    "import tensorflow as tf\n",
    "print(\"TensorFlow version:\", tf.__version__)\n",
    "\n",
    "from tensorflow.keras.layers import Dense\n",
    "from tensorflow.keras import Model\n",
    "from tensorflow.keras import layers\n",
    "from tensorflow import keras\n",
    "import os\n",
    "import sys\n",
    "import matplotlib.pyplot as plt\n",
    "import pandas as pd\n",
    "import seaborn as sns\n",
    "import csv\n",
    "import pickle\n",
    "from scipy.stats import linregress\n",
    "from sklearn.model_selection import train_test_split\n",
    "from sklearn.model_selection import train_test_split\n",
    "from datetime import datetime\n",
    "import numpy as np\n",
    "from sklearn.preprocessing import Normalizer"
   ]
  },
  {
   "cell_type": "code",
   "execution_count": 8,
   "metadata": {},
   "outputs": [
    {
     "data": {
      "text/plain": [
       "'/Users/hyakuzukamaya/Desktop/lab/judgement_system/script'"
      ]
     },
     "execution_count": 8,
     "metadata": {},
     "output_type": "execute_result"
    }
   ],
   "source": [
    "pwd"
   ]
  },
  {
   "attachments": {},
   "cell_type": "markdown",
   "metadata": {},
   "source": [
    "## Loading a dataset"
   ]
  },
  {
   "attachments": {},
   "cell_type": "markdown",
   "metadata": {},
   "source": [
    "## Split into train data and test data as dataset\n",
    "- データセットとして使用するデータを取得する。\n",
    "- trainデータとtestデータに分割する。（例えば80%をtrainデータに、20%をtestデータに、など。）\n",
    "- 書き方はデータセットとして使用するデータの type による。もし、numpy の形で持っているならhttps://www.tensorflow.org/tutorials/load_data/numpy?hl=ja が参考になります。"
   ]
  },
  {
   "cell_type": "code",
   "execution_count": 23,
   "metadata": {},
   "outputs": [],
   "source": [
    "# 二次元配列同士を繋げる\n",
    "def merge_vec(vec1, vec2):\n",
    "    # axis=0 に沿って結合する。\n",
    "    vec1 = np.r_[\"0\", vec1, vec2]\n",
    "    return vec1"
   ]
  },
  {
   "cell_type": "code",
   "execution_count": 48,
   "metadata": {
    "scrolled": true
   },
   "outputs": [
    {
     "name": "stdout",
     "output_type": "stream",
     "text": [
      "999\n",
      "250\n",
      "(999, 16)\n",
      "(250, 16)\n",
      "(999,)\n",
      "(250,)\n"
     ]
    }
   ],
   "source": [
    "\n",
    "# L1\n",
    "x_l1_mean_fullPath = os.path.abspath('../../data/npy/x_random_l1_6_mean.npy')\n",
    "x_l1_rb_fullPath = os.path.abspath('../../data/npy/x_random_l1_6_rb.npy')\n",
    "x_l1_dv_fullPath = os.path.abspath('../../data/npy/x_random_l1_6_dv.npy')\n",
    "x_l1_mean_path = tf.keras.utils.get_file('x_random_l1_6_mean.npy', 'file://'+x_l1_mean_fullPath)\n",
    "x_l1_rb_path = tf.keras.utils.get_file('x_random_l1_6_mean.npy', 'file://'+x_l1_rb_fullPath)\n",
    "x_l1_dv_path = tf.keras.utils.get_file('x_random_l1_6_mean.npy', 'file://'+x_l1_dv_fullPath)\n",
    "\n",
    "y_l1_mean_fullPath = os.path.abspath('../../data/npy/y_random_l1_6_mean.npy')\n",
    "y_l1_rb_fullPath = os.path.abspath('../../data/npy/y_random_l1_6_rb.npy')\n",
    "y_l1_dv_fullPath = os.path.abspath('../../data/npy/y_random_l1_6_dv.npy')\n",
    "y_l1_mean_path = tf.keras.utils.get_file('y_random_l1_6_mean.npy', 'file://'+y_l1_mean_fullPath)\n",
    "y_l1_rb_path = tf.keras.utils.get_file('y_random_l1_6_mean.npy', 'file://'+y_l1_rb_fullPath)\n",
    "y_l1_dv_path = tf.keras.utils.get_file('y_random_l1_6_mean.npy', 'file://'+y_l1_dv_fullPath)\n",
    "\n",
    "# fromQD\n",
    "# data/npy/x_fromQD_l1_1.npy\n",
    "# data/npy/y_fromQD_l1_1_dv.npy\n",
    "# data/npy/y_fromQD_l1_1_mean.npy\n",
    "x_fromQD_l1_1_fullPath = os.path.abspath(\"../data/npy/x_fromQD_l1_1.npy\")\n",
    "x_fromQD_l1_1_path = tf.keras.utils.get_file('x_fromQD_l1_1.npy', 'file://'+x_fromQD_l1_1_fullPath)\n",
    "y_mean_fromQD_l1_1_fullPath = os.path.abspath(\"../data/npy/y_fromQD_l1_1_mean.npy\")\n",
    "y_mean_fromQD_l1_1_path = tf.keras.utils.get_file('y_fromQD_l1_1_mean.npy', 'file://'+y_mean_fromQD_l1_1_fullPath)\n",
    "\n",
    "# x_data = np.load(x_l1_mean_path) + np.load(x_fromQD_l1_1_path)\n",
    "# y_data = np.load(y_l1_mean_path, allow_pickle=True) + np.load(y_mean_fromQD_l1_1_path)\n",
    "x_data = np.load(x_l1_mean_path)\n",
    "y_data = np.load(y_l1_mean_path, allow_pickle=True)\n",
    "x_fromQD_data = np.load(x_fromQD_l1_1_path)\n",
    "y_fromQD_data = np.load(y_mean_fromQD_l1_1_path)\n",
    "\n",
    "x_data = merge_vec(x_data, x_fromQD_data)\n",
    "y_data = merge_vec(y_data, y_fromQD_data)\n",
    "\n",
    "\n",
    "# min_val = y_data.min()\n",
    "# max_val = y_data.max()\n",
    "\n",
    "# y_data = (y_data - min_val)/(max_val - min_val)\n",
    "\n",
    "x_train, x_test, y_train, y_test = train_test_split(x_data, y_data, test_size=0.2)\n",
    "\n",
    "print(len(x_train))\n",
    "print(len(x_test))\n",
    "\n",
    "print(x_train.shape)\n",
    "print(x_test.shape)\n",
    "print(y_train.shape)\n",
    "print(y_test.shape)"
   ]
  },
  {
   "attachments": {},
   "cell_type": "markdown",
   "metadata": {},
   "source": [
    "## Set my model\n",
    "- input_shape は入力データのサイズ。\n",
    "- モデルの定義方法は調べればたくさん出てきますが、例えばここ： https://sinyblog.com/deaplearning/keras_how_to/ \n",
    "- 最後の層の出力は、期待する出力データのサイズ\n",
    "- [model](https://github.com/si-tm/docs-l10n/blob/master/site/ja/tutorials/quickstart/beginner.py)"
   ]
  },
  {
   "cell_type": "code",
   "execution_count": 27,
   "metadata": {
    "scrolled": true
   },
   "outputs": [],
   "source": [
    "def build_model():\n",
    "    \n",
    "    model = tf.keras.models.Sequential([\n",
    "    tf.keras.layers.Flatten(input_shape=(x_train.shape[1],)),\n",
    "    tf.keras.layers.Dense(128, activation='relu'), # units=128 : 出力空間の次元数\n",
    "    tf.keras.layers.Dropout(0.2), # 入力にドロップアウトを適用する rate=0.2 : 入力ユニットをドロップする割合\n",
    "    tf.keras.layers.Dense(1) \n",
    "    ])\n",
    "\n",
    "    optimizer = tf.keras.optimizers.Adam() # optimizers も Adam 以外に色々種類があります。調べてみてください！\n",
    "\n",
    "    model.compile(loss='mse',\n",
    "                optimizer=optimizer,\n",
    "                metrics=['mae', 'mse']) # loss 関数に何を採用するかはどんな問題を解きたいのかによります。\n",
    "                                        #ここでは MSE を採用していますが、他にも色々な選択肢があります。調べてみてください！\n",
    "    return model"
   ]
  },
  {
   "cell_type": "code",
   "execution_count": 28,
   "metadata": {
    "scrolled": true
   },
   "outputs": [
    {
     "name": "stderr",
     "output_type": "stream",
     "text": [
      "2023-07-10 23:47:16.752316: I tensorflow/core/platform/cpu_feature_guard.cc:193] This TensorFlow binary is optimized with oneAPI Deep Neural Network Library (oneDNN) to use the following CPU instructions in performance-critical operations:  SSE4.1 SSE4.2\n",
      "To enable them in other operations, rebuild TensorFlow with the appropriate compiler flags.\n"
     ]
    }
   ],
   "source": [
    "model = build_model()"
   ]
  },
  {
   "cell_type": "code",
   "execution_count": 29,
   "metadata": {
    "scrolled": true
   },
   "outputs": [
    {
     "name": "stdout",
     "output_type": "stream",
     "text": [
      "Model: \"sequential\"\n",
      "_________________________________________________________________\n",
      " Layer (type)                Output Shape              Param #   \n",
      "=================================================================\n",
      " flatten (Flatten)           (None, 16)                0         \n",
      "                                                                 \n",
      " dense (Dense)               (None, 128)               2176      \n",
      "                                                                 \n",
      " dropout (Dropout)           (None, 128)               0         \n",
      "                                                                 \n",
      " dense_1 (Dense)             (None, 1)                 129       \n",
      "                                                                 \n",
      "=================================================================\n",
      "Total params: 2,305\n",
      "Trainable params: 2,305\n",
      "Non-trainable params: 0\n",
      "_________________________________________________________________\n"
     ]
    }
   ],
   "source": [
    "model.summary()"
   ]
  },
  {
   "cell_type": "code",
   "execution_count": 30,
   "metadata": {
    "scrolled": true
   },
   "outputs": [
    {
     "name": "stdout",
     "output_type": "stream",
     "text": [
      "(10, 16)\n",
      "1/1 [==============================] - 0s 149ms/step\n"
     ]
    }
   ],
   "source": [
    "example_batch = x_train[:10]\n",
    "print(example_batch.shape)\n",
    "example_result = model.predict(example_batch)\n",
    "# example_result"
   ]
  },
  {
   "cell_type": "code",
   "execution_count": 31,
   "metadata": {},
   "outputs": [
    {
     "name": "stdout",
     "output_type": "stream",
     "text": [
      "[[ 0.06266294]\n",
      " [ 0.00310294]\n",
      " [-0.34241694]\n",
      " [-0.59740865]\n",
      " [-0.27375406]\n",
      " [-0.2814423 ]\n",
      " [-0.06885146]\n",
      " [-0.15400235]\n",
      " [-0.04071027]\n",
      " [-0.3867236 ]]\n"
     ]
    }
   ],
   "source": [
    "print(example_result)"
   ]
  },
  {
   "cell_type": "code",
   "execution_count": 32,
   "metadata": {
    "scrolled": true
   },
   "outputs": [
    {
     "name": "stdout",
     "output_type": "stream",
     "text": [
      "\n",
      "....................................................................................................\n",
      "....................................................................................................\n",
      "....................................................................................................\n",
      "...................................................................................................."
     ]
    }
   ],
   "source": [
    "# エポックが終わるごとにドットを一つ出力することで進捗を表示\n",
    "class PrintDot(tf.keras.callbacks.Callback):\n",
    "    def on_epoch_end(self, epoch, logs):\n",
    "        if epoch % 100 == 0: print('')\n",
    "        print('.', end='')\n",
    "\n",
    "# early_stop = keras.callbacks.EarlyStopping(monitor='val_loss', patience=10)\n",
    "EPOCHS = 400 # epoch 数も考慮しよう\n",
    "# EPOCHS = 100 # epoch 数も考慮しよう\n",
    "\n",
    "history = model.fit(\n",
    "    x_train, y_train,\n",
    "    epochs=EPOCHS, validation_split = 0.2, verbose=0,\n",
    "    callbacks=[PrintDot()]\n",
    ")"
   ]
  },
  {
   "cell_type": "code",
   "execution_count": 33,
   "metadata": {
    "scrolled": true
   },
   "outputs": [
    {
     "data": {
      "text/html": [
       "<div>\n",
       "<style scoped>\n",
       "    .dataframe tbody tr th:only-of-type {\n",
       "        vertical-align: middle;\n",
       "    }\n",
       "\n",
       "    .dataframe tbody tr th {\n",
       "        vertical-align: top;\n",
       "    }\n",
       "\n",
       "    .dataframe thead th {\n",
       "        text-align: right;\n",
       "    }\n",
       "</style>\n",
       "<table border=\"1\" class=\"dataframe\">\n",
       "  <thead>\n",
       "    <tr style=\"text-align: right;\">\n",
       "      <th></th>\n",
       "      <th>loss</th>\n",
       "      <th>mae</th>\n",
       "      <th>mse</th>\n",
       "      <th>val_loss</th>\n",
       "      <th>val_mae</th>\n",
       "      <th>val_mse</th>\n",
       "      <th>epoch</th>\n",
       "    </tr>\n",
       "  </thead>\n",
       "  <tbody>\n",
       "    <tr>\n",
       "      <th>395</th>\n",
       "      <td>0.307431</td>\n",
       "      <td>0.439369</td>\n",
       "      <td>0.307431</td>\n",
       "      <td>0.212471</td>\n",
       "      <td>0.366362</td>\n",
       "      <td>0.212471</td>\n",
       "      <td>395</td>\n",
       "    </tr>\n",
       "    <tr>\n",
       "      <th>396</th>\n",
       "      <td>0.300621</td>\n",
       "      <td>0.432932</td>\n",
       "      <td>0.300621</td>\n",
       "      <td>0.218266</td>\n",
       "      <td>0.371710</td>\n",
       "      <td>0.218266</td>\n",
       "      <td>396</td>\n",
       "    </tr>\n",
       "    <tr>\n",
       "      <th>397</th>\n",
       "      <td>0.303869</td>\n",
       "      <td>0.440728</td>\n",
       "      <td>0.303869</td>\n",
       "      <td>0.217965</td>\n",
       "      <td>0.371301</td>\n",
       "      <td>0.217965</td>\n",
       "      <td>397</td>\n",
       "    </tr>\n",
       "    <tr>\n",
       "      <th>398</th>\n",
       "      <td>0.303558</td>\n",
       "      <td>0.442753</td>\n",
       "      <td>0.303558</td>\n",
       "      <td>0.215112</td>\n",
       "      <td>0.368779</td>\n",
       "      <td>0.215112</td>\n",
       "      <td>398</td>\n",
       "    </tr>\n",
       "    <tr>\n",
       "      <th>399</th>\n",
       "      <td>0.278332</td>\n",
       "      <td>0.421021</td>\n",
       "      <td>0.278332</td>\n",
       "      <td>0.235410</td>\n",
       "      <td>0.382300</td>\n",
       "      <td>0.235410</td>\n",
       "      <td>399</td>\n",
       "    </tr>\n",
       "  </tbody>\n",
       "</table>\n",
       "</div>"
      ],
      "text/plain": [
       "         loss       mae       mse  val_loss   val_mae   val_mse  epoch\n",
       "395  0.307431  0.439369  0.307431  0.212471  0.366362  0.212471    395\n",
       "396  0.300621  0.432932  0.300621  0.218266  0.371710  0.218266    396\n",
       "397  0.303869  0.440728  0.303869  0.217965  0.371301  0.217965    397\n",
       "398  0.303558  0.442753  0.303558  0.215112  0.368779  0.215112    398\n",
       "399  0.278332  0.421021  0.278332  0.235410  0.382300  0.235410    399"
      ]
     },
     "execution_count": 33,
     "metadata": {},
     "output_type": "execute_result"
    }
   ],
   "source": [
    "hist = pd.DataFrame(history.history)\n",
    "hist['epoch'] = history.epoch\n",
    "hist.tail()"
   ]
  },
  {
   "cell_type": "code",
   "execution_count": 34,
   "metadata": {
    "scrolled": true
   },
   "outputs": [
    {
     "data": {
      "image/png": "[encoded data removed]",
      "text/plain": [
       "<Figure size 640x480 with 1 Axes>"
      ]
     },
     "metadata": {},
     "output_type": "display_data"
    },
    {
     "data": {
      "image/png": "[encoded data removed]",
      "text/plain": [
       "<Figure size 640x480 with 1 Axes>"
      ]
     },
     "metadata": {},
     "output_type": "display_data"
    }
   ],
   "source": [
    "def plot_history(history):\n",
    "    hist = pd.DataFrame(history.history)\n",
    "    hist['epoch'] = history.epoch\n",
    "\n",
    "    plt.figure()\n",
    "    plt.xlabel('Epoch')\n",
    "    plt.ylabel('Mean Abs Error [mc]')\n",
    "    plt.plot(hist['epoch'], hist['mae'], label='Train Error')\n",
    "    plt.plot(hist['epoch'], hist['val_mae'], label = 'Val Error')\n",
    "    plt.ylim([0,30])\n",
    "    plt.legend()\n",
    "\n",
    "    plt.figure()\n",
    "    plt.xlabel('Epoch')\n",
    "    plt.ylabel('Mean Square Error [$mc^2$]')\n",
    "    plt.plot(hist['epoch'], hist['mse'], label='Train Error')\n",
    "    plt.plot(hist['epoch'], hist['val_mse'], label = 'Val Error')\n",
    "    plt.ylim([0,3])\n",
    "    plt.legend()\n",
    "    plt.show()\n",
    "\n",
    "\n",
    "plot_history(history)"
   ]
  },
  {
   "cell_type": "code",
   "execution_count": 36,
   "metadata": {
    "scrolled": true
   },
   "outputs": [
    {
     "name": "stdout",
     "output_type": "stream",
     "text": [
      "8/8 [==============================] - 0s 567us/step\n"
     ]
    },
    {
     "data": {
      "text/plain": [
       "[<matplotlib.lines.Line2D at 0x7fefd1b1af70>]"
      ]
     },
     "execution_count": 36,
     "metadata": {},
     "output_type": "execute_result"
    },
    {
     "data": {
      "image/png": "[encoded data removed]",
      "text/plain": [
       "<Figure size 600x600 with 1 Axes>"
      ]
     },
     "metadata": {},
     "output_type": "display_data"
    }
   ],
   "source": [
    "test_predictions = model.predict(x_test).flatten()\n",
    "res = linregress(y_test, test_predictions)\n",
    "\n",
    "plt.figure(figsize=(6,6))\n",
    "plt.scatter(y_test, test_predictions)\n",
    "# plt.xlabel('True Values [mc]')\n",
    "# plt.ylabel('Predictions [mc]')\n",
    "plt.xlabel('True Values of volume')\n",
    "plt.ylabel('Predictions of volume')\n",
    "plt.axis('equal')\n",
    "plt.axis('square')\n",
    "plt.xlim([0,20])\n",
    "plt.ylim([0,20])\n",
    "_ = plt.plot([0,20], [0,20])\n",
    "\n",
    "plt.plot([0,20], res.intercept + res.slope*np.array([0, 20]), 'r', label='fitted line')\n",
    "\n",
    "# normalizer 学習前"
   ]
  },
  {
   "cell_type": "code",
   "execution_count": 44,
   "metadata": {
    "scrolled": true
   },
   "outputs": [
    {
     "name": "stdout",
     "output_type": "stream",
     "text": [
      "INFO:tensorflow:Assets written to: ../saved_model/l1_ave_230710/assets\n"
     ]
    }
   ],
   "source": [
    "# トレーニングした model をどこかで使用したいなら以下のようにモデルを保存する\n",
    "model.save('../saved_model/l1_ave_230710')"
   ]
  },
  {
   "cell_type": "code",
   "execution_count": 45,
   "metadata": {},
   "outputs": [],
   "source": [
    "from keras.models import load_model\n",
    "\n",
    "def getModel(path=\"../saved_model/l1_ave_230710\"):\n",
    "    model = load_model(path)\n",
    "    return model\n"
   ]
  },
  {
   "cell_type": "code",
   "execution_count": 46,
   "metadata": {},
   "outputs": [],
   "source": [
    "mse = tf.keras.losses.MeanSquaredError()"
   ]
  },
  {
   "attachments": {},
   "cell_type": "markdown",
   "metadata": {},
   "source": []
  },
  {
   "cell_type": "code",
   "execution_count": 54,
   "metadata": {},
   "outputs": [
    {
     "name": "stdout",
     "output_type": "stream",
     "text": [
      "8/8 [==============================] - 0s 587us/step\n"
     ]
    },
    {
     "data": {
      "text/plain": [
       "27.13481"
      ]
     },
     "execution_count": 54,
     "metadata": {},
     "output_type": "execute_result"
    }
   ],
   "source": [
    "# model = getModel()\n",
    "model = getModel('../saved_model/l1_dev_0605')\n",
    "test_predictions = model.predict(x_test).flatten()\n",
    "\n",
    "mse(y_test,test_predictions).numpy()"
   ]
  },
  {
   "cell_type": "code",
   "execution_count": 9,
   "metadata": {},
   "outputs": [
    {
     "name": "stdout",
     "output_type": "stream",
     "text": [
      "8/8 [==============================] - 0s 565us/step\n"
     ]
    },
    {
     "data": {
      "text/plain": [
       "0.15681203"
      ]
     },
     "execution_count": 9,
     "metadata": {},
     "output_type": "execute_result"
    }
   ],
   "source": [
    "from keras.models import load_model\n",
    "\n",
    "def getModel(path=\"../../saved_model/l1_ave_230530\"):\n",
    "    model = load_model(path)\n",
    "    return model\n",
    "mse = tf.keras.losses.MeanSquaredError()\n",
    "model = getModel()\n",
    "test_predictions = model.predict(x_test).flatten()\n",
    "\n",
    "mse(y_test,test_predictions).numpy()"
   ]
  },
  {
   "attachments": {},
   "cell_type": "markdown",
   "metadata": {},
   "source": []
  }
 ],
 "metadata": {
  "kernelspec": {
   "display_name": "base",
   "language": "python",
   "name": "python3"
  },
  "language_info": {
   "codemirror_mode": {
    "name": "ipython",
    "version": 3
   },
   "file_extension": ".py",
   "mimetype": "text/x-python",
   "name": "python",
   "nbconvert_exporter": "python",
   "pygments_lexer": "ipython3",
   "version": "3.9.16"
  },
  "vscode": {
   "interpreter": {
    "hash": "5e5f6d9a7f82cd92f07e7938d008a685454462d5ce7385d96edcda5cc017265d"
   }
  }
 },
 "nbformat": 4,
 "nbformat_minor": 4
}

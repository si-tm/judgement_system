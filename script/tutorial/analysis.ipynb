{
 "cells": [
  {
   "cell_type": "code",
   "execution_count": 1,
   "metadata": {},
   "outputs": [
    {
     "data": {
      "image/png": "[encoded data removed]",
      "text/plain": [
       "<Figure size 432x288 with 1 Axes>"
      ]
     },
     "metadata": {
      "needs_background": "light"
     },
     "output_type": "display_data"
    }
   ],
   "source": [
    "# Jupyter Notebookを利用している方のみ記述してください。\n",
    "import matplotlib.pyplot as plt\n",
    "\n",
    "# 数学の点数\n",
    "math = [82, 75, 50, 73, 65, 95, 78, 93, 71, 83]\n",
    "# 英語の点数\n",
    "english = [77, 92, 62, 77, 64, 45, 28, 60, 37, 86]\n",
    "\n",
    "# 点数のタプル\n",
    "points = (math, english)\n",
    "# リスト型でも問題ありません。\n",
    "# points = [math, english]\n",
    "# numpy.array型で問題ありません\n",
    "# points = [np.array(math), np.array(english)]\n",
    "\n",
    "# 箱ひげ図\n",
    "fig, ax = plt.subplots()\n",
    "\n",
    "\n",
    "bp = ax.boxplot(points) # 複数指定する場合はタプル型で渡します。\n",
    "ax.set_xticklabels(['math', 'english'])\n",
    "\n",
    "plt.title('exam')\n",
    "plt.grid() # 横線ラインを入れることができます。\n",
    "\n",
    "# 描画\n",
    "plt.show()"
   ]
  },
  {
   "cell_type": "code",
   "execution_count": 5,
   "metadata": {},
   "outputs": [
    {
     "data": {
      "text/plain": [
       "'/Users/maya/OneDrive - お茶の水女子大学/lab/judgement_system/script'"
      ]
     },
     "execution_count": 5,
     "metadata": {},
     "output_type": "execute_result"
    }
   ],
   "source": [
    "pwd"
   ]
  },
  {
   "cell_type": "code",
   "execution_count": 7,
   "metadata": {},
   "outputs": [
    {
     "data": {
      "image/png": "[encoded data removed]",
      "text/plain": [
       "<Figure size 432x288 with 1 Axes>"
      ]
     },
     "metadata": {
      "needs_background": "light"
     },
     "output_type": "display_data"
    }
   ],
   "source": [
    "# Jupyter Notebookを利用している方のみ記述してください。\n",
    "import matplotlib.pyplot as plt\n",
    "import numpy as np\n",
    "\n",
    "# 数学の点数\n",
    "math = [82, 75, 50, 73, 65, 95, 78, 93, 71, 83]\n",
    "# 英語の点数\n",
    "english = [77, 92, 62, 77, 64, 45, 28, 60, 37, 86]\n",
    "\n",
    "# L1\n",
    "l1 = np.load('../data/npy/y_random_l1_6.npy')\n",
    "# L2\n",
    "l2 = np.load('../data/npy/y_random_l2_6.npy')\n",
    "# L3\n",
    "l3 = np.load('../data/npy/y_random_l3_6.npy')\n",
    "\n",
    "# 点数のタプル\n",
    "points = (l1, l2, l3)\n",
    "# リスト型でも問題ありません。\n",
    "# points = [math, english]\n",
    "# numpy.array型で問題ありません\n",
    "# points = [np.array(math), np.array(english)]\n",
    "\n",
    "# 箱ひげ図\n",
    "fig, ax = plt.subplots()\n",
    "\n",
    "\n",
    "bp = ax.boxplot(points) # 複数指定する場合はタプル型で渡します。\n",
    "ax.set_xticklabels(['L1', 'L2', 'L3'])\n",
    "\n",
    "plt.title('volumes')\n",
    "plt.grid() # 横線ラインを入れることができます。\n",
    "\n",
    "# 描画\n",
    "plt.show()"
   ]
  },
  {
   "cell_type": "code",
   "execution_count": 2,
   "metadata": {},
   "outputs": [
    {
     "name": "stdout",
     "output_type": "stream",
     "text": [
      "/Users/maya/OneDrive - お茶の水女子大学/lab/judgement_system/script\n"
     ]
    }
   ],
   "source": [
    "cd ..\n"
   ]
  },
  {
   "cell_type": "code",
   "execution_count": 3,
   "metadata": {},
   "outputs": [
    {
     "data": {
      "text/plain": [
       "'/Users/maya/OneDrive - お茶の水女子大学/lab/judgement_system/script'"
      ]
     },
     "execution_count": 3,
     "metadata": {},
     "output_type": "execute_result"
    }
   ],
   "source": [
    "pwd\n"
   ]
  },
  {
   "cell_type": "code",
   "execution_count": 4,
   "metadata": {},
   "outputs": [],
   "source": [
    "import sys \n",
    "sys.path.append(\"measuring_volume/\")\n",
    "import convexhull_volume as cv"
   ]
  },
  {
   "cell_type": "code",
   "execution_count": 10,
   "metadata": {},
   "outputs": [
    {
     "name": "stdout",
     "output_type": "stream",
     "text": [
      "30\n",
      "../input/results/oxdna_random_6/L3/d-358-439-540/L3_d-358-439-540_2023-01-26-171011/L3_d-358-439-540_2023-01-26-171011/\n",
      "../input/results/oxdna_random_6/L3/d-358-439-540/L3_d-358-439-540_2023-01-26-171011/L3_d-358-439-540_2023-01-26-171011/bonds\n",
      "../input/results/oxdna_random_6/L3/d-358-439-540/L3_d-358-439-540_2023-01-26-171011/L3_d-358-439-540_2023-01-26-171011/ : mean volume is 76.27047990216563\n"
     ]
    },
    {
     "data": {
      "text/plain": [
       "76.27047990216563"
      ]
     },
     "execution_count": 10,
     "metadata": {},
     "output_type": "execute_result"
    }
   ],
   "source": [
    "path = \"../input/results/oxdna_random_6/L3/d-358-439-540/L3_d-358-439-540_2023-01-26-171011/L3_d-358-439-540_2023-01-26-171011/\"\n",
    "cv.convexhull_volume_all_strands(path)"
   ]
  },
  {
   "cell_type": "code",
   "execution_count": null,
   "metadata": {},
   "outputs": [],
   "source": []
  }
 ],
 "metadata": {
  "kernelspec": {
   "display_name": "Python 3",
   "language": "python",
   "name": "python3"
  },
  "language_info": {
   "codemirror_mode": {
    "name": "ipython",
    "version": 3
   },
   "file_extension": ".py",
   "mimetype": "text/x-python",
   "name": "python",
   "nbconvert_exporter": "python",
   "pygments_lexer": "ipython3",
   "version": "3.8.3"
  },
  "orig_nbformat": 4,
  "vscode": {
   "interpreter": {
    "hash": "0adcc2737ebf6a4a119f135174df96668767fca1ef1112612db5ecadf2b6d608"
   }
  }
 },
 "nbformat": 4,
 "nbformat_minor": 2
}

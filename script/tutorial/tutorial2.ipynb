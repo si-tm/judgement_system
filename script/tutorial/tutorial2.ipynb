{
 "cells": [
  {
   "cell_type": "code",
   "execution_count": 55,
   "metadata": {
    "scrolled": true
   },
   "outputs": [
    {
     "name": "stdout",
     "output_type": "stream",
     "text": [
      "TensorFlow version: 2.9.1\n"
     ]
    }
   ],
   "source": [
    "import tensorflow as tf\n",
    "print(\"TensorFlow version:\", tf.__version__)\n",
    "\n",
    "from tensorflow.keras.layers import Dense\n",
    "from tensorflow.keras import Model\n",
    "from tensorflow.keras import layers\n",
    "from tensorflow import keras"
   ]
  },
  {
   "cell_type": "code",
   "execution_count": 56,
   "metadata": {
    "scrolled": true
   },
   "outputs": [],
   "source": [
    "import os\n",
    "import sys\n",
    "import matplotlib.pyplot as plt\n",
    "import pandas as pd\n",
    "import seaborn as sns\n",
    "import csv\n",
    "import pickle\n",
    "from scipy.stats import linregress\n",
    "from sklearn.model_selection import train_test_split\n",
    "from sklearn.model_selection import train_test_split\n",
    "from datetime import datetime\n",
    "import numpy as np\n",
    "from sklearn.preprocessing import Normalizer"
   ]
  },
  {
   "cell_type": "markdown",
   "metadata": {},
   "source": [
    "## Loading a dataset"
   ]
  },
  {
   "cell_type": "markdown",
   "metadata": {},
   "source": [
    "## Split into train data and test data as dataset\n",
    "- データセットとして使用するデータを取得する。\n",
    "- trainデータとtestデータに分割する。（例えば80%をtrainデータに、20%をtestデータに、など。）\n",
    "- 書き方はデータセットとして使用するデータの type による。もし、numpy の形で持っているならhttps://www.tensorflow.org/tutorials/load_data/numpy?hl=ja が参考になります。"
   ]
  },
  {
   "cell_type": "code",
   "execution_count": 57,
   "metadata": {
    "scrolled": true
   },
   "outputs": [
    {
     "name": "stdout",
     "output_type": "stream",
     "text": [
      "(404, 1728)\n",
      "(102, 1728)\n",
      "(404,)\n",
      "(102,)\n",
      "404 train examples\n",
      "102 test examples\n",
      "404 train examples\n"
     ]
    }
   ],
   "source": [
    "\n",
    "\n",
    "x_path = '../../data/npy/x_random_l3_5.npy'\n",
    "x_data = np.load(x_path)\n",
    "\n",
    "y_path = '../../data/npy/y_random_l3_5.npy'\n",
    "y_data = np.load(y_path, allow_pickle=True)\n",
    "\n",
    "min_val = y_data.min()\n",
    "max_val = y_data.max()\n",
    "\n",
    "y_data = (y_data - min_val)/(max_val - min_val)\n",
    "\n",
    "# y_data = y_data.reshape(-1, 1)\n",
    "# transformer = Normalizer().fit(y_data)\n",
    "# y_data = transformer.transform(y_data)\n",
    "# y_data = transformer.transform(y_data)\n",
    "\n",
    "x_train, x_test, y_train, y_test = train_test_split(x_data, y_data, test_size=0.2)\n",
    "\n",
    "\n",
    "print(x_train.shape)\n",
    "print(x_test.shape)\n",
    "print(y_train.shape)\n",
    "print(y_test.shape)\n",
    "\n",
    "print(len(x_train), 'train examples')\n",
    "print(len(x_test), 'test examples')\n",
    "print(len(y_train), 'train examples')\n"
   ]
  },
  {
   "cell_type": "code",
   "execution_count": 58,
   "metadata": {},
   "outputs": [
    {
     "name": "stdout",
     "output_type": "stream",
     "text": [
      "[0.35762619 0.38791505 0.32865819 0.47244478 0.50214392 0.4197281\n",
      " 0.3395128  0.38703897 0.36336792 0.527892   0.62267776 0.2948865\n",
      " 0.37750678 0.5858953  0.23013639 0.49932477 0.39080944 0.50048182\n",
      " 0.40518783 0.18235546 0.28087907 0.23504001 0.45515187 0.28597236\n",
      " 0.52291868 0.25763639 0.67448352 0.54931891 0.49451206 1.\n",
      " 0.34489814 0.66504386 0.11590839 0.26829659 0.32318818 0.50873786\n",
      " 0.25298468 0.50891303 0.39853835 0.45503943 0.22460875 0.57832019\n",
      " 0.44560693 0.32290297 0.22550357 0.30534605 0.67075065 0.36385935\n",
      " 0.25828072 0.49819889 0.43778952 0.39530884 0.54113699 0.44778294\n",
      " 0.64861621 0.21273362 0.45477095 0.63669212 0.52994447 0.35444336\n",
      " 0.32646012 0.39585583 0.35975012 0.24785028 0.35715303 0.57987635\n",
      " 0.69090065 0.46995412 0.47346674 0.64784622 0.33765161 0.44072128\n",
      " 0.5599567  0.62039951 0.56141048 0.2911137  0.53028524 0.49496922\n",
      " 0.57138172 0.43163653 0.11006732 0.30112076 0.413079   0.5325218\n",
      " 0.45470975 0.5210783  0.52322604 0.60920086 0.33355361 0.34827687\n",
      " 0.70897538 0.4924207  0.31140232 0.40917458 0.50867841 0.52771021\n",
      " 0.42510339 0.47319691 0.26321828 0.52402047 0.14024013 0.32980645\n",
      " 0.37048395 0.49906745 0.60028109 0.30907585 0.49763976 0.33984491\n",
      " 0.50439605 0.58110162 0.24675748 0.5157309  0.5096682  0.29036171\n",
      " 0.31318796 0.50629118 0.44214362 0.42216545 0.32381481 0.33734342\n",
      " 0.10390018 0.30618246 0.19647851 0.75388407 0.61097609 0.54188797\n",
      " 0.49401437 0.58829502 0.60253484 0.59169139 0.38002804 0.58119349\n",
      " 0.47095775 0.50999324 0.61979806 0.31612361 0.51306472 0.48484324\n",
      " 0.60918756 0.45461523 0.54255822 0.41923267 0.47436235 0.47479797\n",
      " 0.33015351 0.2206711  0.42979468 0.39046116 0.5921658  0.46404866\n",
      " 0.05541438 0.24795308 0.48561837 0.46865398 0.44588132 0.32230486\n",
      " 0.56691718 0.40259055 0.41190601 0.49317109 0.66454907 0.38981892\n",
      " 0.4008064  0.31698906 0.34414762 0.47167215 0.44234617 0.63985064\n",
      " 0.72819698 0.47182328 0.15748459 0.20853792 0.48382296 0.55783277\n",
      " 0.25794749 0.41685048 0.27593981 0.47402088 0.24051103 0.59047764\n",
      " 0.26765772 0.41822029 0.54873042 0.2584134  0.3971002  0.61028929\n",
      " 0.64315935 0.38748597 0.2590541  0.34836404 0.52936629 0.22728224\n",
      " 0.29476541 0.30825758 0.58761852 0.38581875 0.41236168 0.20352141\n",
      " 0.22829294 0.42669338 0.25206846 0.48810298 0.37946849 0.49041066\n",
      " 0.72669477 0.51078277 0.31695219 0.25256275 0.3452729  0.29115735\n",
      " 0.69567339 0.39734094 0.69205189 0.54359899 0.58370582 0.42844965\n",
      " 0.         0.21166985 0.50187542 0.71091972 0.29147652 0.35601334\n",
      " 0.36762836 0.59163339 0.36082764 0.30852455 0.3077887  0.36875507\n",
      " 0.40805502 0.69715578 0.38845141 0.31932783 0.33612255 0.50215779\n",
      " 0.34287764 0.47492959 0.31461038 0.43117042 0.39122566 0.4652999\n",
      " 0.75208481 0.44002192 0.59692032 0.5758201  0.50176412 0.39389971\n",
      " 0.28949205 0.23636312 0.48953634 0.41572715 0.45586645 0.60567468\n",
      " 0.47643193 0.58238559 0.60380917 0.19515253 0.2367419  0.38799203\n",
      " 0.70189948 0.40268847 0.51602597 0.42509652 0.35421709 0.26008397\n",
      " 0.40525948 0.38975602 0.52265149 0.6525368  0.46888859 0.62803334\n",
      " 0.61368064 0.85099342 0.36560081 0.49764385 0.3284133  0.36886505\n",
      " 0.79446182 0.2947704  0.68004757 0.50042961 0.53197801 0.4046755\n",
      " 0.4691541  0.33635138 0.2385294  0.44310972 0.46689184 0.15646069\n",
      " 0.3497306  0.72632503 0.41285179 0.54335728 0.26689592 0.42866992\n",
      " 0.46183622 0.62186133 0.63926538 0.12019851 0.33947321 0.40865471\n",
      " 0.38543193 0.23833126 0.40260084 0.21263316 0.59496807 0.55960183\n",
      " 0.54303656 0.59730123 0.49858027 0.47453018 0.58632564 0.3979105\n",
      " 0.40651516 0.62076892 0.56680725 0.40071635 0.78406316 0.37362777\n",
      " 0.20872016 0.45196495 0.57322098 0.51771753 0.43723437 0.29057673\n",
      " 0.40589233 0.48184584 0.32670422 0.47778764 0.31830134 0.58111083\n",
      " 0.48538134 0.46823539 0.20746157 0.63709766 0.54200452 0.57767876\n",
      " 0.37628607 0.39815033 0.53325363 0.46425621 0.33042487 0.17507824\n",
      " 0.39289051 0.5205974  0.13959268 0.39954636 0.55207977 0.30288784\n",
      " 0.2751399  0.25829028 0.28444375 0.32175418 0.36932259 0.08842951\n",
      " 0.44953502 0.38748307 0.52853492 0.49566056 0.44933573 0.58427229\n",
      " 0.75066321 0.43541182 0.42582234 0.47070565 0.3718013  0.53303046\n",
      " 0.53239575 0.44036079 0.31562577 0.21543937 0.10702564 0.36597717\n",
      " 0.5436525  0.31094148 0.53494857 0.41973541 0.56271769 0.39659581\n",
      " 0.44527893 0.75915841 0.64295313 0.48367274 0.32588741 0.49270903\n",
      " 0.18492447 0.45043454 0.65135732 0.87701699 0.49054168 0.54749741\n",
      " 0.38285195 0.52294875 0.47452219 0.20166043 0.43977584 0.37945559\n",
      " 0.48357048 0.48392812 0.33692763 0.53495696 0.36392073 0.48594183\n",
      " 0.39920978 0.59127781]\n",
      "[0.36500117 0.19590086 0.45017543 0.32975176 0.34879953 0.39732442\n",
      " 0.32078392 0.60157538 0.49391027 0.58310186 0.61800805 0.40283995\n",
      " 0.10493284 0.43552028 0.38483156 0.56576757 0.51858577 0.55066888\n",
      " 0.39007135 0.30027188 0.59438348 0.50462215 0.60291401 0.13076706\n",
      " 0.32239578 0.64336269 0.38211704 0.76969753 0.58511309 0.46591455\n",
      " 0.62190144 0.20058461 0.85332878 0.74458    0.24210285 0.42377969\n",
      " 0.44214263 0.56018303 0.46533058 0.56661831 0.4362505  0.28054612\n",
      " 0.43202913 0.23938315 0.58823226 0.36893791 0.45174121 0.32927151\n",
      " 0.49169016 0.41678949 0.36480888 0.60290129 0.36273153 0.43084045\n",
      " 0.23721218 0.39318378 0.4111064  0.3389157  0.55521659 0.49228656\n",
      " 0.32314074 0.4580937  0.44965225 0.41601235 0.35411131 0.48507721\n",
      " 0.15700652 0.20219197 0.12147161 0.60600888 0.44625507 0.47836753\n",
      " 0.46698125 0.20969514 0.63156914 0.32821403 0.47390298 0.68791041\n",
      " 0.49524352 0.5613404  0.45914786 0.42528056 0.25066625 0.39987273\n",
      " 0.30284047 0.53555318 0.20082129 0.67434218 0.34685891 0.19990508\n",
      " 0.31732215 0.55276662 0.19211067 0.61803373 0.4636548  0.28480724\n",
      " 0.5556601  0.42008118 0.38302851 0.51130426 0.33501666 0.40512451]\n"
     ]
    }
   ],
   "source": [
    "# print(transformer.get_params())\n",
    "print(y_train)\n",
    "print(y_test)\n",
    "# "
   ]
  },
  {
   "attachments": {},
   "cell_type": "markdown",
   "metadata": {},
   "source": [
    "## Set my model\n",
    "- input_shape は入力データのサイズ。\n",
    "- モデルの定義方法は調べればたくさん出てきますが、例えばここ： https://sinyblog.com/deaplearning/keras_how_to/ \n",
    "- 最後の層の出力は、期待する出力データのサイズ\n",
    "- [model](https://github.com/si-tm/docs-l10n/blob/master/site/ja/tutorials/quickstart/beginner.py)"
   ]
  },
  {
   "cell_type": "code",
   "execution_count": 59,
   "metadata": {
    "scrolled": true
   },
   "outputs": [],
   "source": [
    "def build_model():\n",
    "    \n",
    "    model = tf.keras.models.Sequential([\n",
    "    tf.keras.layers.Flatten(input_shape=(x_train.shape[1],)),\n",
    "    tf.keras.layers.Dense(128, activation='relu'), # units=128 : 出力空間の次元数\n",
    "    tf.keras.layers.Dropout(0.2), # 入力にドロップアウトを適用する rate=0.2 : 入力ユニットをドロップする割合\n",
    "    tf.keras.layers.Dense(1) \n",
    "    ])\n",
    "\n",
    "    optimizer = tf.keras.optimizers.Adam() # optimizers も Adam 以外に色々種類があります。調べてみてください！\n",
    "\n",
    "    model.compile(loss='mse',\n",
    "                optimizer=optimizer,\n",
    "                metrics=['mae', 'mse']) # loss 関数に何を採用するかはどんな問題を解きたいのかによります。\n",
    "                                        #ここでは MSE を採用していますが、他にも色々な選択肢があります。調べてみてください！\n",
    "    return model"
   ]
  },
  {
   "cell_type": "code",
   "execution_count": 60,
   "metadata": {
    "scrolled": true
   },
   "outputs": [],
   "source": [
    "model = build_model()"
   ]
  },
  {
   "cell_type": "code",
   "execution_count": 61,
   "metadata": {
    "scrolled": true
   },
   "outputs": [
    {
     "name": "stdout",
     "output_type": "stream",
     "text": [
      "Model: \"sequential_4\"\n",
      "_________________________________________________________________\n",
      " Layer (type)                Output Shape              Param #   \n",
      "=================================================================\n",
      " flatten_4 (Flatten)         (None, 1728)              0         \n",
      "                                                                 \n",
      " dense_8 (Dense)             (None, 128)               221312    \n",
      "                                                                 \n",
      " dropout_4 (Dropout)         (None, 128)               0         \n",
      "                                                                 \n",
      " dense_9 (Dense)             (None, 1)                 129       \n",
      "                                                                 \n",
      "=================================================================\n",
      "Total params: 221,441\n",
      "Trainable params: 221,441\n",
      "Non-trainable params: 0\n",
      "_________________________________________________________________\n"
     ]
    }
   ],
   "source": [
    "model.summary()"
   ]
  },
  {
   "cell_type": "code",
   "execution_count": 62,
   "metadata": {
    "scrolled": true
   },
   "outputs": [
    {
     "name": "stdout",
     "output_type": "stream",
     "text": [
      "(10, 1728)\n",
      "1/1 [==============================] - 0s 138ms/step\n"
     ]
    }
   ],
   "source": [
    "example_batch = x_train[:10]\n",
    "print(example_batch.shape)\n",
    "example_result = model.predict(example_batch)\n",
    "# example_result"
   ]
  },
  {
   "cell_type": "code",
   "execution_count": 63,
   "metadata": {},
   "outputs": [
    {
     "name": "stdout",
     "output_type": "stream",
     "text": [
      "[[ 0.02235303]\n",
      " [-0.07873121]\n",
      " [-0.00804064]\n",
      " [-0.00274459]\n",
      " [ 0.04522936]\n",
      " [ 0.04397382]\n",
      " [-0.06107152]\n",
      " [ 0.02611743]\n",
      " [ 0.08062861]\n",
      " [-0.05453131]]\n"
     ]
    }
   ],
   "source": [
    "print(example_result)"
   ]
  },
  {
   "cell_type": "code",
   "execution_count": 64,
   "metadata": {
    "scrolled": true
   },
   "outputs": [
    {
     "name": "stdout",
     "output_type": "stream",
     "text": [
      "\n",
      "...................................................................................................."
     ]
    }
   ],
   "source": [
    "# エポックが終わるごとにドットを一つ出力することで進捗を表示\n",
    "class PrintDot(tf.keras.callbacks.Callback):\n",
    "    def on_epoch_end(self, epoch, logs):\n",
    "        if epoch % 100 == 0: print('')\n",
    "        print('.', end='')\n",
    "\n",
    "# early_stop = keras.callbacks.EarlyStopping(monitor='val_loss', patience=10)\n",
    "# EPOCHS = 400 # epoch 数も考慮しよう\n",
    "EPOCHS = 100 # epoch 数も考慮しよう\n",
    "\n",
    "history = model.fit(\n",
    "    x_train, y_train,\n",
    "    epochs=EPOCHS, validation_split = 0.2, verbose=0,\n",
    "    callbacks=[PrintDot()]\n",
    ")"
   ]
  },
  {
   "cell_type": "code",
   "execution_count": 65,
   "metadata": {
    "scrolled": true
   },
   "outputs": [
    {
     "data": {
      "text/html": [
       "<div>\n",
       "<style scoped>\n",
       "    .dataframe tbody tr th:only-of-type {\n",
       "        vertical-align: middle;\n",
       "    }\n",
       "\n",
       "    .dataframe tbody tr th {\n",
       "        vertical-align: top;\n",
       "    }\n",
       "\n",
       "    .dataframe thead th {\n",
       "        text-align: right;\n",
       "    }\n",
       "</style>\n",
       "<table border=\"1\" class=\"dataframe\">\n",
       "  <thead>\n",
       "    <tr style=\"text-align: right;\">\n",
       "      <th></th>\n",
       "      <th>loss</th>\n",
       "      <th>mae</th>\n",
       "      <th>mse</th>\n",
       "      <th>val_loss</th>\n",
       "      <th>val_mae</th>\n",
       "      <th>val_mse</th>\n",
       "      <th>epoch</th>\n",
       "    </tr>\n",
       "  </thead>\n",
       "  <tbody>\n",
       "    <tr>\n",
       "      <th>95</th>\n",
       "      <td>0.001558</td>\n",
       "      <td>0.029201</td>\n",
       "      <td>0.001558</td>\n",
       "      <td>0.025764</td>\n",
       "      <td>0.125685</td>\n",
       "      <td>0.025764</td>\n",
       "      <td>95</td>\n",
       "    </tr>\n",
       "    <tr>\n",
       "      <th>96</th>\n",
       "      <td>0.001667</td>\n",
       "      <td>0.031097</td>\n",
       "      <td>0.001667</td>\n",
       "      <td>0.026196</td>\n",
       "      <td>0.126899</td>\n",
       "      <td>0.026196</td>\n",
       "      <td>96</td>\n",
       "    </tr>\n",
       "    <tr>\n",
       "      <th>97</th>\n",
       "      <td>0.001668</td>\n",
       "      <td>0.032930</td>\n",
       "      <td>0.001668</td>\n",
       "      <td>0.025709</td>\n",
       "      <td>0.125572</td>\n",
       "      <td>0.025709</td>\n",
       "      <td>97</td>\n",
       "    </tr>\n",
       "    <tr>\n",
       "      <th>98</th>\n",
       "      <td>0.001746</td>\n",
       "      <td>0.030972</td>\n",
       "      <td>0.001746</td>\n",
       "      <td>0.024969</td>\n",
       "      <td>0.122372</td>\n",
       "      <td>0.024969</td>\n",
       "      <td>98</td>\n",
       "    </tr>\n",
       "    <tr>\n",
       "      <th>99</th>\n",
       "      <td>0.001727</td>\n",
       "      <td>0.031220</td>\n",
       "      <td>0.001727</td>\n",
       "      <td>0.025597</td>\n",
       "      <td>0.124948</td>\n",
       "      <td>0.025597</td>\n",
       "      <td>99</td>\n",
       "    </tr>\n",
       "  </tbody>\n",
       "</table>\n",
       "</div>"
      ],
      "text/plain": [
       "        loss       mae       mse  val_loss   val_mae   val_mse  epoch\n",
       "95  0.001558  0.029201  0.001558  0.025764  0.125685  0.025764     95\n",
       "96  0.001667  0.031097  0.001667  0.026196  0.126899  0.026196     96\n",
       "97  0.001668  0.032930  0.001668  0.025709  0.125572  0.025709     97\n",
       "98  0.001746  0.030972  0.001746  0.024969  0.122372  0.024969     98\n",
       "99  0.001727  0.031220  0.001727  0.025597  0.124948  0.025597     99"
      ]
     },
     "execution_count": 65,
     "metadata": {},
     "output_type": "execute_result"
    }
   ],
   "source": [
    "hist = pd.DataFrame(history.history)\n",
    "hist['epoch'] = history.epoch\n",
    "hist.tail()"
   ]
  },
  {
   "cell_type": "code",
   "execution_count": 66,
   "metadata": {
    "scrolled": true
   },
   "outputs": [
    {
     "data": {
      "image/png": "[encoded data removed]",
      "text/plain": [
       "<Figure size 432x288 with 1 Axes>"
      ]
     },
     "metadata": {
      "needs_background": "light"
     },
     "output_type": "display_data"
    },
    {
     "data": {
      "image/png": "[encoded data removed]",
      "text/plain": [
       "<Figure size 432x288 with 1 Axes>"
      ]
     },
     "metadata": {
      "needs_background": "light"
     },
     "output_type": "display_data"
    }
   ],
   "source": [
    "def plot_history(history):\n",
    "    hist = pd.DataFrame(history.history)\n",
    "    hist['epoch'] = history.epoch\n",
    "\n",
    "    plt.figure()\n",
    "    plt.xlabel('Epoch')\n",
    "    plt.ylabel('Mean Abs Error [mc]')\n",
    "    plt.plot(hist['epoch'], hist['mae'], label='Train Error')\n",
    "    plt.plot(hist['epoch'], hist['val_mae'], label = 'Val Error')\n",
    "    plt.ylim([0,30])\n",
    "    plt.legend()\n",
    "\n",
    "    plt.figure()\n",
    "    plt.xlabel('Epoch')\n",
    "    plt.ylabel('Mean Square Error [$mc^2$]')\n",
    "    plt.plot(hist['epoch'], hist['mse'], label='Train Error')\n",
    "    plt.plot(hist['epoch'], hist['val_mse'], label = 'Val Error')\n",
    "    plt.ylim([0,3])\n",
    "    plt.legend()\n",
    "    plt.show()\n",
    "\n",
    "\n",
    "plot_history(history)"
   ]
  },
  {
   "cell_type": "code",
   "execution_count": 67,
   "metadata": {
    "scrolled": true
   },
   "outputs": [
    {
     "name": "stdout",
     "output_type": "stream",
     "text": [
      "4/4 [==============================] - 0s 3ms/step\n"
     ]
    },
    {
     "data": {
      "text/plain": [
       "[<matplotlib.lines.Line2D at 0x7f9a85c0cca0>]"
      ]
     },
     "execution_count": 67,
     "metadata": {},
     "output_type": "execute_result"
    },
    {
     "data": {
      "image/png": "[encoded data removed]",
      "text/plain": [
       "<Figure size 432x432 with 1 Axes>"
      ]
     },
     "metadata": {
      "needs_background": "light"
     },
     "output_type": "display_data"
    }
   ],
   "source": [
    "test_predictions = model.predict(x_test).flatten()\n",
    "res = linregress(test_predictions, y_test)\n",
    "\n",
    "plt.figure(figsize=(6,6))\n",
    "plt.scatter(y_test, test_predictions)\n",
    "# plt.xlabel('True Values [mc]')\n",
    "# plt.ylabel('Predictions [mc]')\n",
    "plt.xlabel('True Values of volume ')\n",
    "plt.ylabel('Predictions of volume')\n",
    "plt.axis('equal')\n",
    "plt.axis('square')\n",
    "plt.xlim([-0.5,1])\n",
    "plt.ylim([-0.5,1])\n",
    "_ = plt.plot([-0.5, 1], [-0.5, 1])\n",
    "\n",
    "plt.plot([-0.5, 1], res.intercept + res.slope*np.array([-1, 1]), 'r', label='fitted line')\n",
    "\n",
    "# normalizer 学習前"
   ]
  },
  {
   "cell_type": "code",
   "execution_count": 54,
   "metadata": {},
   "outputs": [
    {
     "name": "stdout",
     "output_type": "stream",
     "text": [
      "2/2 [==============================] - 0s 7ms/step\n"
     ]
    },
    {
     "data": {
      "text/plain": [
       "[<matplotlib.lines.Line2D at 0x7f9a85ae97c0>]"
      ]
     },
     "execution_count": 54,
     "metadata": {},
     "output_type": "execute_result"
    },
    {
     "data": {
      "image/png": "[encoded data removed]",
      "text/plain": [
       "<Figure size 432x432 with 1 Axes>"
      ]
     },
     "metadata": {
      "needs_background": "light"
     },
     "output_type": "display_data"
    }
   ],
   "source": [
    "train_predictions = model.predict(x_train).flatten()\n",
    "res = linregress(train_predictions, y_train)\n",
    "\n",
    "plt.figure(figsize=(6,6))\n",
    "plt.scatter(y_train, train_predictions)\n",
    "plt.xlabel('True Values [mc]')\n",
    "plt.ylabel('Predictions [mc]')\n",
    "plt.axis('equal')\n",
    "plt.axis('square')\n",
    "plt.xlim([-1,1])\n",
    "plt.ylim([-1,1])\n",
    "_ = plt.plot([-1, 1], [-1, 1])\n",
    "\n",
    "plt.plot([-1, 1], res.intercept + res.slope*np.array([-1, 1]), 'r', label='fitted line')"
   ]
  },
  {
   "cell_type": "code",
   "execution_count": 68,
   "metadata": {
    "scrolled": true
   },
   "outputs": [
    {
     "name": "stdout",
     "output_type": "stream",
     "text": [
      "INFO:tensorflow:Assets written to: ../saved_model/random_l3_5_model/assets\n"
     ]
    }
   ],
   "source": [
    "# トレーニングした model をどこかで使用したいなら以下のようにモデルを保存する\n",
    "model.save('../saved_model/random_l3_5_model')"
   ]
  },
  {
   "cell_type": "code",
   "execution_count": null,
   "metadata": {},
   "outputs": [],
   "source": []
  }
 ],
 "metadata": {
  "kernelspec": {
   "display_name": "Python 3.8.3 64-bit",
   "language": "python",
   "name": "python3"
  },
  "language_info": {
   "codemirror_mode": {
    "name": "ipython",
    "version": 3
   },
   "file_extension": ".py",
   "mimetype": "text/x-python",
   "name": "python",
   "nbconvert_exporter": "python",
   "pygments_lexer": "ipython3",
   "version": "3.8.3"
  },
  "vscode": {
   "interpreter": {
    "hash": "0adcc2737ebf6a4a119f135174df96668767fca1ef1112612db5ecadf2b6d608"
   }
  }
 },
 "nbformat": 4,
 "nbformat_minor": 4
}

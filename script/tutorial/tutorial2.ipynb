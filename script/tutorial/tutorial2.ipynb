{
 "cells": [
  {
   "cell_type": "code",
   "execution_count": 1,
   "metadata": {
    "scrolled": true
   },
   "outputs": [
    {
     "name": "stdout",
     "output_type": "stream",
     "text": [
      "TensorFlow version: 2.9.1\n"
     ]
    }
   ],
   "source": [
    "import tensorflow as tf\n",
    "print(\"TensorFlow version:\", tf.__version__)\n",
    "\n",
    "from tensorflow.keras.layers import Dense\n",
    "from tensorflow.keras import Model\n",
    "from tensorflow.keras import layers\n",
    "from tensorflow import keras"
   ]
  },
  {
   "cell_type": "code",
   "execution_count": 2,
   "metadata": {
    "scrolled": true
   },
   "outputs": [],
   "source": [
    "import os\n",
    "import sys\n",
    "import matplotlib.pyplot as plt\n",
    "import pandas as pd\n",
    "import seaborn as sns\n",
    "import csv\n",
    "import pickle\n",
    "from scipy.stats import linregress\n",
    "from sklearn.model_selection import train_test_split\n",
    "from sklearn.model_selection import train_test_split\n",
    "from datetime import datetime\n",
    "import numpy as np\n",
    "from sklearn.preprocessing import Normalizer"
   ]
  },
  {
   "cell_type": "markdown",
   "metadata": {},
   "source": [
    "## Loading a dataset"
   ]
  },
  {
   "cell_type": "markdown",
   "metadata": {},
   "source": [
    "## Split into train data and test data as dataset\n",
    "- データセットとして使用するデータを取得する。\n",
    "- trainデータとtestデータに分割する。（例えば80%をtrainデータに、20%をtestデータに、など。）\n",
    "- 書き方はデータセットとして使用するデータの type による。もし、numpy の形で持っているならhttps://www.tensorflow.org/tutorials/load_data/numpy?hl=ja が参考になります。"
   ]
  },
  {
   "cell_type": "code",
   "execution_count": 3,
   "metadata": {
    "scrolled": true
   },
   "outputs": [
    {
     "name": "stdout",
     "output_type": "stream",
     "text": [
      "1222\n",
      "977\n",
      "(977, 16)\n",
      "(245, 16)\n",
      "(977,)\n",
      "(245,)\n",
      "977 train examples\n",
      "245 test examples\n",
      "977 train examples\n"
     ]
    }
   ],
   "source": [
    "\n",
    "\n",
    "x_path = '../../data/npy/x_random_l1_6.npy'\n",
    "x_path = '../../data/npy/x_random_l1_6_dv.npy'\n",
    "# x_path = '../../data/npy/x_random_6_diffseq_mean_l1.npy'\n",
    "# x_path = '../../data/npy/x_random_6_diffseq_mean_l1_3.npy'\n",
    "x_data = np.load(x_path)\n",
    "\n",
    "y_path = '../../data/npy/y_random_l1_6.npy'\n",
    "y_path = '../../data/npy/y_random_l1_6_dv.npy'\n",
    "# y_path = '../../data/npy/y_random_6_diffseq_mean_l1.npy'\n",
    "# y_path = '../../data/npy/y_random_6_diffseq_mean_l1_3.npy'\n",
    "y_data = np.load(y_path, allow_pickle=True)\n",
    "\n",
    "\n",
    "\n",
    "print(len(y_data))\n",
    "\n",
    "min_val = y_data.min()\n",
    "max_val = y_data.max()\n",
    "\n",
    "y_data = (y_data - min_val)/(max_val - min_val)\n",
    "\n",
    "x_train, x_test, y_train, y_test = train_test_split(x_data, y_data, test_size=0.2)\n",
    "\n",
    "print(len(x_train))\n",
    "\n",
    "print(x_train.shape)\n",
    "print(x_test.shape)\n",
    "print(y_train.shape)\n",
    "print(y_test.shape)\n",
    "\n",
    "print(len(x_train), 'train examples')\n",
    "print(len(x_test), 'test examples')\n",
    "print(len(y_train), 'train examples')\n"
   ]
  },
  {
   "cell_type": "code",
   "execution_count": 4,
   "metadata": {},
   "outputs": [
    {
     "name": "stdout",
     "output_type": "stream",
     "text": [
      "[0.71795103 0.29049498 0.71943515 0.48161924 0.25748968 0.26954539\n",
      " 0.49979048 0.73256763 0.2386567  0.8569175  0.7191881  0.90757943\n",
      " 0.49979048 0.49979048 0.53553359 0.46666406 0.90469144 0.29608187\n",
      " 0.91194465 0.52424655 0.27805408 0.29427207 0.72114935 0.08071252\n",
      " 0.46024023 0.51334485 0.28512073 0.28512073 0.50369697 0.49979048\n",
      " 0.52160374 0.71442443 0.28972544 0.50818868 0.26501383 0.29784987\n",
      " 0.92588369 0.48955354 0.4777931  0.93913762 0.72362451 0.94588355\n",
      " 0.70095158 0.92635506 0.91961756 0.94283973 0.26603448 0.93989483\n",
      " 0.30762832 0.49979048 0.72051252 0.07036138 0.73417463 0.28085438\n",
      " 0.24374704 0.96741939 0.67634067 0.2951776  0.49235492 0.94196409\n",
      " 0.74066523 0.68106631 0.92840275 0.07036138 0.5378277  0.9554893\n",
      " 0.         0.72454852 0.49534791 0.48904508 0.28512073 0.48724025\n",
      " 0.07036138 0.90561813 0.47648791 0.07036138 0.85361853 0.49959306\n",
      " 0.68678709 0.30891323 0.70493411 0.27419391 0.94628487 0.24764692\n",
      " 0.50416966 0.72247056 0.92675567 0.49979048 0.71442443 0.73961019\n",
      " 0.69795875 0.23449778 0.27214926 0.0597053  0.49979048 0.71483571\n",
      " 0.30605428 0.72232425 0.05023411 0.49979048 0.91760376 0.05117462\n",
      " 0.82666462 0.0693855  0.47847589 0.94084884 0.29427207 0.05964409\n",
      " 0.71366837 0.75099939 0.95529145 0.47425025 0.72466433 0.47634351\n",
      " 0.71442443 0.29608187 0.93971469 0.27729761 0.72771911 0.2976033\n",
      " 0.07171201 0.96583353 0.28512073 0.93254218 0.72051252 0.94986376\n",
      " 0.48951079 0.47634351 0.91280313 0.07036138 0.97293182 0.07036138\n",
      " 0.69830837 0.49979048 0.95934804 0.71442443 0.04887507 0.6765703\n",
      " 0.72051252 0.07721186 0.29038091 0.49455133 0.09217054 0.08756284\n",
      " 0.71503124 0.28512073 0.24675687 0.70768764 0.47702518 0.5034661\n",
      " 0.06653685 0.06653685 0.49979048 0.93257597 0.06003158 0.47205835\n",
      " 0.9578065  0.49038495 0.29773506 0.71503124 0.27329299 0.27329299\n",
      " 0.53294698 0.721657   0.48261767 0.70703022 0.93913762 0.94683926\n",
      " 0.49979048 0.92287196 0.92308175 0.69971489 0.51041339 0.09815802\n",
      " 0.70969414 0.9138554  0.07036138 0.49039693 0.49979048 0.67185038\n",
      " 0.28162853 0.93240931 0.92518385 0.70893638 0.87264242 0.73448417\n",
      " 0.07439095 0.93561621 0.72517395 0.67261535 0.28512073 0.27519277\n",
      " 0.87840999 0.92599585 0.30820715 0.07439095 0.71361397 0.30039202\n",
      " 0.88039216 0.93739071 0.28057951 0.69689428 0.26947663 0.91157913\n",
      " 0.45995082 0.28514668 0.71442443 0.73345606 0.07083873 0.9707538\n",
      " 0.29578059 0.92728844 0.66936647 0.28512073 0.67892202 0.73704068\n",
      " 0.48406943 0.72330046 0.71559488 0.87673706 0.9504877  0.50582517\n",
      " 0.51053339 0.90947367 0.73101489 0.96094197 0.48626558 0.06386671\n",
      " 0.48472768 0.7407472  0.07036138 0.29695583 0.52510318 0.0814093\n",
      " 0.90987605 0.73575406 0.71442443 0.71442443 0.5234893  0.28514668\n",
      " 0.90158704 0.06612222 0.46498908 0.51475955 0.26144232 0.48187042\n",
      " 0.95890832 0.25984326 0.47832557 0.89761603 0.50350162 0.2924691\n",
      " 0.49979048 0.28238372 0.90123161 0.27449703 0.9510284  0.26365035\n",
      " 0.73534877 0.46526913 0.26365035 0.28514668 0.52186319 0.71235557\n",
      " 0.93630982 0.49979048 0.69558572 0.7479891  0.29003856 0.94941166\n",
      " 0.70698839 0.70881166 0.90898585 0.90489989 0.04213842 0.71365657\n",
      " 0.91948604 0.7463534  0.48785202 0.49979048 0.07036138 0.29492836\n",
      " 0.69296202 0.29306274 0.72950269 0.51542551 0.06653685 0.50145429\n",
      " 0.52927251 0.72297084 0.31295872 0.93598306 0.48632652 0.50818499\n",
      " 0.64104472 0.2833071  0.71442443 0.94562578 0.26303244 0.07791403\n",
      " 0.53189669 0.52369757 0.73335879 0.93916099 0.46739763 0.6996365\n",
      " 0.73542522 0.72867267 0.27588999 0.28512073 0.68943219 0.73937511\n",
      " 0.46944816 0.7466239  0.49560846 0.9242606  0.0273856  0.31589921\n",
      " 0.70434301 0.52099083 0.93782062 0.87736485 0.28653137 0.49629022\n",
      " 0.71542554 0.53375739 0.28941657 0.94820075 0.4568603  0.30452533\n",
      " 0.47381604 0.76456525 0.71442443 0.4660488  0.73656225 0.85103355\n",
      " 0.69298314 0.72051252 0.28221469 0.7247833  0.71328969 0.07931562\n",
      " 0.71746811 0.49979048 0.71324224 0.72370763 0.5405166  0.51507507\n",
      " 0.05558658 0.71654504 0.48874605 0.48542456 0.96025967 0.25350754\n",
      " 0.71424924 0.71352532 0.0510762  0.07931562 0.2833071  0.47516899\n",
      " 0.08910876 0.93916099 0.92862124 0.52082859 0.93226475 0.90967001\n",
      " 0.92631756 0.86108903 0.71005151 0.28512073 0.72369191 0.06653685\n",
      " 0.07721186 0.71640435 0.08071252 0.25373442 0.72747972 0.72444702\n",
      " 0.93971862 0.92839217 0.91098482 0.08071252 0.68577875 0.29371881\n",
      " 0.4397427  0.70881166 0.71248302 0.47728123 0.49811608 0.45566349\n",
      " 0.75309356 0.06395162 0.93783902 0.92386247 0.73256653 0.51779276\n",
      " 0.48492396 0.9341598  0.91846455 0.47180487 0.29953009 0.89280332\n",
      " 0.90025792 0.30081962 0.48614478 0.51527038 0.30118335 0.28139285\n",
      " 0.69940779 0.49979048 0.699523   0.49498761 0.26807159 0.94607979\n",
      " 0.91769594 0.90678054 0.48422651 0.06305795 0.87622005 0.49979048\n",
      " 0.50314282 0.72409737 0.48595575 0.49979048 0.51568824 0.49296137\n",
      " 0.49548973 0.29635403 0.69809397 0.93982146 0.28514668 0.07036138\n",
      " 0.28512073 0.7380327  0.90857494 0.75011596 0.53804229 0.523366\n",
      " 0.68355028 0.92904049 0.95564128 0.92300484 0.71643926 0.93866451\n",
      " 0.51726302 0.72232425 0.05558658 0.71116069 0.07083873 0.07721186\n",
      " 0.28512073 0.934279   0.72817834 0.90551864 0.70650669 0.92067037\n",
      " 0.71371504 0.28972544 0.92588009 0.9293065  0.45435338 0.72982877\n",
      " 0.50902681 0.68744635 0.29953009 0.24903361 0.70943647 0.92642346\n",
      " 0.74700372 0.69828565 0.23371582 0.92862124 0.49959306 0.28512073\n",
      " 0.93537919 0.9137685  0.92238937 0.29298334 0.72385721 0.73132714\n",
      " 0.70386505 0.07721186 0.64522887 0.95011049 0.90177167 0.9152388\n",
      " 0.5142957  0.89896616 0.48855948 0.46042684 0.48472768 0.2595801\n",
      " 0.28512073 0.29154791 0.47712201 0.24675687 0.49755802 0.73028902\n",
      " 0.4988857  0.49755802 0.69501834 0.49979048 0.94671658 0.48207813\n",
      " 0.28512073 0.04694034 0.50465968 0.94231695 0.49979048 0.71442443\n",
      " 0.28512073 0.94825559 0.29578059 0.93320148 0.69668267 0.70896024\n",
      " 0.92904049 0.28512073 0.48472768 0.91783785 0.51838768 0.93320491\n",
      " 0.26881904 0.51157829 0.50748598 0.07036138 0.89379686 1.\n",
      " 0.67113591 0.92908203 0.70860683 0.07083873 0.49039693 0.28158563\n",
      " 0.70898133 0.03463053 0.28512073 0.70893638 0.26890332 0.26740134\n",
      " 0.90029625 0.948586   0.92675373 0.88990671 0.7123842  0.72939722\n",
      " 0.92878864 0.93094379 0.93177669 0.93318692 0.06305795 0.92904049\n",
      " 0.28514994 0.95029122 0.49534791 0.93585354 0.09262104 0.69956484\n",
      " 0.71372313 0.49039693 0.48765295 0.94324312 0.94900024 0.49978156\n",
      " 0.9450452  0.73532104 0.30580011 0.28514668 0.49979048 0.72519546\n",
      " 0.94498036 0.22070687 0.50138891 0.2347918  0.84074558 0.46738904\n",
      " 0.51800006 0.5034661  0.91990172 0.75760694 0.49835334 0.28698751\n",
      " 0.49755802 0.26144232 0.49755802 0.9134516  0.73514559 0.49979048\n",
      " 0.28629506 0.91592402 0.28512073 0.04448417 0.93879391 0.68342997\n",
      " 0.41458856 0.26365035 0.7182703  0.31998478 0.49103151 0.93346374\n",
      " 0.71656326 0.71549255 0.31854529 0.08071252 0.04887507 0.96029751\n",
      " 0.71763451 0.0273856  0.92218652 0.49979048 0.91334729 0.9271845\n",
      " 0.72370763 0.2576989  0.53103689 0.28512073 0.91822714 0.71442443\n",
      " 0.07083873 0.07931562 0.29476289 0.6638114  0.06049601 0.9386565\n",
      " 0.49039693 0.67019859 0.09225542 0.92233967 0.06204545 0.53629885\n",
      " 0.86617903 0.29154791 0.08071252 0.07721186 0.666375   0.72940028\n",
      " 0.69563359 0.70698839 0.50600576 0.92921677 0.9462616  0.29306274\n",
      " 0.49979048 0.06653685 0.07083873 0.73342469 0.94100999 0.61776345\n",
      " 0.929014   0.72182772 0.28512073 0.71442443 0.90908435 0.92997434\n",
      " 0.95456217 0.942319   0.72146442 0.71161276 0.48664143 0.49176077\n",
      " 0.72210559 0.70276742 0.9259806  0.88071978 0.24746478 0.4884465\n",
      " 0.28308697 0.93115417 0.90742956 0.49979048 0.49990283 0.91913989\n",
      " 0.07439095 0.71324224 0.46743035 0.75442263 0.52446604 0.92389963\n",
      " 0.07036138 0.74851854 0.93887588 0.07083873 0.26807159 0.69452205\n",
      " 0.08928027 0.28150426 0.72306937 0.96701239 0.68774657 0.31373765\n",
      " 0.75045845 0.93288646 0.73835208 0.07266284 0.48795694 0.96025499\n",
      " 0.72370763 0.96261954 0.49039693 0.48765295 0.9010758  0.72089726\n",
      " 0.50957003 0.67320014 0.95696829 0.29737811 0.94416342 0.72397623\n",
      " 0.68577875 0.07721186 0.29427207 0.92238937 0.87304788 0.48977226\n",
      " 0.93205877 0.70899232 0.74030399 0.73544822 0.94791174 0.48608646\n",
      " 0.72436866 0.30175045 0.24675687 0.25503527 0.28056499 0.73040098\n",
      " 0.51070063 0.49979048 0.26807159 0.16508037 0.52978129 0.92937532\n",
      " 0.69038624 0.31188168 0.91921713 0.71636573 0.92439595 0.93165841\n",
      " 0.31453386 0.06386105 0.27929972 0.67104665 0.94222132 0.49979048\n",
      " 0.07083873 0.25255859 0.70155731 0.51568824 0.86690303 0.07644538\n",
      " 0.72600754 0.72489795 0.61328528 0.9602897  0.4845624  0.74298398\n",
      " 0.94869552 0.95904213 0.08079774 0.29643716 0.72519546 0.91948604\n",
      " 0.704718   0.97108742 0.93982146 0.27508151 0.96976295 0.51848589\n",
      " 0.92509282 0.48791783 0.92531143 0.70048761 0.51715812 0.26807159\n",
      " 0.26343095 0.50818868 0.28512073 0.29427207 0.89275501 0.0576557\n",
      " 0.49242258 0.92770997 0.94017537 0.28972544 0.91260253 0.48760296\n",
      " 0.73754434 0.72051252 0.31027372 0.93658926 0.29568846 0.93945457\n",
      " 0.26807159 0.93320148 0.04929748 0.50314282 0.92904049 0.51825891\n",
      " 0.9273519  0.72311722 0.28512073 0.6982309  0.07036138 0.94340426\n",
      " 0.316851   0.71442443 0.28512073 0.07036138 0.26660483 0.49776253\n",
      " 0.91392737 0.9050619  0.28512073 0.51589619 0.27329299 0.89420463\n",
      " 0.46615507 0.47201878 0.67673535 0.72498304 0.51012268 0.89062428\n",
      " 0.29332507 0.74262918 0.51292336 0.70461309 0.48719971 0.73803999\n",
      " 0.49979048 0.6524609  0.26144232 0.76096341 0.49963147 0.72153596\n",
      " 0.30733366 0.94324312 0.28759272 0.71281866 0.52487745 0.70652133\n",
      " 0.93216866 0.7377355  0.71233748 0.07036138 0.52605576 0.51768248\n",
      " 0.942319   0.7453867  0.95521645 0.47832557 0.29652865 0.70916272\n",
      " 0.05653115 0.30580011 0.28512073 0.52585776 0.29578059 0.93165624\n",
      " 0.70276742 0.50145429 0.07036138 0.48245314 0.27588999 0.23732964\n",
      " 0.49979048 0.50818868 0.48472768 0.30155533 0.27320929 0.27774655\n",
      " 0.28349148 0.48161924 0.07036138 0.29306274 0.91803289 0.72771911\n",
      " 0.49959306 0.93506819 0.50969672 0.28512073 0.47544364 0.26593527\n",
      " 0.29427207 0.89754325 0.27588999 0.07083873 0.30565531 0.49979048\n",
      " 0.26593527 0.71406032 0.26365035 0.07036138 0.30067338 0.26593527\n",
      " 0.91464436 0.71567326 0.7182703  0.94318695 0.06531858 0.71060696\n",
      " 0.46607069 0.2951776  0.5362774  0.74648762 0.52134424 0.70391686\n",
      " 0.06653685 0.28512073 0.92119921 0.49367709 0.72060277 0.71043673\n",
      " 0.29608187 0.89380643 0.30076211 0.71800913 0.07036138 0.29578059\n",
      " 0.25161234 0.75918917 0.26373566 0.92387671 0.29154791 0.71934946\n",
      " 0.28013469 0.9138836  0.90889445 0.07036138 0.94464025 0.08071252\n",
      " 0.67282267 0.72602166 0.92904049 0.26807159 0.93835328 0.49571855\n",
      " 0.95008136 0.50818868 0.28512073 0.28512073 0.52184683 0.71864849\n",
      " 0.72290967 0.28512073 0.28512073 0.93916099 0.47913212 0.50718187\n",
      " 0.75362668 0.4534403  0.28297746 0.2951776  0.97264667 0.05023411\n",
      " 0.30580011 0.07129536 0.30062409 0.27809724 0.72853667 0.50928779\n",
      " 0.95677355 0.49979048 0.73563645 0.27588999 0.90975941 0.73175863\n",
      " 0.9492716  0.92537505 0.05558658 0.68026546 0.89111684 0.96852471\n",
      " 0.27718921 0.48281943 0.71550471 0.49959306 0.75978548]\n",
      "[0.71935769 0.72202535 0.49979048 0.51542551 0.27474891 0.73776247\n",
      " 0.7182703  0.04584798 0.75637619 0.28512073 0.72466433 0.93435616\n",
      " 0.10631755 0.50137651 0.90385003 0.28419971 0.95076001 0.71442443\n",
      " 0.71442443 0.50110055 0.28514668 0.94900024 0.72269911 0.91186067\n",
      " 0.49979048 0.68118277 0.28512073 0.28514668 0.85063555 0.70048761\n",
      " 0.50902681 0.28512073 0.92830996 0.70461149 0.9363483  0.52878085\n",
      " 0.07439095 0.70344313 0.93511816 0.29440607 0.49515122 0.72423924\n",
      " 0.9573807  0.50447792 0.28040047 0.46518638 0.50001329 0.49846724\n",
      " 0.07931562 0.67184461 0.70612344 0.72650829 0.69900738 0.50655227\n",
      " 0.51053339 0.50419774 0.30278449 0.49039693 0.48689648 0.51070063\n",
      " 0.48161924 0.27257591 0.06653685 0.4598153  0.91193403 0.75018016\n",
      " 0.71964401 0.75324673 0.94537038 0.94416805 0.94614941 0.07036138\n",
      " 0.45623556 0.76297167 0.47154159 0.90921326 0.50678641 0.50340668\n",
      " 0.70791119 0.50288642 0.66843442 0.90803479 0.49755802 0.72718253\n",
      " 0.93783902 0.49979048 0.87001429 0.48542456 0.06360403 0.72942009\n",
      " 0.70055813 0.69457543 0.72651195 0.48161924 0.71753308 0.52917206\n",
      " 0.66912841 0.28560982 0.73372745 0.70340809 0.71409373 0.88449322\n",
      " 0.49979048 0.51668593 0.90672603 0.28238372 0.29142313 0.25481072\n",
      " 0.66980965 0.93518098 0.50566325 0.72153596 0.51754924 0.89883551\n",
      " 0.51070063 0.2951776  0.94870871 0.70117225 0.70493411 0.25577559\n",
      " 0.91100471 0.90298579 0.72309441 0.47832557 0.51978332 0.67822052\n",
      " 0.30297637 0.50874291 0.49979048 0.49409593 0.69665012 0.3119043\n",
      " 0.9348064  0.75854014 0.92442477 0.93008324 0.08674117 0.90457852\n",
      " 0.6894489  0.51055888 0.6937566  0.28514668 0.71998908 0.49979048\n",
      " 0.2835151  0.49039693 0.51220034 0.72060277 0.07036138 0.26669202\n",
      " 0.2951776  0.51910308 0.31758035 0.73003094 0.72423924 0.72466433\n",
      " 0.45814932 0.49979048 0.50902681 0.92779725 0.68720552 0.71391346\n",
      " 0.69397992 0.93916099 0.50465968 0.49438422 0.93790189 0.07036138\n",
      " 0.93078052 0.88786638 0.98710637 0.49039693 0.7089309  0.26890332\n",
      " 0.06539783 0.27588999 0.07721186 0.29306274 0.94716158 0.28903222\n",
      " 0.72289168 0.27449707 0.25096487 0.07036138 0.71112018 0.07721186\n",
      " 0.72530166 0.01337584 0.71502092 0.32958186 0.28512073 0.75202711\n",
      " 0.316851   0.28512073 0.91098482 0.28512073 0.07931562 0.48350519\n",
      " 0.9044843  0.29049498 0.50855532 0.28512073 0.52694454 0.71442443\n",
      " 0.92119921 0.51803188 0.91769594 0.91979599 0.91575632 0.50650464\n",
      " 0.71559488 0.07931562 0.49924626 0.91901588 0.93922059 0.24629643\n",
      " 0.72309321 0.48911734 0.49225664 0.49979048 0.89660521 0.70857276\n",
      " 0.89237496 0.69494062 0.76622088 0.52878085 0.49570483 0.05558658\n",
      " 0.9211328  0.28654413 0.27465851 0.27046225 0.28514668 0.5190625\n",
      " 0.50083335 0.50939    0.95505775 0.26283956 0.93794392 0.49979048\n",
      " 0.92774567 0.47231855 0.24199446 0.5226913  0.04887507]\n"
     ]
    }
   ],
   "source": [
    "# print(transformer.get_params())\n",
    "print(y_train)\n",
    "print(y_test)\n",
    "# "
   ]
  },
  {
   "attachments": {},
   "cell_type": "markdown",
   "metadata": {},
   "source": [
    "## Set my model\n",
    "- input_shape は入力データのサイズ。\n",
    "- モデルの定義方法は調べればたくさん出てきますが、例えばここ： https://sinyblog.com/deaplearning/keras_how_to/ \n",
    "- 最後の層の出力は、期待する出力データのサイズ\n",
    "- [model](https://github.com/si-tm/docs-l10n/blob/master/site/ja/tutorials/quickstart/beginner.py)"
   ]
  },
  {
   "cell_type": "code",
   "execution_count": 5,
   "metadata": {
    "scrolled": true
   },
   "outputs": [],
   "source": [
    "def build_model():\n",
    "    \n",
    "    model = tf.keras.models.Sequential([\n",
    "    tf.keras.layers.Flatten(input_shape=(x_train.shape[1],)),\n",
    "    tf.keras.layers.Dense(128, activation='relu'), # units=128 : 出力空間の次元数\n",
    "    tf.keras.layers.Dropout(0.2), # 入力にドロップアウトを適用する rate=0.2 : 入力ユニットをドロップする割合\n",
    "    tf.keras.layers.Dense(1) \n",
    "    ])\n",
    "\n",
    "    optimizer = tf.keras.optimizers.Adam() # optimizers も Adam 以外に色々種類があります。調べてみてください！\n",
    "\n",
    "    model.compile(loss='mse',\n",
    "                optimizer=optimizer,\n",
    "                metrics=['mae', 'mse']) # loss 関数に何を採用するかはどんな問題を解きたいのかによります。\n",
    "                                        #ここでは MSE を採用していますが、他にも色々な選択肢があります。調べてみてください！\n",
    "    return model"
   ]
  },
  {
   "cell_type": "code",
   "execution_count": 6,
   "metadata": {
    "scrolled": true
   },
   "outputs": [
    {
     "name": "stderr",
     "output_type": "stream",
     "text": [
      "2023-02-14 11:06:19.788341: I tensorflow/core/platform/cpu_feature_guard.cc:193] This TensorFlow binary is optimized with oneAPI Deep Neural Network Library (oneDNN) to use the following CPU instructions in performance-critical operations:  AVX2 FMA\n",
      "To enable them in other operations, rebuild TensorFlow with the appropriate compiler flags.\n"
     ]
    }
   ],
   "source": [
    "model = build_model()"
   ]
  },
  {
   "cell_type": "code",
   "execution_count": 7,
   "metadata": {
    "scrolled": true
   },
   "outputs": [
    {
     "name": "stdout",
     "output_type": "stream",
     "text": [
      "Model: \"sequential\"\n",
      "_________________________________________________________________\n",
      " Layer (type)                Output Shape              Param #   \n",
      "=================================================================\n",
      " flatten (Flatten)           (None, 16)                0         \n",
      "                                                                 \n",
      " dense (Dense)               (None, 128)               2176      \n",
      "                                                                 \n",
      " dropout (Dropout)           (None, 128)               0         \n",
      "                                                                 \n",
      " dense_1 (Dense)             (None, 1)                 129       \n",
      "                                                                 \n",
      "=================================================================\n",
      "Total params: 2,305\n",
      "Trainable params: 2,305\n",
      "Non-trainable params: 0\n",
      "_________________________________________________________________\n"
     ]
    }
   ],
   "source": [
    "model.summary()"
   ]
  },
  {
   "cell_type": "code",
   "execution_count": 8,
   "metadata": {
    "scrolled": true
   },
   "outputs": [
    {
     "name": "stdout",
     "output_type": "stream",
     "text": [
      "(10, 16)\n",
      "1/1 [==============================] - 1s 614ms/step\n"
     ]
    }
   ],
   "source": [
    "example_batch = x_train[:10]\n",
    "print(example_batch.shape)\n",
    "example_result = model.predict(example_batch)\n",
    "# example_result"
   ]
  },
  {
   "cell_type": "code",
   "execution_count": 9,
   "metadata": {},
   "outputs": [
    {
     "name": "stdout",
     "output_type": "stream",
     "text": [
      "[[ 0.08680422]\n",
      " [-0.1704076 ]\n",
      " [-0.02179998]\n",
      " [-0.06140908]\n",
      " [-0.12354268]\n",
      " [-0.05837373]\n",
      " [-0.17345288]\n",
      " [-0.30862907]\n",
      " [ 0.14446628]\n",
      " [-0.32743952]]\n"
     ]
    }
   ],
   "source": [
    "print(example_result)"
   ]
  },
  {
   "cell_type": "code",
   "execution_count": null,
   "metadata": {},
   "outputs": [],
   "source": []
  },
  {
   "cell_type": "code",
   "execution_count": 10,
   "metadata": {
    "scrolled": true
   },
   "outputs": [
    {
     "name": "stdout",
     "output_type": "stream",
     "text": [
      "\n",
      "....................................................................................................\n",
      "....................................................................................................\n",
      "....................................................................................................\n",
      "...................................................................................................."
     ]
    }
   ],
   "source": [
    "# エポックが終わるごとにドットを一つ出力することで進捗を表示\n",
    "class PrintDot(tf.keras.callbacks.Callback):\n",
    "    def on_epoch_end(self, epoch, logs):\n",
    "        if epoch % 100 == 0: print('')\n",
    "        print('.', end='')\n",
    "\n",
    "# early_stop = keras.callbacks.EarlyStopping(monitor='val_loss', patience=10)\n",
    "EPOCHS = 400 # epoch 数も考慮しよう\n",
    "# EPOCHS = 100 # epoch 数も考慮しよう\n",
    "\n",
    "history = model.fit(\n",
    "    x_train, y_train,\n",
    "    epochs=EPOCHS, validation_split = 0.2, verbose=0,\n",
    "    callbacks=[PrintDot()]\n",
    ")"
   ]
  },
  {
   "cell_type": "code",
   "execution_count": 11,
   "metadata": {
    "scrolled": true
   },
   "outputs": [
    {
     "data": {
      "text/html": [
       "<div>\n",
       "<style scoped>\n",
       "    .dataframe tbody tr th:only-of-type {\n",
       "        vertical-align: middle;\n",
       "    }\n",
       "\n",
       "    .dataframe tbody tr th {\n",
       "        vertical-align: top;\n",
       "    }\n",
       "\n",
       "    .dataframe thead th {\n",
       "        text-align: right;\n",
       "    }\n",
       "</style>\n",
       "<table border=\"1\" class=\"dataframe\">\n",
       "  <thead>\n",
       "    <tr style=\"text-align: right;\">\n",
       "      <th></th>\n",
       "      <th>loss</th>\n",
       "      <th>mae</th>\n",
       "      <th>mse</th>\n",
       "      <th>val_loss</th>\n",
       "      <th>val_mae</th>\n",
       "      <th>val_mse</th>\n",
       "      <th>epoch</th>\n",
       "    </tr>\n",
       "  </thead>\n",
       "  <tbody>\n",
       "    <tr>\n",
       "      <th>395</th>\n",
       "      <td>0.000922</td>\n",
       "      <td>0.023478</td>\n",
       "      <td>0.000922</td>\n",
       "      <td>0.000583</td>\n",
       "      <td>0.018653</td>\n",
       "      <td>0.000583</td>\n",
       "      <td>395</td>\n",
       "    </tr>\n",
       "    <tr>\n",
       "      <th>396</th>\n",
       "      <td>0.000901</td>\n",
       "      <td>0.022869</td>\n",
       "      <td>0.000901</td>\n",
       "      <td>0.000630</td>\n",
       "      <td>0.019882</td>\n",
       "      <td>0.000630</td>\n",
       "      <td>396</td>\n",
       "    </tr>\n",
       "    <tr>\n",
       "      <th>397</th>\n",
       "      <td>0.000991</td>\n",
       "      <td>0.023824</td>\n",
       "      <td>0.000991</td>\n",
       "      <td>0.000700</td>\n",
       "      <td>0.021383</td>\n",
       "      <td>0.000700</td>\n",
       "      <td>397</td>\n",
       "    </tr>\n",
       "    <tr>\n",
       "      <th>398</th>\n",
       "      <td>0.001033</td>\n",
       "      <td>0.024276</td>\n",
       "      <td>0.001033</td>\n",
       "      <td>0.000803</td>\n",
       "      <td>0.022941</td>\n",
       "      <td>0.000803</td>\n",
       "      <td>398</td>\n",
       "    </tr>\n",
       "    <tr>\n",
       "      <th>399</th>\n",
       "      <td>0.000894</td>\n",
       "      <td>0.022799</td>\n",
       "      <td>0.000894</td>\n",
       "      <td>0.000627</td>\n",
       "      <td>0.019494</td>\n",
       "      <td>0.000627</td>\n",
       "      <td>399</td>\n",
       "    </tr>\n",
       "  </tbody>\n",
       "</table>\n",
       "</div>"
      ],
      "text/plain": [
       "         loss       mae       mse  val_loss   val_mae   val_mse  epoch\n",
       "395  0.000922  0.023478  0.000922  0.000583  0.018653  0.000583    395\n",
       "396  0.000901  0.022869  0.000901  0.000630  0.019882  0.000630    396\n",
       "397  0.000991  0.023824  0.000991  0.000700  0.021383  0.000700    397\n",
       "398  0.001033  0.024276  0.001033  0.000803  0.022941  0.000803    398\n",
       "399  0.000894  0.022799  0.000894  0.000627  0.019494  0.000627    399"
      ]
     },
     "execution_count": 11,
     "metadata": {},
     "output_type": "execute_result"
    }
   ],
   "source": [
    "hist = pd.DataFrame(history.history)\n",
    "hist['epoch'] = history.epoch\n",
    "hist.tail()"
   ]
  },
  {
   "cell_type": "code",
   "execution_count": 12,
   "metadata": {
    "scrolled": true
   },
   "outputs": [
    {
     "data": {
      "image/png": "[encoded data removed]",
      "text/plain": [
       "<Figure size 432x288 with 1 Axes>"
      ]
     },
     "metadata": {
      "needs_background": "light"
     },
     "output_type": "display_data"
    },
    {
     "data": {
      "image/png": "[encoded data removed]",
      "text/plain": [
       "<Figure size 432x288 with 1 Axes>"
      ]
     },
     "metadata": {
      "needs_background": "light"
     },
     "output_type": "display_data"
    }
   ],
   "source": [
    "def plot_history(history):\n",
    "    hist = pd.DataFrame(history.history)\n",
    "    hist['epoch'] = history.epoch\n",
    "\n",
    "    plt.figure()\n",
    "    plt.xlabel('Epoch')\n",
    "    plt.ylabel('Mean Abs Error [mc]')\n",
    "    plt.plot(hist['epoch'], hist['mae'], label='Train Error')\n",
    "    plt.plot(hist['epoch'], hist['val_mae'], label = 'Val Error')\n",
    "    plt.ylim([0,30])\n",
    "    plt.legend()\n",
    "\n",
    "    plt.figure()\n",
    "    plt.xlabel('Epoch')\n",
    "    plt.ylabel('Mean Square Error [$mc^2$]')\n",
    "    plt.plot(hist['epoch'], hist['mse'], label='Train Error')\n",
    "    plt.plot(hist['epoch'], hist['val_mse'], label = 'Val Error')\n",
    "    plt.ylim([0,3])\n",
    "    plt.legend()\n",
    "    plt.show()\n",
    "\n",
    "\n",
    "plot_history(history)"
   ]
  },
  {
   "cell_type": "code",
   "execution_count": 13,
   "metadata": {
    "scrolled": true
   },
   "outputs": [
    {
     "name": "stdout",
     "output_type": "stream",
     "text": [
      "8/8 [==============================] - 0s 4ms/step\n"
     ]
    },
    {
     "data": {
      "text/plain": [
       "[<matplotlib.lines.Line2D at 0x7fe421ed38e0>]"
      ]
     },
     "execution_count": 13,
     "metadata": {},
     "output_type": "execute_result"
    },
    {
     "data": {
      "image/png": "[encoded data removed]",
      "text/plain": [
       "<Figure size 432x432 with 1 Axes>"
      ]
     },
     "metadata": {
      "needs_background": "light"
     },
     "output_type": "display_data"
    }
   ],
   "source": [
    "test_predictions = model.predict(x_test).flatten()\n",
    "res = linregress(test_predictions, y_test)\n",
    "\n",
    "plt.figure(figsize=(6,6))\n",
    "plt.scatter(y_test, test_predictions)\n",
    "# plt.xlabel('True Values [mc]')\n",
    "# plt.ylabel('Predictions [mc]')\n",
    "plt.xlabel('True Values of volume')\n",
    "plt.ylabel('Predictions of volume')\n",
    "plt.axis('equal')\n",
    "plt.axis('square')\n",
    "plt.xlim([-0.5,1])\n",
    "plt.ylim([-0.5,1])\n",
    "_ = plt.plot([-0.5, 1], [-0.5, 1])\n",
    "# plt.xlim([0,20])\n",
    "# plt.ylim([0,20])\n",
    "# _ = plt.plot([0,20], [0,20])\n",
    "\n",
    "plt.plot([-0.5, 1], res.intercept + res.slope*np.array([-0.5, 1]), 'r', label='fitted line')\n",
    "# plt.plot([0,20], res.intercept + res.slope*np.array([0, 20]), 'r', label='fitted line')\n",
    "\n",
    "# normalizer 学習前"
   ]
  },
  {
   "cell_type": "code",
   "execution_count": 75,
   "metadata": {},
   "outputs": [
    {
     "name": "stdout",
     "output_type": "stream",
     "text": [
      "31/31 [==============================] - 0s 3ms/step\n"
     ]
    },
    {
     "data": {
      "text/plain": [
       "[<matplotlib.lines.Line2D at 0x7f8d463fd0a0>]"
      ]
     },
     "execution_count": 75,
     "metadata": {},
     "output_type": "execute_result"
    },
    {
     "data": {
      "image/png": "[encoded data removed]",
      "text/plain": [
       "<Figure size 432x432 with 1 Axes>"
      ]
     },
     "metadata": {
      "needs_background": "light"
     },
     "output_type": "display_data"
    }
   ],
   "source": [
    "train_predictions = model.predict(x_train).flatten()\n",
    "res = linregress(train_predictions, y_train)\n",
    "\n",
    "plt.figure(figsize=(6,6))\n",
    "plt.scatter(y_train, train_predictions)\n",
    "plt.xlabel('True Values [mc]')\n",
    "plt.ylabel('Predictions [mc]')\n",
    "plt.axis('equal')\n",
    "plt.axis('square')\n",
    "plt.xlim([-1,1])\n",
    "plt.ylim([-1,1])\n",
    "_ = plt.plot([-1, 1], [-1, 1])\n",
    "\n",
    "plt.plot([-1, 1], res.intercept + res.slope*np.array([-1, 1]), 'r', label='fitted line')"
   ]
  },
  {
   "cell_type": "code",
   "execution_count": 76,
   "metadata": {
    "scrolled": true
   },
   "outputs": [],
   "source": [
    "# トレーニングした model をどこかで使用したいなら以下のようにモデルを保存する\n",
    "# model.save('../saved_model/random_l1_6_not_mean_model')"
   ]
  },
  {
   "cell_type": "code",
   "execution_count": 77,
   "metadata": {},
   "outputs": [],
   "source": [
    "mse = tf.keras.losses.MeanSquaredError()"
   ]
  },
  {
   "cell_type": "markdown",
   "metadata": {},
   "source": []
  },
  {
   "cell_type": "code",
   "execution_count": null,
   "metadata": {},
   "outputs": [],
   "source": []
  },
  {
   "cell_type": "code",
   "execution_count": 78,
   "metadata": {},
   "outputs": [
    {
     "data": {
      "text/plain": [
       "0.02198439"
      ]
     },
     "execution_count": 78,
     "metadata": {},
     "output_type": "execute_result"
    }
   ],
   "source": [
    "mse(y_test,test_predictions).numpy()"
   ]
  },
  {
   "cell_type": "code",
   "execution_count": null,
   "metadata": {},
   "outputs": [],
   "source": [
    "test_predictions.rank"
   ]
  },
  {
   "cell_type": "markdown",
   "metadata": {},
   "source": []
  },
  {
   "cell_type": "code",
   "execution_count": null,
   "metadata": {},
   "outputs": [],
   "source": [
    "test_predictions"
   ]
  },
  {
   "cell_type": "code",
   "execution_count": null,
   "metadata": {},
   "outputs": [],
   "source": [
    "type(y_test)"
   ]
  },
  {
   "cell_type": "code",
   "execution_count": null,
   "metadata": {},
   "outputs": [],
   "source": []
  }
 ],
 "metadata": {
  "kernelspec": {
   "display_name": "Python 3.8.3 64-bit",
   "language": "python",
   "name": "python3"
  },
  "language_info": {
   "codemirror_mode": {
    "name": "ipython",
    "version": 3
   },
   "file_extension": ".py",
   "mimetype": "text/x-python",
   "name": "python",
   "nbconvert_exporter": "python",
   "pygments_lexer": "ipython3",
   "version": "3.8.3"
  },
  "vscode": {
   "interpreter": {
    "hash": "0adcc2737ebf6a4a119f135174df96668767fca1ef1112612db5ecadf2b6d608"
   }
  }
 },
 "nbformat": 4,
 "nbformat_minor": 4
}

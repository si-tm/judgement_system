{
 "cells": [
  {
   "cell_type": "code",
   "execution_count": 1,
   "metadata": {
    "scrolled": true
   },
   "outputs": [
    {
     "name": "stdout",
     "output_type": "stream",
     "text": [
      "TensorFlow version: 2.9.1\n"
     ]
    }
   ],
   "source": [
    "import tensorflow as tf\n",
    "print(\"TensorFlow version:\", tf.__version__)\n",
    "\n",
    "from tensorflow.keras.layers import Dense\n",
    "from tensorflow.keras import Model\n",
    "from tensorflow.keras import layers\n",
    "from tensorflow import keras"
   ]
  },
  {
   "cell_type": "code",
   "execution_count": 2,
   "metadata": {
    "scrolled": true
   },
   "outputs": [],
   "source": [
    "import os\n",
    "import sys\n",
    "import matplotlib.pyplot as plt\n",
    "import pandas as pd\n",
    "import seaborn as sns\n",
    "import csv\n",
    "import pickle\n",
    "from scipy.stats import linregress\n",
    "from sklearn.model_selection import train_test_split\n",
    "from sklearn.model_selection import train_test_split\n",
    "from datetime import datetime\n",
    "import numpy as np\n",
    "from sklearn.preprocessing import Normalizer"
   ]
  },
  {
   "cell_type": "markdown",
   "metadata": {},
   "source": [
    "## Loading a dataset"
   ]
  },
  {
   "cell_type": "markdown",
   "metadata": {},
   "source": [
    "## Split into train data and test data as dataset\n",
    "- データセットとして使用するデータを取得する。\n",
    "- trainデータとtestデータに分割する。（例えば80%をtrainデータに、20%をtestデータに、など。）\n",
    "- 書き方はデータセットとして使用するデータの type による。もし、numpy の形で持っているならhttps://www.tensorflow.org/tutorials/load_data/numpy?hl=ja が参考になります。"
   ]
  },
  {
   "cell_type": "code",
   "execution_count": 4,
   "metadata": {
    "scrolled": true
   },
   "outputs": [
    {
     "name": "stdout",
     "output_type": "stream",
     "text": [
      "(197, 16)\n",
      "(50, 16)\n",
      "(197,)\n",
      "(50,)\n",
      "197 train examples\n",
      "50 test examples\n",
      "197 train examples\n"
     ]
    }
   ],
   "source": [
    "\n",
    "\n",
    "x_path = '../../data/npy/x_random_l1_3.npy'\n",
    "x_data = np.load(x_path)\n",
    "\n",
    "y_path = '../../data/npy/y_random_l1_3.npy'\n",
    "y_data = np.load(y_path, allow_pickle=True)\n",
    "\n",
    "min_val = y_data.min()\n",
    "max_val = y_data.max()\n",
    "\n",
    "y_data = (y_data - min_val)/(max_val - min_val)\n",
    "\n",
    "# y_data = y_data.reshape(-1, 1)\n",
    "# transformer = Normalizer().fit(y_data)\n",
    "# y_data = transformer.transform(y_data)\n",
    "# y_data = transformer.transform(y_data)\n",
    "\n",
    "x_train, x_test, y_train, y_test = train_test_split(x_data, y_data, test_size=0.2)\n",
    "\n",
    "\n",
    "print(x_train.shape)\n",
    "print(x_test.shape)\n",
    "print(y_train.shape)\n",
    "print(y_test.shape)\n",
    "\n",
    "print(len(x_train), 'train examples')\n",
    "print(len(x_test), 'test examples')\n",
    "print(len(y_train), 'train examples')\n"
   ]
  },
  {
   "cell_type": "code",
   "execution_count": 5,
   "metadata": {},
   "outputs": [
    {
     "name": "stdout",
     "output_type": "stream",
     "text": [
      "[0.74075397 0.5305906  0.82374506 0.51965551 0.63732928 0.65745808\n",
      " 0.70073861 0.35929563 0.47338413 0.76750219 0.6254611  0.68867503\n",
      " 0.66820976 0.5576967  0.50190632 0.32128309 0.94276436 0.32223392\n",
      " 0.95830189 0.39404142 0.49641966 0.66565963 0.88177257 0.56150018\n",
      " 0.52113006 0.29698086 0.56292552 0.58874453 0.40237702 0.59489361\n",
      " 0.32750907 0.4501489  0.74903596 0.54895904 0.85284172 0.53173002\n",
      " 0.52415529 0.25417298 0.44383784 0.31609358 0.47488751 0.56643975\n",
      " 0.41885977 0.66816819 0.2496239  0.91119565 0.48733315 0.20078065\n",
      " 0.48954295 0.51343425 0.07170756 0.45928633 0.68228324 0.48892883\n",
      " 0.73748948 0.28636794 0.42869705 0.59193014 0.44829005 0.53365987\n",
      " 0.39288245 0.14972508 0.30954523 0.77098883 0.78194484 0.70615728\n",
      " 0.7455552  0.80050356 0.50772283 0.44951906 0.6523477  0.59272182\n",
      " 0.35024821 0.50449901 0.59915511 0.43828283 0.48043494 0.28862198\n",
      " 0.22703533 0.54796738 0.52270055 0.53781926 0.40778496 0.7024682\n",
      " 0.74325884 0.5391358  0.47840603 0.56304612 0.35175466 0.87254614\n",
      " 0.40794347 0.87832989 0.5734554  0.40221503 0.27933133 0.57517329\n",
      " 0.04129164 0.28444371 0.72203601 0.45942366 0.55085021 0.51287089\n",
      " 0.50633853 0.62749553 0.839631   0.47548471 0.68639758 0.73079511\n",
      " 0.52474803 0.99305569 0.51801729 0.79932559 0.68672381 0.57741987\n",
      " 0.45084092 0.71601255 0.61045498 0.86303464 0.45648087 0.36340613\n",
      " 0.81001271 0.42473717 0.82055479 0.93760042 0.61492363 0.38862658\n",
      " 0.45364578 0.72313869 0.46133983 0.61734257 0.47444554 0.37518669\n",
      " 0.71703804 0.34190226 0.46105148 0.16887146 0.81297352 0.53850018\n",
      " 0.561944   0.77912749 0.4251513  0.49297744 0.71459264 0.36881709\n",
      " 0.13728444 0.60476948 0.29788496 0.45145271 0.42713927 0.55531218\n",
      " 0.3837781  0.53662759 0.63735625 0.5519467  0.59741285 0.75385091\n",
      " 0.53771475 0.48752833 1.         0.23963342 0.49713758 0.67480762\n",
      " 0.30682142 0.3680687  0.66515645 0.36801081 0.48191137 0.63441397\n",
      " 0.75911337 0.59098857 0.7275511  0.38668647 0.50253508 0.81451385\n",
      " 0.37874626 0.31386979 0.34825686 0.58632301 0.39889358 0.41757382\n",
      " 0.65084651 0.68376038 0.66074125 0.86431698 0.79595561 0.51721988\n",
      " 0.62159675 0.78543614 0.52809058 0.55894188 0.29357004 0.71367549\n",
      " 0.61756362 0.81086185 0.39355823 0.02422428 0.60386241]\n",
      "[0.49888373 0.65013998 0.57073622 0.79897643 0.83940779 0.64252667\n",
      " 0.20479494 0.68139884 0.47813574 0.81106195 0.42744404 0.70704226\n",
      " 0.62027806 0.32270533 0.20147097 0.67746575 0.34071224 0.72384115\n",
      " 0.40008822 0.36042878 0.4240778  0.7250213  0.67777233 0.51803414\n",
      " 0.60960234 0.31702636 0.56441886 0.46601065 0.5770581  0.2966399\n",
      " 0.65356982 0.         0.62211652 0.31300044 0.59467553 0.64158939\n",
      " 0.35220698 0.47247346 0.46059006 0.45374384 0.79076745 0.7433291\n",
      " 0.50446602 0.67885213 0.38320803 0.59571056 0.77150031 0.67572802\n",
      " 0.63230703 0.65671377]\n"
     ]
    }
   ],
   "source": [
    "# print(transformer.get_params())\n",
    "print(y_train)\n",
    "print(y_test)\n",
    "# "
   ]
  },
  {
   "attachments": {},
   "cell_type": "markdown",
   "metadata": {},
   "source": [
    "## Set my model\n",
    "- input_shape は入力データのサイズ。\n",
    "- モデルの定義方法は調べればたくさん出てきますが、例えばここ： https://sinyblog.com/deaplearning/keras_how_to/ \n",
    "- 最後の層の出力は、期待する出力データのサイズ\n",
    "- [model](https://github.com/si-tm/docs-l10n/blob/master/site/ja/tutorials/quickstart/beginner.py)"
   ]
  },
  {
   "cell_type": "code",
   "execution_count": 6,
   "metadata": {
    "scrolled": true
   },
   "outputs": [],
   "source": [
    "def build_model():\n",
    "    \n",
    "    model = tf.keras.models.Sequential([\n",
    "    tf.keras.layers.Flatten(input_shape=(x_train.shape[1],)),\n",
    "    tf.keras.layers.Dense(128, activation='relu'), # units=128 : 出力空間の次元数\n",
    "    tf.keras.layers.Dropout(0.2), # 入力にドロップアウトを適用する rate=0.2 : 入力ユニットをドロップする割合\n",
    "    tf.keras.layers.Dense(1) \n",
    "    ])\n",
    "\n",
    "    optimizer = tf.keras.optimizers.Adam() # optimizers も Adam 以外に色々種類があります。調べてみてください！\n",
    "\n",
    "    model.compile(loss='mse',\n",
    "                optimizer=optimizer,\n",
    "                metrics=['mae', 'mse']) # loss 関数に何を採用するかはどんな問題を解きたいのかによります。\n",
    "                                        #ここでは MSE を採用していますが、他にも色々な選択肢があります。調べてみてください！\n",
    "    return model"
   ]
  },
  {
   "cell_type": "code",
   "execution_count": 7,
   "metadata": {
    "scrolled": true
   },
   "outputs": [
    {
     "name": "stderr",
     "output_type": "stream",
     "text": [
      "2023-01-26 02:57:56.203615: I tensorflow/core/platform/cpu_feature_guard.cc:193] This TensorFlow binary is optimized with oneAPI Deep Neural Network Library (oneDNN) to use the following CPU instructions in performance-critical operations:  AVX2 FMA\n",
      "To enable them in other operations, rebuild TensorFlow with the appropriate compiler flags.\n"
     ]
    }
   ],
   "source": [
    "model = build_model()"
   ]
  },
  {
   "cell_type": "code",
   "execution_count": 8,
   "metadata": {
    "scrolled": true
   },
   "outputs": [
    {
     "name": "stdout",
     "output_type": "stream",
     "text": [
      "Model: \"sequential\"\n",
      "_________________________________________________________________\n",
      " Layer (type)                Output Shape              Param #   \n",
      "=================================================================\n",
      " flatten (Flatten)           (None, 16)                0         \n",
      "                                                                 \n",
      " dense (Dense)               (None, 128)               2176      \n",
      "                                                                 \n",
      " dropout (Dropout)           (None, 128)               0         \n",
      "                                                                 \n",
      " dense_1 (Dense)             (None, 1)                 129       \n",
      "                                                                 \n",
      "=================================================================\n",
      "Total params: 2,305\n",
      "Trainable params: 2,305\n",
      "Non-trainable params: 0\n",
      "_________________________________________________________________\n"
     ]
    }
   ],
   "source": [
    "model.summary()"
   ]
  },
  {
   "cell_type": "code",
   "execution_count": 9,
   "metadata": {
    "scrolled": true
   },
   "outputs": [
    {
     "name": "stdout",
     "output_type": "stream",
     "text": [
      "(10, 16)\n",
      "1/1 [==============================] - 1s 542ms/step\n"
     ]
    }
   ],
   "source": [
    "example_batch = x_train[:10]\n",
    "print(example_batch.shape)\n",
    "example_result = model.predict(example_batch)\n",
    "# example_result"
   ]
  },
  {
   "cell_type": "code",
   "execution_count": 10,
   "metadata": {},
   "outputs": [
    {
     "name": "stdout",
     "output_type": "stream",
     "text": [
      "[[-0.18963918]\n",
      " [-0.19821888]\n",
      " [-0.1643098 ]\n",
      " [-0.22753021]\n",
      " [-0.4764554 ]\n",
      " [-0.13400234]\n",
      " [-0.3133785 ]\n",
      " [-0.37777072]\n",
      " [-0.73474973]\n",
      " [-0.316228  ]]\n"
     ]
    }
   ],
   "source": [
    "print(example_result)"
   ]
  },
  {
   "cell_type": "code",
   "execution_count": 11,
   "metadata": {
    "scrolled": true
   },
   "outputs": [
    {
     "name": "stdout",
     "output_type": "stream",
     "text": [
      "\n",
      "...................................................................................................."
     ]
    }
   ],
   "source": [
    "# エポックが終わるごとにドットを一つ出力することで進捗を表示\n",
    "class PrintDot(tf.keras.callbacks.Callback):\n",
    "    def on_epoch_end(self, epoch, logs):\n",
    "        if epoch % 100 == 0: print('')\n",
    "        print('.', end='')\n",
    "\n",
    "# early_stop = keras.callbacks.EarlyStopping(monitor='val_loss', patience=10)\n",
    "# EPOCHS = 400 # epoch 数も考慮しよう\n",
    "EPOCHS = 100 # epoch 数も考慮しよう\n",
    "\n",
    "history = model.fit(\n",
    "    x_train, y_train,\n",
    "    epochs=EPOCHS, validation_split = 0.2, verbose=0,\n",
    "    callbacks=[PrintDot()]\n",
    ")"
   ]
  },
  {
   "cell_type": "code",
   "execution_count": 12,
   "metadata": {
    "scrolled": true
   },
   "outputs": [
    {
     "data": {
      "text/html": [
       "<div>\n",
       "<style scoped>\n",
       "    .dataframe tbody tr th:only-of-type {\n",
       "        vertical-align: middle;\n",
       "    }\n",
       "\n",
       "    .dataframe tbody tr th {\n",
       "        vertical-align: top;\n",
       "    }\n",
       "\n",
       "    .dataframe thead th {\n",
       "        text-align: right;\n",
       "    }\n",
       "</style>\n",
       "<table border=\"1\" class=\"dataframe\">\n",
       "  <thead>\n",
       "    <tr style=\"text-align: right;\">\n",
       "      <th></th>\n",
       "      <th>loss</th>\n",
       "      <th>mae</th>\n",
       "      <th>mse</th>\n",
       "      <th>val_loss</th>\n",
       "      <th>val_mae</th>\n",
       "      <th>val_mse</th>\n",
       "      <th>epoch</th>\n",
       "    </tr>\n",
       "  </thead>\n",
       "  <tbody>\n",
       "    <tr>\n",
       "      <th>95</th>\n",
       "      <td>0.020248</td>\n",
       "      <td>0.108738</td>\n",
       "      <td>0.020248</td>\n",
       "      <td>0.058671</td>\n",
       "      <td>0.203421</td>\n",
       "      <td>0.058671</td>\n",
       "      <td>95</td>\n",
       "    </tr>\n",
       "    <tr>\n",
       "      <th>96</th>\n",
       "      <td>0.017774</td>\n",
       "      <td>0.106844</td>\n",
       "      <td>0.017774</td>\n",
       "      <td>0.058743</td>\n",
       "      <td>0.203613</td>\n",
       "      <td>0.058743</td>\n",
       "      <td>96</td>\n",
       "    </tr>\n",
       "    <tr>\n",
       "      <th>97</th>\n",
       "      <td>0.018056</td>\n",
       "      <td>0.105545</td>\n",
       "      <td>0.018056</td>\n",
       "      <td>0.058879</td>\n",
       "      <td>0.203074</td>\n",
       "      <td>0.058879</td>\n",
       "      <td>97</td>\n",
       "    </tr>\n",
       "    <tr>\n",
       "      <th>98</th>\n",
       "      <td>0.018185</td>\n",
       "      <td>0.106857</td>\n",
       "      <td>0.018185</td>\n",
       "      <td>0.059239</td>\n",
       "      <td>0.201165</td>\n",
       "      <td>0.059239</td>\n",
       "      <td>98</td>\n",
       "    </tr>\n",
       "    <tr>\n",
       "      <th>99</th>\n",
       "      <td>0.015460</td>\n",
       "      <td>0.095773</td>\n",
       "      <td>0.015460</td>\n",
       "      <td>0.059334</td>\n",
       "      <td>0.201526</td>\n",
       "      <td>0.059334</td>\n",
       "      <td>99</td>\n",
       "    </tr>\n",
       "  </tbody>\n",
       "</table>\n",
       "</div>"
      ],
      "text/plain": [
       "        loss       mae       mse  val_loss   val_mae   val_mse  epoch\n",
       "95  0.020248  0.108738  0.020248  0.058671  0.203421  0.058671     95\n",
       "96  0.017774  0.106844  0.017774  0.058743  0.203613  0.058743     96\n",
       "97  0.018056  0.105545  0.018056  0.058879  0.203074  0.058879     97\n",
       "98  0.018185  0.106857  0.018185  0.059239  0.201165  0.059239     98\n",
       "99  0.015460  0.095773  0.015460  0.059334  0.201526  0.059334     99"
      ]
     },
     "execution_count": 12,
     "metadata": {},
     "output_type": "execute_result"
    }
   ],
   "source": [
    "hist = pd.DataFrame(history.history)\n",
    "hist['epoch'] = history.epoch\n",
    "hist.tail()"
   ]
  },
  {
   "cell_type": "code",
   "execution_count": 13,
   "metadata": {
    "scrolled": true
   },
   "outputs": [
    {
     "data": {
      "image/png": "[encoded data removed]",
      "text/plain": [
       "<Figure size 432x288 with 1 Axes>"
      ]
     },
     "metadata": {
      "needs_background": "light"
     },
     "output_type": "display_data"
    },
    {
     "data": {
      "image/png": "[encoded data removed]",
      "text/plain": [
       "<Figure size 432x288 with 1 Axes>"
      ]
     },
     "metadata": {
      "needs_background": "light"
     },
     "output_type": "display_data"
    }
   ],
   "source": [
    "def plot_history(history):\n",
    "    hist = pd.DataFrame(history.history)\n",
    "    hist['epoch'] = history.epoch\n",
    "\n",
    "    plt.figure()\n",
    "    plt.xlabel('Epoch')\n",
    "    plt.ylabel('Mean Abs Error [mc]')\n",
    "    plt.plot(hist['epoch'], hist['mae'], label='Train Error')\n",
    "    plt.plot(hist['epoch'], hist['val_mae'], label = 'Val Error')\n",
    "    plt.ylim([0,30])\n",
    "    plt.legend()\n",
    "\n",
    "    plt.figure()\n",
    "    plt.xlabel('Epoch')\n",
    "    plt.ylabel('Mean Square Error [$mc^2$]')\n",
    "    plt.plot(hist['epoch'], hist['mse'], label='Train Error')\n",
    "    plt.plot(hist['epoch'], hist['val_mse'], label = 'Val Error')\n",
    "    plt.ylim([0,3])\n",
    "    plt.legend()\n",
    "    plt.show()\n",
    "\n",
    "\n",
    "plot_history(history)"
   ]
  },
  {
   "cell_type": "code",
   "execution_count": 16,
   "metadata": {
    "scrolled": true
   },
   "outputs": [
    {
     "name": "stdout",
     "output_type": "stream",
     "text": [
      "2/2 [==============================] - 0s 10ms/step\n"
     ]
    },
    {
     "data": {
      "text/plain": [
       "[<matplotlib.lines.Line2D at 0x7fcb09aa8b50>]"
      ]
     },
     "execution_count": 16,
     "metadata": {},
     "output_type": "execute_result"
    },
    {
     "data": {
      "image/png": "[encoded data removed]",
      "text/plain": [
       "<Figure size 432x432 with 1 Axes>"
      ]
     },
     "metadata": {
      "needs_background": "light"
     },
     "output_type": "display_data"
    }
   ],
   "source": [
    "test_predictions = model.predict(x_test).flatten()\n",
    "res = linregress(test_predictions, y_test)\n",
    "\n",
    "plt.figure(figsize=(6,6))\n",
    "plt.scatter(y_test, test_predictions)\n",
    "# plt.xlabel('True Values [mc]')\n",
    "# plt.ylabel('Predictions [mc]')\n",
    "plt.xlabel('True Values of volume ')\n",
    "plt.ylabel('Predictions of volume')\n",
    "plt.axis('equal')\n",
    "plt.axis('square')\n",
    "plt.xlim([-1,1])\n",
    "plt.ylim([-1,1])\n",
    "_ = plt.plot([-1, 1], [-1, 1])\n",
    "\n",
    "plt.plot([-1, 1], res.intercept + res.slope*np.array([-1, 1]), 'r', label='fitted line')\n",
    "\n",
    "# normalizer 学習前"
   ]
  },
  {
   "cell_type": "code",
   "execution_count": 15,
   "metadata": {},
   "outputs": [
    {
     "name": "stdout",
     "output_type": "stream",
     "text": [
      "7/7 [==============================] - 0s 4ms/step\n"
     ]
    },
    {
     "data": {
      "text/plain": [
       "[<matplotlib.lines.Line2D at 0x7fcb099987f0>]"
      ]
     },
     "execution_count": 15,
     "metadata": {},
     "output_type": "execute_result"
    },
    {
     "data": {
      "image/png": "[encoded data removed]",
      "text/plain": [
       "<Figure size 432x432 with 1 Axes>"
      ]
     },
     "metadata": {
      "needs_background": "light"
     },
     "output_type": "display_data"
    }
   ],
   "source": [
    "train_predictions = model.predict(x_train).flatten()\n",
    "res = linregress(train_predictions, y_train)\n",
    "\n",
    "plt.figure(figsize=(6,6))\n",
    "plt.scatter(y_train, train_predictions)\n",
    "plt.xlabel('True Values [mc]')\n",
    "plt.ylabel('Predictions [mc]')\n",
    "plt.axis('equal')\n",
    "plt.axis('square')\n",
    "plt.xlim([-1,1])\n",
    "plt.ylim([-1,1])\n",
    "_ = plt.plot([-1, 1], [-1, 1])\n",
    "\n",
    "plt.plot([-1, 1], res.intercept + res.slope*np.array([-1, 1]), 'r', label='fitted line')"
   ]
  },
  {
   "cell_type": "code",
   "execution_count": 85,
   "metadata": {
    "scrolled": true
   },
   "outputs": [
    {
     "name": "stdout",
     "output_type": "stream",
     "text": [
      "INFO:tensorflow:Assets written to: ../saved_model/random_l3_2_model/assets\n"
     ]
    }
   ],
   "source": [
    "# トレーニングした model をどこかで使用したいなら以下のようにモデルを保存する\n",
    "model.save('../saved_model/random_l3_2_model')"
   ]
  },
  {
   "cell_type": "code",
   "execution_count": null,
   "metadata": {},
   "outputs": [],
   "source": []
  }
 ],
 "metadata": {
  "kernelspec": {
   "display_name": "Python 3.8.3 64-bit",
   "language": "python",
   "name": "python3"
  },
  "language_info": {
   "codemirror_mode": {
    "name": "ipython",
    "version": 3
   },
   "file_extension": ".py",
   "mimetype": "text/x-python",
   "name": "python",
   "nbconvert_exporter": "python",
   "pygments_lexer": "ipython3",
   "version": "3.8.3"
  },
  "vscode": {
   "interpreter": {
    "hash": "0adcc2737ebf6a4a119f135174df96668767fca1ef1112612db5ecadf2b6d608"
   }
  }
 },
 "nbformat": 4,
 "nbformat_minor": 4
}

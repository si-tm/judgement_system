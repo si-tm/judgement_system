{
 "cells": [
  {
   "cell_type": "code",
   "execution_count": 68,
   "metadata": {
    "scrolled": true
   },
   "outputs": [
    {
     "name": "stdout",
     "output_type": "stream",
     "text": [
      "TensorFlow version: 2.9.1\n"
     ]
    }
   ],
   "source": [
    "import tensorflow as tf\n",
    "print(\"TensorFlow version:\", tf.__version__)\n",
    "\n",
    "from tensorflow.keras.layers import Dense\n",
    "from tensorflow.keras import Model\n",
    "from tensorflow.keras import layers\n",
    "from tensorflow import keras"
   ]
  },
  {
   "cell_type": "code",
   "execution_count": 69,
   "metadata": {
    "scrolled": true
   },
   "outputs": [],
   "source": [
    "import os\n",
    "import sys\n",
    "import matplotlib.pyplot as plt\n",
    "import pandas as pd\n",
    "import seaborn as sns\n",
    "import csv\n",
    "import pickle\n",
    "from scipy.stats import linregress\n",
    "from sklearn.model_selection import train_test_split\n",
    "from sklearn.model_selection import train_test_split\n",
    "from datetime import datetime\n",
    "import numpy as np\n",
    "from sklearn.preprocessing import Normalizer"
   ]
  },
  {
   "cell_type": "markdown",
   "metadata": {},
   "source": [
    "## Loading a dataset"
   ]
  },
  {
   "cell_type": "markdown",
   "metadata": {},
   "source": [
    "## Split into train data and test data as dataset\n",
    "- データセットとして使用するデータを取得する。\n",
    "- trainデータとtestデータに分割する。（例えば80%をtrainデータに、20%をtestデータに、など。）\n",
    "- 書き方はデータセットとして使用するデータの type による。もし、numpy の形で持っているならhttps://www.tensorflow.org/tutorials/load_data/numpy?hl=ja が参考になります。"
   ]
  },
  {
   "cell_type": "code",
   "execution_count": 70,
   "metadata": {
    "scrolled": true
   },
   "outputs": [
    {
     "name": "stdout",
     "output_type": "stream",
     "text": [
      "255\n",
      "204\n",
      "(204, 16)\n",
      "(51, 16)\n",
      "(204,)\n",
      "(51,)\n",
      "204 train examples\n",
      "51 test examples\n",
      "204 train examples\n"
     ]
    }
   ],
   "source": [
    "\n",
    "\n",
    "# x_path = '../../data/npy/x_random_l1_6.npy'\n",
    "# x_path = '../../data/npy/x_random_6_diffseq_mean_l1.npy'\n",
    "x_path = '../../data/npy/x_random_6_diffseq_mean_l1_2.npy'\n",
    "x_data = np.load(x_path)\n",
    "\n",
    "# y_path = '../../data/npy/y_random_l1_6.npy'\n",
    "# y_path = '../../data/npy/y_random_6_diffseq_mean_l1.npy'\n",
    "y_path = '../../data/npy/y_random_6_diffseq_mean_l1_2.npy'\n",
    "y_data = np.load(y_path, allow_pickle=True)\n",
    "\n",
    "\n",
    "print(len(y_data))\n",
    "\n",
    "min_val = y_data.min()\n",
    "max_val = y_data.max()\n",
    "\n",
    "y_data = (y_data - min_val)/(max_val - min_val)\n",
    "\n",
    "x_train, x_test, y_train, y_test = train_test_split(x_data, y_data, test_size=0.2)\n",
    "\n",
    "print(len(x_train))\n",
    "\n",
    "print(x_train.shape)\n",
    "print(x_test.shape)\n",
    "print(y_train.shape)\n",
    "print(y_test.shape)\n",
    "\n",
    "print(len(x_train), 'train examples')\n",
    "print(len(x_test), 'test examples')\n",
    "print(len(y_train), 'train examples')\n"
   ]
  },
  {
   "cell_type": "code",
   "execution_count": 71,
   "metadata": {},
   "outputs": [
    {
     "name": "stdout",
     "output_type": "stream",
     "text": [
      "[0.21843353 0.21645075 0.24181503 0.18906701 0.18692371 0.27210061\n",
      " 0.19477561 0.28495437 0.24077811 0.17830447 0.24436011 0.19360244\n",
      " 0.21230283 0.22344893 0.28654197 0.20802336 0.22017182 0.2336838\n",
      " 0.25267565 0.1792144  0.23878361 0.26348515 0.22964759 0.19110706\n",
      " 0.22828491 0.14489681 0.23959969 0.18190403 0.17128581 0.11193944\n",
      " 1.         0.18945491 0.20001365 0.34881685 0.21165041 0.21594377\n",
      " 0.2701163  0.20669201 0.1656011  0.28428667 0.47503182 0.22786593\n",
      " 0.23775573 0.20570342 0.19881182 0.24081482 0.21031087 0.12276305\n",
      " 0.18114101 0.24502441 0.19544443 0.27998828 0.24905598 0.2075224\n",
      " 0.20417915 0.23728774 0.22034295 0.21571041 0.25181715 0.25274947\n",
      " 0.19979964 0.16661746 0.23737463 0.19156397 0.23471255 0.23652653\n",
      " 0.19959474 0.23600476 0.20340344 0.2550966  0.23315069 0.25784041\n",
      " 0.22878839 0.21473604 0.21403284 0.15475699 0.23875498 0.23566889\n",
      " 0.24087566 0.2311295  0.20137485 0.25717526 0.21759916 0.22527312\n",
      " 0.27424834 0.23140383 0.22666052 0.21654965 0.21169185 0.21923948\n",
      " 0.1872225  0.18529176 0.17095802 0.23775443 0.22676807 0.21599241\n",
      " 0.22992889 0.20254783 0.18393754 0.20321587 0.26336778 0.25057063\n",
      " 0.19984418 0.21509296 0.19580492 0.17588504 0.22189601 0.18779673\n",
      " 0.22786455 0.22205243 0.18948181 0.25048344 0.18502797 0.1964658\n",
      " 0.15966111 0.24226272 0.27576079 0.20371649 0.17481161 0.22066762\n",
      " 0.21684861 0.21799988 0.24735805 0.17281133 0.21103453 0.23118733\n",
      " 0.18964348 0.17455723 0.23178137 0.22116801 0.24888519 0.23113635\n",
      " 0.22941313 0.20142599 0.1528654  0.22801314 0.         0.19884994\n",
      " 0.20966761 0.13303966 0.20908089 0.22544815 0.17945206 0.19580866\n",
      " 0.22654876 0.22660704 0.2328111  0.22211709 0.2186203  0.23219521\n",
      " 0.19298743 0.24836776 0.20223046 0.22383797 0.18803123 0.2122493\n",
      " 0.20671805 0.16532238 0.2329353  0.21869998 0.1934835  0.19751831\n",
      " 0.17474713 0.23709336 0.19101609 0.19973943 0.32035715 0.20235642\n",
      " 0.22945634 0.20480397 0.20413317 0.24115987 0.20825328 0.22027208\n",
      " 0.24895403 0.19519411 0.2308124  0.20926922 0.22490662 0.18418666\n",
      " 0.20336757 0.2270477  0.14216436 0.20210334 0.31647096 0.19879342\n",
      " 0.19144701 0.17691599 0.21345041 0.17156971 0.16429597 0.17101734\n",
      " 0.25916365 0.26384985 0.20515035 0.1921959  0.30321546 0.2172291\n",
      " 0.18355379 0.21967671 0.21271314 0.26156893 0.20777688 0.16501618]\n",
      "[0.20049918 0.19616438 0.23869033 0.19958093 0.17102966 0.21835043\n",
      " 0.27547075 0.15217228 0.17329223 0.20793675 0.23804506 0.23641035\n",
      " 0.28845727 0.17708237 0.15905345 0.2115101  0.23125327 0.16623519\n",
      " 0.12807293 0.26183898 0.20250902 0.18755408 0.21255606 0.21131468\n",
      " 0.20491761 0.21096636 0.25856953 0.23221998 0.23607965 0.23248636\n",
      " 0.05810261 0.19957035 0.18072421 0.28554593 0.21390711 0.1586167\n",
      " 0.22190193 0.28764212 0.2867289  0.21672365 0.2370971  0.22086829\n",
      " 0.12303169 0.17457798 0.20014252 0.23555716 0.19256948 0.16924705\n",
      " 0.24610064 0.20802875 0.21819744]\n"
     ]
    }
   ],
   "source": [
    "# print(transformer.get_params())\n",
    "print(y_train)\n",
    "print(y_test)\n",
    "# "
   ]
  },
  {
   "attachments": {},
   "cell_type": "markdown",
   "metadata": {},
   "source": [
    "## Set my model\n",
    "- input_shape は入力データのサイズ。\n",
    "- モデルの定義方法は調べればたくさん出てきますが、例えばここ： https://sinyblog.com/deaplearning/keras_how_to/ \n",
    "- 最後の層の出力は、期待する出力データのサイズ\n",
    "- [model](https://github.com/si-tm/docs-l10n/blob/master/site/ja/tutorials/quickstart/beginner.py)"
   ]
  },
  {
   "cell_type": "code",
   "execution_count": 72,
   "metadata": {
    "scrolled": true
   },
   "outputs": [],
   "source": [
    "def build_model():\n",
    "    \n",
    "    model = tf.keras.models.Sequential([\n",
    "    tf.keras.layers.Flatten(input_shape=(x_train.shape[1],)),\n",
    "    tf.keras.layers.Dense(128, activation='relu'), # units=128 : 出力空間の次元数\n",
    "    tf.keras.layers.Dropout(0.2), # 入力にドロップアウトを適用する rate=0.2 : 入力ユニットをドロップする割合\n",
    "    tf.keras.layers.Dense(1) \n",
    "    ])\n",
    "\n",
    "    optimizer = tf.keras.optimizers.Adam() # optimizers も Adam 以外に色々種類があります。調べてみてください！\n",
    "\n",
    "    model.compile(loss='mse',\n",
    "                optimizer=optimizer,\n",
    "                metrics=['mae', 'mse']) # loss 関数に何を採用するかはどんな問題を解きたいのかによります。\n",
    "                                        #ここでは MSE を採用していますが、他にも色々な選択肢があります。調べてみてください！\n",
    "    return model"
   ]
  },
  {
   "cell_type": "code",
   "execution_count": 73,
   "metadata": {
    "scrolled": true
   },
   "outputs": [],
   "source": [
    "model = build_model()"
   ]
  },
  {
   "cell_type": "code",
   "execution_count": 74,
   "metadata": {
    "scrolled": true
   },
   "outputs": [
    {
     "name": "stdout",
     "output_type": "stream",
     "text": [
      "Model: \"sequential_4\"\n",
      "_________________________________________________________________\n",
      " Layer (type)                Output Shape              Param #   \n",
      "=================================================================\n",
      " flatten_4 (Flatten)         (None, 16)                0         \n",
      "                                                                 \n",
      " dense_8 (Dense)             (None, 128)               2176      \n",
      "                                                                 \n",
      " dropout_4 (Dropout)         (None, 128)               0         \n",
      "                                                                 \n",
      " dense_9 (Dense)             (None, 1)                 129       \n",
      "                                                                 \n",
      "=================================================================\n",
      "Total params: 2,305\n",
      "Trainable params: 2,305\n",
      "Non-trainable params: 0\n",
      "_________________________________________________________________\n"
     ]
    }
   ],
   "source": [
    "model.summary()"
   ]
  },
  {
   "cell_type": "code",
   "execution_count": 75,
   "metadata": {
    "scrolled": true
   },
   "outputs": [
    {
     "name": "stdout",
     "output_type": "stream",
     "text": [
      "(10, 16)\n",
      "1/1 [==============================] - 0s 315ms/step\n"
     ]
    }
   ],
   "source": [
    "example_batch = x_train[:10]\n",
    "print(example_batch.shape)\n",
    "example_result = model.predict(example_batch)\n",
    "# example_result"
   ]
  },
  {
   "cell_type": "code",
   "execution_count": 76,
   "metadata": {},
   "outputs": [
    {
     "name": "stdout",
     "output_type": "stream",
     "text": [
      "[[ 0.12166441]\n",
      " [-0.11348082]\n",
      " [-0.13537347]\n",
      " [-0.01654991]\n",
      " [-0.04718005]\n",
      " [-0.02339426]\n",
      " [-0.13188235]\n",
      " [ 0.07723165]\n",
      " [ 0.1450372 ]\n",
      " [-0.22365487]]\n"
     ]
    }
   ],
   "source": [
    "print(example_result)"
   ]
  },
  {
   "cell_type": "code",
   "execution_count": 77,
   "metadata": {
    "scrolled": true
   },
   "outputs": [
    {
     "name": "stdout",
     "output_type": "stream",
     "text": [
      "\n",
      "...................................................................................................."
     ]
    }
   ],
   "source": [
    "# エポックが終わるごとにドットを一つ出力することで進捗を表示\n",
    "class PrintDot(tf.keras.callbacks.Callback):\n",
    "    def on_epoch_end(self, epoch, logs):\n",
    "        if epoch % 100 == 0: print('')\n",
    "        print('.', end='')\n",
    "\n",
    "# early_stop = keras.callbacks.EarlyStopping(monitor='val_loss', patience=10)\n",
    "# EPOCHS = 400 # epoch 数も考慮しよう\n",
    "EPOCHS = 100 # epoch 数も考慮しよう\n",
    "\n",
    "history = model.fit(\n",
    "    x_train, y_train,\n",
    "    epochs=EPOCHS, validation_split = 0.2, verbose=0,\n",
    "    callbacks=[PrintDot()]\n",
    ")"
   ]
  },
  {
   "cell_type": "code",
   "execution_count": 78,
   "metadata": {
    "scrolled": true
   },
   "outputs": [
    {
     "data": {
      "text/html": [
       "<div>\n",
       "<style scoped>\n",
       "    .dataframe tbody tr th:only-of-type {\n",
       "        vertical-align: middle;\n",
       "    }\n",
       "\n",
       "    .dataframe tbody tr th {\n",
       "        vertical-align: top;\n",
       "    }\n",
       "\n",
       "    .dataframe thead th {\n",
       "        text-align: right;\n",
       "    }\n",
       "</style>\n",
       "<table border=\"1\" class=\"dataframe\">\n",
       "  <thead>\n",
       "    <tr style=\"text-align: right;\">\n",
       "      <th></th>\n",
       "      <th>loss</th>\n",
       "      <th>mae</th>\n",
       "      <th>mse</th>\n",
       "      <th>val_loss</th>\n",
       "      <th>val_mae</th>\n",
       "      <th>val_mse</th>\n",
       "      <th>epoch</th>\n",
       "    </tr>\n",
       "  </thead>\n",
       "  <tbody>\n",
       "    <tr>\n",
       "      <th>95</th>\n",
       "      <td>0.002108</td>\n",
       "      <td>0.034926</td>\n",
       "      <td>0.002108</td>\n",
       "      <td>0.003185</td>\n",
       "      <td>0.042439</td>\n",
       "      <td>0.003185</td>\n",
       "      <td>95</td>\n",
       "    </tr>\n",
       "    <tr>\n",
       "      <th>96</th>\n",
       "      <td>0.003509</td>\n",
       "      <td>0.042364</td>\n",
       "      <td>0.003509</td>\n",
       "      <td>0.003256</td>\n",
       "      <td>0.043083</td>\n",
       "      <td>0.003256</td>\n",
       "      <td>96</td>\n",
       "    </tr>\n",
       "    <tr>\n",
       "      <th>97</th>\n",
       "      <td>0.003969</td>\n",
       "      <td>0.044600</td>\n",
       "      <td>0.003969</td>\n",
       "      <td>0.003313</td>\n",
       "      <td>0.044031</td>\n",
       "      <td>0.003313</td>\n",
       "      <td>97</td>\n",
       "    </tr>\n",
       "    <tr>\n",
       "      <th>98</th>\n",
       "      <td>0.002904</td>\n",
       "      <td>0.040474</td>\n",
       "      <td>0.002904</td>\n",
       "      <td>0.003336</td>\n",
       "      <td>0.044769</td>\n",
       "      <td>0.003336</td>\n",
       "      <td>98</td>\n",
       "    </tr>\n",
       "    <tr>\n",
       "      <th>99</th>\n",
       "      <td>0.002790</td>\n",
       "      <td>0.037777</td>\n",
       "      <td>0.002790</td>\n",
       "      <td>0.003286</td>\n",
       "      <td>0.044507</td>\n",
       "      <td>0.003286</td>\n",
       "      <td>99</td>\n",
       "    </tr>\n",
       "  </tbody>\n",
       "</table>\n",
       "</div>"
      ],
      "text/plain": [
       "        loss       mae       mse  val_loss   val_mae   val_mse  epoch\n",
       "95  0.002108  0.034926  0.002108  0.003185  0.042439  0.003185     95\n",
       "96  0.003509  0.042364  0.003509  0.003256  0.043083  0.003256     96\n",
       "97  0.003969  0.044600  0.003969  0.003313  0.044031  0.003313     97\n",
       "98  0.002904  0.040474  0.002904  0.003336  0.044769  0.003336     98\n",
       "99  0.002790  0.037777  0.002790  0.003286  0.044507  0.003286     99"
      ]
     },
     "execution_count": 78,
     "metadata": {},
     "output_type": "execute_result"
    }
   ],
   "source": [
    "hist = pd.DataFrame(history.history)\n",
    "hist['epoch'] = history.epoch\n",
    "hist.tail()"
   ]
  },
  {
   "cell_type": "code",
   "execution_count": 79,
   "metadata": {
    "scrolled": true
   },
   "outputs": [
    {
     "data": {
      "image/png": "[encoded data removed]",
      "text/plain": [
       "<Figure size 432x288 with 1 Axes>"
      ]
     },
     "metadata": {
      "needs_background": "light"
     },
     "output_type": "display_data"
    },
    {
     "data": {
      "image/png": "[encoded data removed]",
      "text/plain": [
       "<Figure size 432x288 with 1 Axes>"
      ]
     },
     "metadata": {
      "needs_background": "light"
     },
     "output_type": "display_data"
    }
   ],
   "source": [
    "def plot_history(history):\n",
    "    hist = pd.DataFrame(history.history)\n",
    "    hist['epoch'] = history.epoch\n",
    "\n",
    "    plt.figure()\n",
    "    plt.xlabel('Epoch')\n",
    "    plt.ylabel('Mean Abs Error [mc]')\n",
    "    plt.plot(hist['epoch'], hist['mae'], label='Train Error')\n",
    "    plt.plot(hist['epoch'], hist['val_mae'], label = 'Val Error')\n",
    "    plt.ylim([0,30])\n",
    "    plt.legend()\n",
    "\n",
    "    plt.figure()\n",
    "    plt.xlabel('Epoch')\n",
    "    plt.ylabel('Mean Square Error [$mc^2$]')\n",
    "    plt.plot(hist['epoch'], hist['mse'], label='Train Error')\n",
    "    plt.plot(hist['epoch'], hist['val_mse'], label = 'Val Error')\n",
    "    plt.ylim([0,3])\n",
    "    plt.legend()\n",
    "    plt.show()\n",
    "\n",
    "\n",
    "plot_history(history)"
   ]
  },
  {
   "cell_type": "code",
   "execution_count": 80,
   "metadata": {
    "scrolled": true
   },
   "outputs": [
    {
     "name": "stdout",
     "output_type": "stream",
     "text": [
      "2/2 [==============================] - 0s 8ms/step\n"
     ]
    },
    {
     "data": {
      "text/plain": [
       "[<matplotlib.lines.Line2D at 0x7fe500e4cca0>]"
      ]
     },
     "execution_count": 80,
     "metadata": {},
     "output_type": "execute_result"
    },
    {
     "data": {
      "image/png": "[encoded data removed]",
      "text/plain": [
       "<Figure size 432x432 with 1 Axes>"
      ]
     },
     "metadata": {
      "needs_background": "light"
     },
     "output_type": "display_data"
    }
   ],
   "source": [
    "test_predictions = model.predict(x_test).flatten()\n",
    "res = linregress(test_predictions, y_test)\n",
    "\n",
    "plt.figure(figsize=(6,6))\n",
    "plt.scatter(y_test, test_predictions)\n",
    "# plt.xlabel('True Values [mc]')\n",
    "# plt.ylabel('Predictions [mc]')\n",
    "plt.xlabel('True Values of volume ')\n",
    "plt.ylabel('Predictions of volume')\n",
    "plt.axis('equal')\n",
    "plt.axis('square')\n",
    "plt.xlim([-0.5,1])\n",
    "plt.ylim([-0.5,1])\n",
    "_ = plt.plot([-0.5, 1], [-0.5, 1])\n",
    "\n",
    "plt.plot([-0.5, 1], res.intercept + res.slope*np.array([-1, 1]), 'r', label='fitted line')\n",
    "\n",
    "# normalizer 学習前"
   ]
  },
  {
   "cell_type": "code",
   "execution_count": 81,
   "metadata": {},
   "outputs": [
    {
     "name": "stdout",
     "output_type": "stream",
     "text": [
      "7/7 [==============================] - 0s 3ms/step\n"
     ]
    },
    {
     "data": {
      "text/plain": [
       "[<matplotlib.lines.Line2D at 0x7fe51f6cd790>]"
      ]
     },
     "execution_count": 81,
     "metadata": {},
     "output_type": "execute_result"
    },
    {
     "data": {
      "image/png": "[encoded data removed]",
      "text/plain": [
       "<Figure size 432x432 with 1 Axes>"
      ]
     },
     "metadata": {
      "needs_background": "light"
     },
     "output_type": "display_data"
    }
   ],
   "source": [
    "train_predictions = model.predict(x_train).flatten()\n",
    "res = linregress(train_predictions, y_train)\n",
    "\n",
    "plt.figure(figsize=(6,6))\n",
    "plt.scatter(y_train, train_predictions)\n",
    "plt.xlabel('True Values [mc]')\n",
    "plt.ylabel('Predictions [mc]')\n",
    "plt.axis('equal')\n",
    "plt.axis('square')\n",
    "plt.xlim([-1,1])\n",
    "plt.ylim([-1,1])\n",
    "_ = plt.plot([-1, 1], [-1, 1])\n",
    "\n",
    "plt.plot([-1, 1], res.intercept + res.slope*np.array([-1, 1]), 'r', label='fitted line')"
   ]
  },
  {
   "cell_type": "code",
   "execution_count": 65,
   "metadata": {
    "scrolled": true
   },
   "outputs": [],
   "source": [
    "# トレーニングした model をどこかで使用したいなら以下のようにモデルを保存する\n",
    "# model.save('../saved_model/random_l1_6_not_mean_model')"
   ]
  },
  {
   "cell_type": "code",
   "execution_count": 82,
   "metadata": {},
   "outputs": [],
   "source": [
    "mse = tf.keras.losses.MeanSquaredError()"
   ]
  },
  {
   "cell_type": "code",
   "execution_count": 83,
   "metadata": {},
   "outputs": [
    {
     "data": {
      "text/plain": [
       "0.0068486477"
      ]
     },
     "execution_count": 83,
     "metadata": {},
     "output_type": "execute_result"
    }
   ],
   "source": [
    "mse(y_test,test_predictions).numpy()"
   ]
  },
  {
   "cell_type": "code",
   "execution_count": 84,
   "metadata": {},
   "outputs": [
    {
     "ename": "AttributeError",
     "evalue": "'numpy.ndarray' object has no attribute 'rank'",
     "output_type": "error",
     "traceback": [
      "\u001b[0;31m---------------------------------------------------------------------------\u001b[0m",
      "\u001b[0;31mAttributeError\u001b[0m                            Traceback (most recent call last)",
      "\u001b[1;32mセル21 を /Users/maya/OneDrive - お茶の水女子大学/lab/judgement_system/script/tutorial/tutorial2.ipynb\u001b[0m in \u001b[0;36m<cell line: 1>\u001b[0;34m()\u001b[0m\n\u001b[0;32m----> <a href='vscode-notebook-cell:/Users/maya/OneDrive%20-%20%E3%81%8A%E8%8C%B6%E3%81%AE%E6%B0%B4%E5%A5%B3%E5%AD%90%E5%A4%A7%E5%AD%A6/lab/judgement_system/script/tutorial/tutorial2.ipynb#X26sZmlsZQ%3D%3D?line=0'>1</a>\u001b[0m test_predictions\u001b[39m.\u001b[39;49mrank\n",
      "\u001b[0;31mAttributeError\u001b[0m: 'numpy.ndarray' object has no attribute 'rank'"
     ]
    }
   ],
   "source": [
    "test_predictions.rank"
   ]
  },
  {
   "cell_type": "markdown",
   "metadata": {},
   "source": []
  },
  {
   "cell_type": "code",
   "execution_count": 19,
   "metadata": {},
   "outputs": [
    {
     "data": {
      "text/plain": [
       "array([0.54884195, 0.65218306, 0.5022442 , 0.51378673, 0.5368388 ,\n",
       "       0.54469055, 0.5432773 , 0.51933324, 0.52177024, 0.5614668 ,\n",
       "       0.5593387 , 0.45234552, 0.59461355, 0.50734365, 0.5493723 ,\n",
       "       0.5208081 , 0.5635712 , 0.55117214, 0.5715706 , 0.5011642 ,\n",
       "       0.5106604 , 0.61793756, 0.501809  , 0.6000018 , 0.5117352 ,\n",
       "       0.42999288, 0.5113658 , 0.42552054, 0.62791693, 0.4606923 ,\n",
       "       0.49495596, 0.58407116, 0.54335   , 0.46301913, 0.477862  ,\n",
       "       0.48748514, 0.5497663 , 0.5268698 , 0.53361213, 0.7060776 ,\n",
       "       0.62451065, 0.6592506 , 0.5525093 , 0.5224663 , 0.5511219 ,\n",
       "       0.47766018, 0.49870783, 0.48989812, 0.4317764 , 0.5759    ,\n",
       "       0.5687646 , 0.6395153 , 0.47532752, 0.39851892, 0.50865304,\n",
       "       0.50578606, 0.42954975, 0.5235671 , 0.5581878 , 0.56464803,\n",
       "       0.43385896, 0.4688043 , 0.5434368 , 0.47561532, 0.4762473 ,\n",
       "       0.48626885, 0.48658663, 0.49085104, 0.5148406 , 0.47977358,\n",
       "       0.65616345, 0.5029926 , 0.55106616, 0.50436175, 0.39320016,\n",
       "       0.5784327 , 0.45619786, 0.5286727 , 0.51949036, 0.62091595,\n",
       "       0.4982097 , 0.56627536, 0.503778  , 0.4604248 , 0.4274313 ,\n",
       "       0.6182482 , 0.5121694 , 0.56339884, 0.50501406, 0.46844205,\n",
       "       0.54789   , 0.4897031 , 0.5830672 , 0.35036647, 0.5294334 ,\n",
       "       0.5547582 , 0.5356668 , 0.44852537, 0.52455217, 0.59854764,\n",
       "       0.5124614 , 0.44988835, 0.5528365 , 0.5900874 , 0.5509971 ,\n",
       "       0.4989708 , 0.65588117, 0.51367664, 0.41661555, 0.50588155,\n",
       "       0.52268773, 0.5427135 , 0.54617316, 0.56042343, 0.44015765,\n",
       "       0.40391022, 0.6525736 , 0.47746646, 0.55480266, 0.50746727,\n",
       "       0.46875378, 0.5819281 , 0.49835873, 0.49329743, 0.49512485,\n",
       "       0.7423643 , 0.5127871 , 0.6279059 , 0.47462422, 0.5669839 ,\n",
       "       0.47769022, 0.45568258, 0.5736492 , 0.42158177, 0.42355078,\n",
       "       0.44391668, 0.41662744, 0.5427967 , 0.56859225, 0.4879799 ,\n",
       "       0.71217316, 0.5396886 , 0.53667545, 0.5394627 , 0.49074274,\n",
       "       0.54150665, 0.4509979 , 0.48827732, 0.47160655, 0.43428653,\n",
       "       0.5425079 , 0.61096114, 0.44600886, 0.4371944 , 0.561593  ,\n",
       "       0.4735635 , 0.45946747, 0.5463064 , 0.49580094, 0.5269586 ,\n",
       "       0.5898881 , 0.69701624, 0.49307993, 0.5398087 , 0.60141957,\n",
       "       0.4652932 , 0.5265702 , 0.4779052 , 0.5399381 , 0.6400698 ,\n",
       "       0.6147758 , 0.45591602, 0.57979447, 0.5862479 , 0.48098612,\n",
       "       0.54736316, 0.5443118 , 0.4594038 , 0.4755442 , 0.35988325,\n",
       "       0.55545026, 0.46054703, 0.5258199 , 0.43064162, 0.4961453 ,\n",
       "       0.57975525, 0.47624472, 0.5632058 , 0.6235139 , 0.55118823,\n",
       "       0.49166942, 0.4490881 , 0.6459489 , 0.4837685 , 0.46231693,\n",
       "       0.58706415, 0.49252367, 0.49708515, 0.52122754, 0.54019314,\n",
       "       0.47549874, 0.4845498 , 0.54738706, 0.5399634 , 0.40636688,\n",
       "       0.572793  , 0.49663067, 0.5355332 , 0.37568888, 0.50804484,\n",
       "       0.4863618 , 0.5469492 , 0.3450299 , 0.6591234 , 0.5470046 ,\n",
       "       0.44064328, 0.49676746, 0.4845146 , 0.5538514 , 0.45165604,\n",
       "       0.47829235, 0.47629756, 0.5028508 , 0.62120354, 0.56605107,\n",
       "       0.53718245, 0.5962092 , 0.5061981 , 0.56883734, 0.4194755 ,\n",
       "       0.5008084 , 0.4752121 , 0.52474767, 0.49349648, 0.6510512 ,\n",
       "       0.56492406, 0.5022781 , 0.5429236 , 0.55849767, 0.5722213 ,\n",
       "       0.5745822 , 0.5028066 , 0.45062917, 0.5362851 , 0.36963493],\n",
       "      dtype=float32)"
      ]
     },
     "execution_count": 19,
     "metadata": {},
     "output_type": "execute_result"
    }
   ],
   "source": [
    "test_predictions"
   ]
  },
  {
   "cell_type": "code",
   "execution_count": 20,
   "metadata": {},
   "outputs": [
    {
     "data": {
      "text/plain": [
       "numpy.ndarray"
      ]
     },
     "execution_count": 20,
     "metadata": {},
     "output_type": "execute_result"
    }
   ],
   "source": [
    "type(y_test)"
   ]
  },
  {
   "cell_type": "code",
   "execution_count": null,
   "metadata": {},
   "outputs": [],
   "source": []
  }
 ],
 "metadata": {
  "kernelspec": {
   "display_name": "Python 3.8.3 64-bit",
   "language": "python",
   "name": "python3"
  },
  "language_info": {
   "codemirror_mode": {
    "name": "ipython",
    "version": 3
   },
   "file_extension": ".py",
   "mimetype": "text/x-python",
   "name": "python",
   "nbconvert_exporter": "python",
   "pygments_lexer": "ipython3",
   "version": "3.8.3"
  },
  "vscode": {
   "interpreter": {
    "hash": "0adcc2737ebf6a4a119f135174df96668767fca1ef1112612db5ecadf2b6d608"
   }
  }
 },
 "nbformat": 4,
 "nbformat_minor": 4
}

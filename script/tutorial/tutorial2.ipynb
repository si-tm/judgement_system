{
 "cells": [
  {
   "cell_type": "code",
   "execution_count": 1,
   "metadata": {
    "scrolled": true
   },
   "outputs": [
    {
     "name": "stdout",
     "output_type": "stream",
     "text": [
      "TensorFlow version: 2.9.1\n"
     ]
    }
   ],
   "source": [
    "import tensorflow as tf\n",
    "print(\"TensorFlow version:\", tf.__version__)\n",
    "\n",
    "from tensorflow.keras.layers import Dense\n",
    "from tensorflow.keras import Model\n",
    "from tensorflow.keras import layers\n",
    "from tensorflow import keras"
   ]
  },
  {
   "cell_type": "code",
   "execution_count": 2,
   "metadata": {
    "scrolled": true
   },
   "outputs": [],
   "source": [
    "import os\n",
    "import sys\n",
    "import matplotlib.pyplot as plt\n",
    "import pandas as pd\n",
    "import seaborn as sns\n",
    "import csv\n",
    "import pickle\n",
    "from scipy.stats import linregress\n",
    "from sklearn.model_selection import train_test_split\n",
    "from sklearn.model_selection import train_test_split\n",
    "from datetime import datetime\n",
    "import numpy as np\n",
    "from sklearn.preprocessing import Normalizer"
   ]
  },
  {
   "cell_type": "markdown",
   "metadata": {},
   "source": [
    "## Loading a dataset"
   ]
  },
  {
   "cell_type": "markdown",
   "metadata": {},
   "source": [
    "## Split into train data and test data as dataset\n",
    "- データセットとして使用するデータを取得する。\n",
    "- trainデータとtestデータに分割する。（例えば80%をtrainデータに、20%をtestデータに、など。）\n",
    "- 書き方はデータセットとして使用するデータの type による。もし、numpy の形で持っているならhttps://www.tensorflow.org/tutorials/load_data/numpy?hl=ja が参考になります。"
   ]
  },
  {
   "cell_type": "code",
   "execution_count": 3,
   "metadata": {
    "scrolled": true
   },
   "outputs": [
    {
     "name": "stdout",
     "output_type": "stream",
     "text": [
      "1222\n",
      "977\n",
      "(977, 16)\n",
      "(245, 16)\n",
      "(977,)\n",
      "(245,)\n",
      "977 train examples\n",
      "245 test examples\n",
      "977 train examples\n"
     ]
    }
   ],
   "source": [
    "\n",
    "\n",
    "x_path = '../../data/npy/x_random_l1_6.npy'\n",
    "x_data = np.load(x_path)\n",
    "\n",
    "y_path = '../../data/npy/y_random_l1_6.npy'\n",
    "y_data = np.load(y_path, allow_pickle=True)\n",
    "\n",
    "print(len(y_data))\n",
    "\n",
    "min_val = y_data.min()\n",
    "max_val = y_data.max()\n",
    "\n",
    "y_data = (y_data - min_val)/(max_val - min_val)\n",
    "\n",
    "# y_data = y_data.reshape(-1, 1)\n",
    "# transformer = Normalizer().fit(y_data)\n",
    "# y_data = transformer.transform(y_data)\n",
    "# y_data = transformer.transform(y_data)\n",
    "\n",
    "x_train, x_test, y_train, y_test = train_test_split(x_data, y_data, test_size=0.2)\n",
    "\n",
    "print(len(x_train))\n",
    "\n",
    "print(x_train.shape)\n",
    "print(x_test.shape)\n",
    "print(y_train.shape)\n",
    "print(y_test.shape)\n",
    "\n",
    "print(len(x_train), 'train examples')\n",
    "print(len(x_test), 'test examples')\n",
    "print(len(y_train), 'train examples')\n"
   ]
  },
  {
   "cell_type": "code",
   "execution_count": 4,
   "metadata": {},
   "outputs": [
    {
     "name": "stdout",
     "output_type": "stream",
     "text": [
      "[0.38284685 0.72483809 0.60454058 0.42919652 0.59105051 0.64038208\n",
      " 0.61563531 0.5067013  0.52571421 0.52535308 0.23226433 0.5860241\n",
      " 0.51604247 0.52918502 0.4924225  0.59183389 0.62741143 0.43401388\n",
      " 0.46393563 0.45912803 0.50450835 0.52617465 0.28404182 0.46260962\n",
      " 0.41279991 0.45900341 0.41925596 0.46175456 0.53255901 0.5481215\n",
      " 0.437908   0.41378892 0.43723054 0.32050248 0.51882607 0.475756\n",
      " 0.60517144 0.40386966 0.62065774 0.18098287 0.60433374 0.55600612\n",
      " 0.53213745 0.27358499 0.27950685 0.48503653 0.704009   0.4083986\n",
      " 0.50536283 0.51994541 0.54530213 0.44926702 0.58356213 0.40577102\n",
      " 0.64489611 0.64279493 0.60041862 0.41734502 0.28341178 0.2631594\n",
      " 0.2844869  0.53227558 0.39609657 0.5693426  0.54944466 0.40032574\n",
      " 0.59503323 0.31843448 0.58474567 0.5572483  0.40563124 0.39176505\n",
      " 0.6602871  0.45668137 0.27877958 0.28307748 0.25762786 0.48823301\n",
      " 0.47044098 0.54358204 0.68789494 0.60522247 0.23886834 1.\n",
      " 0.44647156 0.59744267 0.67868764 0.6003947  0.54129409 0.40089485\n",
      " 0.46120788 0.53413948 0.44572173 0.50839975 0.51850051 0.54812766\n",
      " 0.55990773 0.51852349 0.42303807 0.51639174 0.64038879 0.44207787\n",
      " 0.64411975 0.66413014 0.32958257 0.65336166 0.48213547 0.50478439\n",
      " 0.67528302 0.3677591  0.45124442 0.84064502 0.4973314  0.49295638\n",
      " 0.51024403 0.47841604 0.60252313 0.65150283 0.37555682 0.53318582\n",
      " 0.74393481 0.46783352 0.48851637 0.36371278 0.44253457 0.5381738\n",
      " 0.61113336 0.69812318 0.52086085 0.37358151 0.4783366  0.45997863\n",
      " 0.57100409 0.36012665 0.56918152 0.41436694 0.53230977 0.55412263\n",
      " 0.42911313 0.56353854 0.46170528 0.5204558  0.49208434 0.42281113\n",
      " 0.46199832 0.81638451 0.55487532 0.52224394 0.71641495 0.64834823\n",
      " 0.41841669 0.47155996 0.41731919 0.58557788 0.73680429 0.67693946\n",
      " 0.6007042  0.42223927 0.31240821 0.61674307 0.6971208  0.56104221\n",
      " 0.43715938 0.51921675 0.43467497 0.47433284 0.53855215 0.56178566\n",
      " 0.61176722 0.59029159 0.71120753 0.52408935 0.51253646 0.51374382\n",
      " 0.43153316 0.93129027 0.43390842 0.5627833  0.47035405 0.57075001\n",
      " 0.496327   0.35941817 0.55824461 0.29339685 0.51736522 0.66383024\n",
      " 0.58203416 0.39136222 0.49248715 0.67906853 0.44947082 0.55244407\n",
      " 0.52835697 0.46700095 0.55015837 0.73091222 0.63110844 0.3779226\n",
      " 0.83106386 0.45148763 0.35929519 0.60017409 0.505149   0.61545863\n",
      " 0.49587415 0.66853992 0.56872988 0.61232376 0.64679739 0.5958881\n",
      " 0.45451102 0.52253598 0.37413669 0.41881465 0.40058941 0.64501757\n",
      " 0.69974742 0.62861517 0.61245178 0.53853534 0.45941699 0.41257234\n",
      " 0.46286163 0.46464991 0.60462613 0.51449581 0.42187702 0.57030977\n",
      " 0.41217721 0.50498578 0.67525973 0.58933292 0.48332172 0.29402792\n",
      " 0.62388759 0.4169676  0.62229898 0.45741953 0.71985621 0.62119445\n",
      " 0.63240459 0.45358793 0.59476139 0.65835693 0.50653859 0.44442499\n",
      " 0.60551912 0.42847824 0.58342124 0.44728049 0.44130764 0.33310871\n",
      " 0.39112334 0.66330854 0.47689532 0.53101287 0.30235784 0.41238474\n",
      " 0.2299661  0.53915495 0.66011424 0.5179935  0.73624199 0.78560348\n",
      " 0.41017185 0.7069133  0.58657662 0.69356315 0.46619216 0.52602957\n",
      " 0.52712377 0.581162   0.59854985 0.39181299 0.59673964 0.48336698\n",
      " 0.36734258 0.34387368 0.56335894 0.49117308 0.64944412 0.50545586\n",
      " 0.70453972 0.50776052 0.49216903 0.54414397 0.46498245 0.5283516\n",
      " 0.32672563 0.52781035 0.35939424 0.2766366  0.40780128 0.54412452\n",
      " 0.54728913 0.59847137 0.42689286 0.69066339 0.47600392 0.42557305\n",
      " 0.49704888 0.53854711 0.43840399 0.57919179 0.48417057 0.48338839\n",
      " 0.41103138 0.5635767  0.39932989 0.39867215 0.469353   0.57000559\n",
      " 0.49849752 0.6483931  0.64163411 0.41909377 0.49235712 0.67125426\n",
      " 0.51512144 0.47911311 0.78549483 0.4341047  0.68824262 0.4349171\n",
      " 0.53782517 0.52238707 0.65142898 0.64138822 0.31855873 0.47017362\n",
      " 0.69952254 0.62522001 0.55493625 0.63479515 0.47524429 0.6037866\n",
      " 0.65635524 0.42526856 0.42429911 0.78899554 0.49478626 0.55208913\n",
      " 0.32639266 0.30191699 0.50057655 0.37940687 0.45054619 0.73268458\n",
      " 0.56078244 0.42502641 0.43890196 0.60721755 0.59362527 0.61773587\n",
      " 0.61921526 0.55322472 0.43992104 0.67183876 0.47856914 0.50980528\n",
      " 0.620567   0.45674067 0.41047549 0.45375783 0.53580335 0.53734926\n",
      " 0.58653356 0.46547642 0.26778348 0.63094852 0.52727052 0.31320927\n",
      " 0.45902607 0.42302931 0.5612505  0.53070005 0.57214957 0.51715275\n",
      " 0.41329419 0.28790373 0.35941277 0.68392997 0.68988677 0.38988859\n",
      " 0.65511242 0.52363342 0.52420561 0.56051007 0.38130193 0.47648699\n",
      " 0.67403887 0.52547443 0.64343556 0.45980861 0.39083106 0.69464449\n",
      " 0.48544984 0.48491188 0.4611657  0.59069749 0.4507087  0.5382064\n",
      " 0.51542048 0.68285496 0.50418245 0.5572681  0.41950393 0.56813152\n",
      " 0.36313353 0.61406536 0.51758759 0.5599907  0.48042711 0.57594861\n",
      " 0.37947809 0.44846597 0.3944125  0.44296601 0.64542546 0.48087541\n",
      " 0.64466387 0.52802827 0.45547643 0.40874858 0.41013391 0.63998656\n",
      " 0.6316034  0.67826347 0.55886559 0.51035032 0.44615147 0.43584872\n",
      " 0.68246632 0.57653283 0.53629343 0.49399714 0.57425048 0.42972619\n",
      " 0.72136801 0.30844056 0.55852775 0.53234095 0.47951603 0.90783258\n",
      " 0.62765371 0.55360092 0.42843361 0.63442104 0.49900396 0.67884598\n",
      " 0.5930798  0.67391015 0.48884914 0.44118419 0.46430289 0.64981471\n",
      " 0.39851935 0.45865719 0.48927448 0.64449984 0.50815496 0.55983651\n",
      " 0.29852017 0.51335891 0.44925789 0.4571354  0.54824659 0.70052119\n",
      " 0.33601379 0.3676773  0.46366945 0.48730955 0.6467486  0.5672187\n",
      " 0.6082499  0.61872183 0.54316833 0.57065768 0.43733408 0.54506479\n",
      " 0.44025858 0.42107262 0.52041389 0.49585308 0.53049979 0.57883896\n",
      " 0.26011858 0.75617427 0.63373248 0.9667588  0.50891851 0.65668665\n",
      " 0.49178784 0.5931658  0.61234897 0.48395878 0.73235861 0.64183967\n",
      " 0.68844823 0.55142756 0.46891571 0.71105096 0.68545427 0.50564528\n",
      " 0.59412419 0.46085164 0.57840209 0.36117309 0.66300353 0.44454555\n",
      " 0.         0.43171453 0.61826694 0.36335127 0.49456581 0.57382364\n",
      " 0.62695261 0.55932847 0.44746636 0.30204218 0.30653082 0.69771009\n",
      " 0.7183288  0.56355661 0.63999855 0.48619903 0.7123583  0.58973234\n",
      " 0.64752869 0.53952794 0.46577229 0.65683346 0.66839532 0.53259739\n",
      " 0.53805673 0.5840198  0.67823544 0.56903965 0.41491651 0.51402215\n",
      " 0.43425597 0.61122435 0.57393159 0.44055788 0.45314668 0.68200084\n",
      " 0.55448137 0.16379215 0.50362067 0.5480478  0.52819221 0.49761678\n",
      " 0.35801322 0.45578622 0.55406355 0.56497594 0.57215803 0.57228856\n",
      " 0.61558615 0.4673719  0.71635259 0.74491531 0.52268709 0.33433904\n",
      " 0.53087188 0.47903834 0.52945155 0.60032235 0.81626511 0.59459488\n",
      " 0.36963554 0.54274332 0.39769636 0.43065817 0.60581115 0.42225436\n",
      " 0.53326284 0.4574719  0.71365798 0.58280032 0.36973122 0.62215086\n",
      " 0.31335027 0.77245644 0.32503365 0.33537282 0.52363077 0.61875442\n",
      " 0.53543004 0.62539016 0.53108765 0.46339621 0.53640835 0.55678978\n",
      " 0.2815395  0.32815052 0.46045604 0.40516394 0.48314976 0.3816189\n",
      " 0.67840915 0.4593014  0.5992547  0.63670158 0.50875931 0.29506614\n",
      " 0.39950662 0.56516853 0.50262335 0.51673841 0.75573695 0.50588586\n",
      " 0.7736745  0.60463469 0.52412675 0.7925241  0.28008797 0.57734793\n",
      " 0.51687587 0.59879271 0.46346146 0.74365896 0.87541564 0.58938794\n",
      " 0.51455222 0.54084962 0.29697735 0.63841017 0.30448055 0.43506867\n",
      " 0.44241528 0.57703017 0.55138443 0.69385229 0.44206482 0.70989232\n",
      " 0.37887089 0.56257074 0.5045178  0.52317296 0.43411173 0.56943266\n",
      " 0.63241169 0.61521296 0.6337802  0.34032844 0.50474099 0.51634356\n",
      " 0.52123182 0.44533219 0.72242852 0.39184686 0.36266749 0.49104445\n",
      " 0.39127851 0.44846513 0.5428923  0.56981164 0.68740733 0.54698681\n",
      " 0.47696399 0.54529126 0.49803166 0.51876398 0.58254515 0.64639555\n",
      " 0.41017128 0.67101332 0.64659537 0.54221101 0.43763192 0.46229889\n",
      " 0.58399516 0.3761525  0.59575673 0.47504151 0.44036298 0.48144949\n",
      " 0.54582656 0.50122051 0.55634398 0.63814129 0.5406321  0.52752273\n",
      " 0.44493755 0.37122623 0.49043824 0.38120178 0.86917981 0.43957761\n",
      " 0.42486408 0.50657866 0.61818365 0.72786801 0.35534494 0.57312158\n",
      " 0.54777049 0.49653986 0.57764631 0.53528907 0.46448709 0.54274957\n",
      " 0.55504009 0.55119029 0.96288895 0.52226253 0.53432062 0.36509808\n",
      " 0.67246526 0.52904312 0.51453851 0.52832388 0.48632308 0.58217452\n",
      " 0.513572   0.46855204 0.31113646 0.29415665 0.53894589 0.57065378\n",
      " 0.30708182 0.62432248 0.59057386 0.54117453 0.72185693 0.56106951\n",
      " 0.45357739 0.4859309  0.67419442 0.58991684 0.4978707  0.47701563\n",
      " 0.09098691 0.35657377 0.34783054 0.70974977 0.53974744 0.45110886\n",
      " 0.26442727 0.63443115 0.610352   0.52504947 0.68444785 0.55718214\n",
      " 0.45770428 0.65823671 0.58410157 0.48046679 0.61922415 0.53064183\n",
      " 0.41916102 0.66782751 0.44982133 0.47246969 0.65001271 0.49947639\n",
      " 0.29835616 0.26339922 0.45979487 0.6849052  0.47129515 0.4092265\n",
      " 0.6088439  0.45721408 0.40349986 0.64116015 0.634953   0.45075482\n",
      " 0.50617087 0.5709857  0.42167979 0.59965736 0.5498556  0.41211382\n",
      " 0.35203692 0.54889894 0.60431894 0.56821954 0.54947096 0.35208013\n",
      " 0.53331099 0.64246433 0.5380131  0.65847307 0.38618526 0.4630967\n",
      " 0.53568365 0.72731307 0.5443622  0.55221399 0.55351861 0.66563937\n",
      " 0.54430329 0.51093993 0.60042124 0.64536841 0.43365751 0.69527807\n",
      " 0.45331783 0.4549091  0.50952473 0.49939107 0.51708601 0.50880535\n",
      " 0.60606969 0.45672593 0.44465053 0.50622829 0.7002773  0.47668174\n",
      " 0.55170842 0.56149994 0.52498384 0.56887298 0.36741117 0.67125349\n",
      " 0.56639226 0.49470059 0.54015832 0.57689034 0.34589043 0.57442079\n",
      " 0.45840867 0.28003978 0.4329438  0.47073837 0.39736826 0.49301309\n",
      " 0.80164305 0.67989037 0.38602403 0.33196526 0.57684389 0.57455249\n",
      " 0.55981948 0.36941106 0.60575834 0.49329321 0.77502071 0.50246493\n",
      " 0.47714389 0.46045963 0.43869143 0.55632235 0.46708865 0.46267591\n",
      " 0.75371367 0.52727043 0.5543275  0.56911986 0.49122253 0.67400288\n",
      " 0.66638348 0.55584772 0.46766889 0.61438383 0.50450704 0.60467854\n",
      " 0.38942776 0.59565179 0.42489535 0.54100735 0.58747444 0.50158027\n",
      " 0.54107375 0.58536222 0.54244204 0.47018289 0.60868104 0.55822739\n",
      " 0.73246395 0.55617347 0.51341267 0.47027898 0.47236825 0.47542236\n",
      " 0.50517763 0.30049808 0.58888173 0.53090661 0.67567038 0.59144349\n",
      " 0.39203846 0.40342223 0.64664019 0.44344109 0.54513916 0.51326411\n",
      " 0.68697358 0.49228818 0.34262213 0.47375424 0.50168271 0.44593261\n",
      " 0.43456372 0.5988629  0.42423784 0.46717162 0.48748752 0.44666619\n",
      " 0.4190582  0.72054036 0.74108395 0.39738095 0.4887524  0.42972028\n",
      " 0.47520433 0.6064345  0.42690348 0.54967406 0.35875726 0.44824506\n",
      " 0.61011432 0.49251374 0.37495779 0.32689611 0.47209944 0.60940869\n",
      " 0.43363244 0.46812818 0.46837107 0.38209563 0.5807007  0.42459486\n",
      " 0.39833029 0.41462378 0.5454838  0.81230534 0.59498221 0.47992906\n",
      " 0.27471836 0.6977573  0.32672871 0.39877877 0.62315338 0.31207983\n",
      " 0.52984665 0.70283479 0.31619851 0.49071461 0.59948913 0.3633839\n",
      " 0.63509494 0.48050663 0.48509356 0.58985026 0.63831714 0.38119438\n",
      " 0.51972471 0.6895304  0.48488473 0.57277243 0.58369124 0.45512881\n",
      " 0.24201762 0.66110212 0.56793702 0.48003695 0.35033366 0.68712715\n",
      " 0.50678779 0.87824662 0.55110713 0.46795174 0.40593634 0.46520935\n",
      " 0.44153248 0.61996003 0.46987474 0.60086311 0.4105     0.53906624\n",
      " 0.48236721 0.63594793 0.52383729 0.42488186 0.7990744 ]\n",
      "[0.61203614 0.40871161 0.3789003  0.47734537 0.54919659 0.38018688\n",
      " 0.46658473 0.40314602 0.44520202 0.46831233 0.49939267 0.42925607\n",
      " 0.58487305 0.45694661 0.61224447 0.38167708 0.53196196 0.61004401\n",
      " 0.55099954 0.48215377 0.47066774 0.47816293 0.67059556 0.68709168\n",
      " 0.36514334 0.65412728 0.48327542 0.42178365 0.71036433 0.49421843\n",
      " 0.46792765 0.8291591  0.36179318 0.3823191  0.50842682 0.41729124\n",
      " 0.30859416 0.21157019 0.46596711 0.50555322 0.47394122 0.65563888\n",
      " 0.56731994 0.4474462  0.3725911  0.47960365 0.52273213 0.5640979\n",
      " 0.51180365 0.4118877  0.47843686 0.69232593 0.8094364  0.78567657\n",
      " 0.38602913 0.40366423 0.40614464 0.63549933 0.45497149 0.58657852\n",
      " 0.49188438 0.29612133 0.32593235 0.57290599 0.64975105 0.57577521\n",
      " 0.65433972 0.65203755 0.79846638 0.486433   0.88819696 0.46522275\n",
      " 0.57749345 0.41878074 0.50804793 0.46897068 0.67606651 0.55621557\n",
      " 0.54391064 0.45150812 0.59019016 0.51712609 0.52448215 0.52487575\n",
      " 0.56272707 0.49728338 0.66785557 0.49953368 0.4956363  0.725657\n",
      " 0.55520972 0.39861915 0.44709286 0.51333957 0.62745906 0.52074484\n",
      " 0.45173472 0.36763637 0.52204183 0.62465485 0.50649488 0.52307407\n",
      " 0.59817893 0.18916658 0.64869057 0.70236623 0.5683556  0.47349716\n",
      " 0.45074442 0.47557254 0.69351628 0.75432919 0.56526406 0.5278945\n",
      " 0.56854647 0.38984559 0.66215728 0.58544722 0.50478244 0.434644\n",
      " 0.69164788 0.26136776 0.66605684 0.4478313  0.69589664 0.48502437\n",
      " 0.66737549 0.34806322 0.54133421 0.36056098 0.67063323 0.28137019\n",
      " 0.5976177  0.20006593 0.73460577 0.49461997 0.61751727 0.31465327\n",
      " 0.40508101 0.64443051 0.35622158 0.344983   0.4714309  0.56883245\n",
      " 0.52418421 0.54561824 0.62916075 0.43394592 0.80317102 0.63004175\n",
      " 0.25071397 0.3635412  0.62982805 0.8373044  0.31623401 0.51449653\n",
      " 0.31599274 0.63957498 0.60398685 0.47337776 0.56640738 0.55363211\n",
      " 0.53516388 0.43736483 0.43631236 0.74301565 0.56359833 0.32748944\n",
      " 0.68972782 0.53214289 0.45993202 0.63079694 0.60652798 0.31919289\n",
      " 0.6652979  0.34344045 0.46339884 0.69097783 0.38267506 0.41503254\n",
      " 0.43302915 0.52596898 0.57863418 0.52415532 0.74469426 0.59288613\n",
      " 0.57563905 0.47921095 0.49627339 0.61401734 0.45481918 0.49489676\n",
      " 0.49022276 0.42728036 0.67430934 0.64263394 0.63992976 0.505239\n",
      " 0.45995954 0.60957309 0.43055472 0.4517687  0.52706101 0.52490901\n",
      " 0.49338777 0.51257761 0.25396231 0.58960497 0.54994994 0.49793291\n",
      " 0.60910377 0.4917154  0.22919945 0.42063805 0.39515571 0.73590286\n",
      " 0.70622975 0.54327613 0.50726718 0.69286862 0.46289512 0.38029832\n",
      " 0.57651382 0.52371518 0.71397919 0.55726925 0.64955889 0.36251953\n",
      " 0.63788554 0.33328736 0.62945605 0.69904314 0.69152009 0.46160763\n",
      " 0.52426671 0.52101739 0.68794399 0.61547215 0.48102131 0.50399781\n",
      " 0.55586051 0.56364523 0.63976571 0.49734842 0.6063322 ]\n"
     ]
    }
   ],
   "source": [
    "# print(transformer.get_params())\n",
    "print(y_train)\n",
    "print(y_test)\n",
    "# "
   ]
  },
  {
   "attachments": {},
   "cell_type": "markdown",
   "metadata": {},
   "source": [
    "## Set my model\n",
    "- input_shape は入力データのサイズ。\n",
    "- モデルの定義方法は調べればたくさん出てきますが、例えばここ： https://sinyblog.com/deaplearning/keras_how_to/ \n",
    "- 最後の層の出力は、期待する出力データのサイズ\n",
    "- [model](https://github.com/si-tm/docs-l10n/blob/master/site/ja/tutorials/quickstart/beginner.py)"
   ]
  },
  {
   "cell_type": "code",
   "execution_count": 5,
   "metadata": {
    "scrolled": true
   },
   "outputs": [],
   "source": [
    "def build_model():\n",
    "    \n",
    "    model = tf.keras.models.Sequential([\n",
    "    tf.keras.layers.Flatten(input_shape=(x_train.shape[1],)),\n",
    "    tf.keras.layers.Dense(128, activation='relu'), # units=128 : 出力空間の次元数\n",
    "    tf.keras.layers.Dropout(0.2), # 入力にドロップアウトを適用する rate=0.2 : 入力ユニットをドロップする割合\n",
    "    tf.keras.layers.Dense(1) \n",
    "    ])\n",
    "\n",
    "    optimizer = tf.keras.optimizers.Adam() # optimizers も Adam 以外に色々種類があります。調べてみてください！\n",
    "\n",
    "    model.compile(loss='mse',\n",
    "                optimizer=optimizer,\n",
    "                metrics=['mae', 'mse']) # loss 関数に何を採用するかはどんな問題を解きたいのかによります。\n",
    "                                        #ここでは MSE を採用していますが、他にも色々な選択肢があります。調べてみてください！\n",
    "    return model"
   ]
  },
  {
   "cell_type": "code",
   "execution_count": 6,
   "metadata": {
    "scrolled": true
   },
   "outputs": [
    {
     "name": "stderr",
     "output_type": "stream",
     "text": [
      "2023-02-01 16:17:50.737102: I tensorflow/core/platform/cpu_feature_guard.cc:193] This TensorFlow binary is optimized with oneAPI Deep Neural Network Library (oneDNN) to use the following CPU instructions in performance-critical operations:  AVX2 FMA\n",
      "To enable them in other operations, rebuild TensorFlow with the appropriate compiler flags.\n"
     ]
    }
   ],
   "source": [
    "model = build_model()"
   ]
  },
  {
   "cell_type": "code",
   "execution_count": 7,
   "metadata": {
    "scrolled": true
   },
   "outputs": [
    {
     "name": "stdout",
     "output_type": "stream",
     "text": [
      "Model: \"sequential\"\n",
      "_________________________________________________________________\n",
      " Layer (type)                Output Shape              Param #   \n",
      "=================================================================\n",
      " flatten (Flatten)           (None, 16)                0         \n",
      "                                                                 \n",
      " dense (Dense)               (None, 128)               2176      \n",
      "                                                                 \n",
      " dropout (Dropout)           (None, 128)               0         \n",
      "                                                                 \n",
      " dense_1 (Dense)             (None, 1)                 129       \n",
      "                                                                 \n",
      "=================================================================\n",
      "Total params: 2,305\n",
      "Trainable params: 2,305\n",
      "Non-trainable params: 0\n",
      "_________________________________________________________________\n"
     ]
    }
   ],
   "source": [
    "model.summary()"
   ]
  },
  {
   "cell_type": "code",
   "execution_count": 8,
   "metadata": {
    "scrolled": true
   },
   "outputs": [
    {
     "name": "stdout",
     "output_type": "stream",
     "text": [
      "(10, 16)\n",
      "1/1 [==============================] - 0s 369ms/step\n"
     ]
    }
   ],
   "source": [
    "example_batch = x_train[:10]\n",
    "print(example_batch.shape)\n",
    "example_result = model.predict(example_batch)\n",
    "# example_result"
   ]
  },
  {
   "cell_type": "code",
   "execution_count": 9,
   "metadata": {},
   "outputs": [
    {
     "name": "stdout",
     "output_type": "stream",
     "text": [
      "[[ 0.03459375]\n",
      " [-0.00620563]\n",
      " [ 0.13876484]\n",
      " [ 0.17688182]\n",
      " [-0.24574777]\n",
      " [-0.0875188 ]\n",
      " [ 0.09135392]\n",
      " [ 0.15099734]\n",
      " [ 0.07373782]\n",
      " [-0.08081318]]\n"
     ]
    }
   ],
   "source": [
    "print(example_result)"
   ]
  },
  {
   "cell_type": "code",
   "execution_count": 10,
   "metadata": {
    "scrolled": true
   },
   "outputs": [
    {
     "name": "stdout",
     "output_type": "stream",
     "text": [
      "\n",
      "...................................................................................................."
     ]
    }
   ],
   "source": [
    "# エポックが終わるごとにドットを一つ出力することで進捗を表示\n",
    "class PrintDot(tf.keras.callbacks.Callback):\n",
    "    def on_epoch_end(self, epoch, logs):\n",
    "        if epoch % 100 == 0: print('')\n",
    "        print('.', end='')\n",
    "\n",
    "# early_stop = keras.callbacks.EarlyStopping(monitor='val_loss', patience=10)\n",
    "# EPOCHS = 400 # epoch 数も考慮しよう\n",
    "EPOCHS = 100 # epoch 数も考慮しよう\n",
    "\n",
    "history = model.fit(\n",
    "    x_train, y_train,\n",
    "    epochs=EPOCHS, validation_split = 0.2, verbose=0,\n",
    "    callbacks=[PrintDot()]\n",
    ")"
   ]
  },
  {
   "cell_type": "code",
   "execution_count": 11,
   "metadata": {
    "scrolled": true
   },
   "outputs": [
    {
     "data": {
      "text/html": [
       "<div>\n",
       "<style scoped>\n",
       "    .dataframe tbody tr th:only-of-type {\n",
       "        vertical-align: middle;\n",
       "    }\n",
       "\n",
       "    .dataframe tbody tr th {\n",
       "        vertical-align: top;\n",
       "    }\n",
       "\n",
       "    .dataframe thead th {\n",
       "        text-align: right;\n",
       "    }\n",
       "</style>\n",
       "<table border=\"1\" class=\"dataframe\">\n",
       "  <thead>\n",
       "    <tr style=\"text-align: right;\">\n",
       "      <th></th>\n",
       "      <th>loss</th>\n",
       "      <th>mae</th>\n",
       "      <th>mse</th>\n",
       "      <th>val_loss</th>\n",
       "      <th>val_mae</th>\n",
       "      <th>val_mse</th>\n",
       "      <th>epoch</th>\n",
       "    </tr>\n",
       "  </thead>\n",
       "  <tbody>\n",
       "    <tr>\n",
       "      <th>95</th>\n",
       "      <td>0.009428</td>\n",
       "      <td>0.075075</td>\n",
       "      <td>0.009428</td>\n",
       "      <td>0.017441</td>\n",
       "      <td>0.104663</td>\n",
       "      <td>0.017441</td>\n",
       "      <td>95</td>\n",
       "    </tr>\n",
       "    <tr>\n",
       "      <th>96</th>\n",
       "      <td>0.008869</td>\n",
       "      <td>0.073239</td>\n",
       "      <td>0.008869</td>\n",
       "      <td>0.017420</td>\n",
       "      <td>0.104595</td>\n",
       "      <td>0.017420</td>\n",
       "      <td>96</td>\n",
       "    </tr>\n",
       "    <tr>\n",
       "      <th>97</th>\n",
       "      <td>0.009706</td>\n",
       "      <td>0.077126</td>\n",
       "      <td>0.009706</td>\n",
       "      <td>0.016975</td>\n",
       "      <td>0.103164</td>\n",
       "      <td>0.016975</td>\n",
       "      <td>97</td>\n",
       "    </tr>\n",
       "    <tr>\n",
       "      <th>98</th>\n",
       "      <td>0.009280</td>\n",
       "      <td>0.076247</td>\n",
       "      <td>0.009280</td>\n",
       "      <td>0.016753</td>\n",
       "      <td>0.102716</td>\n",
       "      <td>0.016753</td>\n",
       "      <td>98</td>\n",
       "    </tr>\n",
       "    <tr>\n",
       "      <th>99</th>\n",
       "      <td>0.008758</td>\n",
       "      <td>0.073052</td>\n",
       "      <td>0.008758</td>\n",
       "      <td>0.016778</td>\n",
       "      <td>0.102937</td>\n",
       "      <td>0.016778</td>\n",
       "      <td>99</td>\n",
       "    </tr>\n",
       "  </tbody>\n",
       "</table>\n",
       "</div>"
      ],
      "text/plain": [
       "        loss       mae       mse  val_loss   val_mae   val_mse  epoch\n",
       "95  0.009428  0.075075  0.009428  0.017441  0.104663  0.017441     95\n",
       "96  0.008869  0.073239  0.008869  0.017420  0.104595  0.017420     96\n",
       "97  0.009706  0.077126  0.009706  0.016975  0.103164  0.016975     97\n",
       "98  0.009280  0.076247  0.009280  0.016753  0.102716  0.016753     98\n",
       "99  0.008758  0.073052  0.008758  0.016778  0.102937  0.016778     99"
      ]
     },
     "execution_count": 11,
     "metadata": {},
     "output_type": "execute_result"
    }
   ],
   "source": [
    "hist = pd.DataFrame(history.history)\n",
    "hist['epoch'] = history.epoch\n",
    "hist.tail()"
   ]
  },
  {
   "cell_type": "code",
   "execution_count": 12,
   "metadata": {
    "scrolled": true
   },
   "outputs": [
    {
     "data": {
      "image/png": "[encoded data removed]",
      "text/plain": [
       "<Figure size 432x288 with 1 Axes>"
      ]
     },
     "metadata": {
      "needs_background": "light"
     },
     "output_type": "display_data"
    },
    {
     "data": {
      "image/png": "[encoded data removed]",
      "text/plain": [
       "<Figure size 432x288 with 1 Axes>"
      ]
     },
     "metadata": {
      "needs_background": "light"
     },
     "output_type": "display_data"
    }
   ],
   "source": [
    "def plot_history(history):\n",
    "    hist = pd.DataFrame(history.history)\n",
    "    hist['epoch'] = history.epoch\n",
    "\n",
    "    plt.figure()\n",
    "    plt.xlabel('Epoch')\n",
    "    plt.ylabel('Mean Abs Error [mc]')\n",
    "    plt.plot(hist['epoch'], hist['mae'], label='Train Error')\n",
    "    plt.plot(hist['epoch'], hist['val_mae'], label = 'Val Error')\n",
    "    plt.ylim([0,30])\n",
    "    plt.legend()\n",
    "\n",
    "    plt.figure()\n",
    "    plt.xlabel('Epoch')\n",
    "    plt.ylabel('Mean Square Error [$mc^2$]')\n",
    "    plt.plot(hist['epoch'], hist['mse'], label='Train Error')\n",
    "    plt.plot(hist['epoch'], hist['val_mse'], label = 'Val Error')\n",
    "    plt.ylim([0,3])\n",
    "    plt.legend()\n",
    "    plt.show()\n",
    "\n",
    "\n",
    "plot_history(history)"
   ]
  },
  {
   "cell_type": "code",
   "execution_count": 13,
   "metadata": {
    "scrolled": true
   },
   "outputs": [
    {
     "name": "stdout",
     "output_type": "stream",
     "text": [
      "8/8 [==============================] - 0s 3ms/step\n"
     ]
    },
    {
     "data": {
      "text/plain": [
       "[<matplotlib.lines.Line2D at 0x7fc027071c10>]"
      ]
     },
     "execution_count": 13,
     "metadata": {},
     "output_type": "execute_result"
    },
    {
     "data": {
      "image/png": "[encoded data removed]",
      "text/plain": [
       "<Figure size 432x432 with 1 Axes>"
      ]
     },
     "metadata": {
      "needs_background": "light"
     },
     "output_type": "display_data"
    }
   ],
   "source": [
    "test_predictions = model.predict(x_test).flatten()\n",
    "res = linregress(test_predictions, y_test)\n",
    "\n",
    "plt.figure(figsize=(6,6))\n",
    "plt.scatter(y_test, test_predictions)\n",
    "# plt.xlabel('True Values [mc]')\n",
    "# plt.ylabel('Predictions [mc]')\n",
    "plt.xlabel('True Values of volume ')\n",
    "plt.ylabel('Predictions of volume')\n",
    "plt.axis('equal')\n",
    "plt.axis('square')\n",
    "plt.xlim([-0.5,1])\n",
    "plt.ylim([-0.5,1])\n",
    "_ = plt.plot([-0.5, 1], [-0.5, 1])\n",
    "\n",
    "plt.plot([-0.5, 1], res.intercept + res.slope*np.array([-1, 1]), 'r', label='fitted line')\n",
    "\n",
    "# normalizer 学習前"
   ]
  },
  {
   "cell_type": "code",
   "execution_count": 14,
   "metadata": {},
   "outputs": [
    {
     "name": "stdout",
     "output_type": "stream",
     "text": [
      "31/31 [==============================] - 0s 2ms/step\n"
     ]
    },
    {
     "data": {
      "text/plain": [
       "[<matplotlib.lines.Line2D at 0x7fc026d89ac0>]"
      ]
     },
     "execution_count": 14,
     "metadata": {},
     "output_type": "execute_result"
    },
    {
     "data": {
      "image/png": "[encoded data removed]",
      "text/plain": [
       "<Figure size 432x432 with 1 Axes>"
      ]
     },
     "metadata": {
      "needs_background": "light"
     },
     "output_type": "display_data"
    }
   ],
   "source": [
    "train_predictions = model.predict(x_train).flatten()\n",
    "res = linregress(train_predictions, y_train)\n",
    "\n",
    "plt.figure(figsize=(6,6))\n",
    "plt.scatter(y_train, train_predictions)\n",
    "plt.xlabel('True Values [mc]')\n",
    "plt.ylabel('Predictions [mc]')\n",
    "plt.axis('equal')\n",
    "plt.axis('square')\n",
    "plt.xlim([-1,1])\n",
    "plt.ylim([-1,1])\n",
    "_ = plt.plot([-1, 1], [-1, 1])\n",
    "\n",
    "plt.plot([-1, 1], res.intercept + res.slope*np.array([-1, 1]), 'r', label='fitted line')"
   ]
  },
  {
   "cell_type": "code",
   "execution_count": 15,
   "metadata": {
    "scrolled": true
   },
   "outputs": [
    {
     "name": "stdout",
     "output_type": "stream",
     "text": [
      "INFO:tensorflow:Assets written to: ../saved_model/random_l1_6_model/assets\n"
     ]
    }
   ],
   "source": [
    "# トレーニングした model をどこかで使用したいなら以下のようにモデルを保存する\n",
    "model.save('../saved_model/random_l1_6_model')"
   ]
  },
  {
   "cell_type": "code",
   "execution_count": 16,
   "metadata": {},
   "outputs": [],
   "source": [
    "mse = tf.keras.losses.MeanSquaredError()"
   ]
  },
  {
   "cell_type": "code",
   "execution_count": 17,
   "metadata": {},
   "outputs": [
    {
     "data": {
      "text/plain": [
       "0.020824082"
      ]
     },
     "execution_count": 17,
     "metadata": {},
     "output_type": "execute_result"
    }
   ],
   "source": [
    "mse(y_test,test_predictions).numpy()"
   ]
  },
  {
   "cell_type": "code",
   "execution_count": 18,
   "metadata": {},
   "outputs": [
    {
     "ename": "AttributeError",
     "evalue": "'numpy.ndarray' object has no attribute 'rank'",
     "output_type": "error",
     "traceback": [
      "\u001b[0;31m---------------------------------------------------------------------------\u001b[0m",
      "\u001b[0;31mAttributeError\u001b[0m                            Traceback (most recent call last)",
      "\u001b[1;32mセル21 を /Users/maya/OneDrive - お茶の水女子大学/lab/judgement_system/script/tutorial/tutorial2.ipynb\u001b[0m in \u001b[0;36m<cell line: 1>\u001b[0;34m()\u001b[0m\n\u001b[0;32m----> <a href='vscode-notebook-cell:/Users/maya/OneDrive%20-%20%E3%81%8A%E8%8C%B6%E3%81%AE%E6%B0%B4%E5%A5%B3%E5%AD%90%E5%A4%A7%E5%AD%A6/lab/judgement_system/script/tutorial/tutorial2.ipynb#X26sZmlsZQ%3D%3D?line=0'>1</a>\u001b[0m test_predictions\u001b[39m.\u001b[39;49mrank\n",
      "\u001b[0;31mAttributeError\u001b[0m: 'numpy.ndarray' object has no attribute 'rank'"
     ]
    }
   ],
   "source": [
    "test_predictions.rank"
   ]
  },
  {
   "cell_type": "markdown",
   "metadata": {},
   "source": []
  },
  {
   "cell_type": "code",
   "execution_count": 19,
   "metadata": {},
   "outputs": [
    {
     "data": {
      "text/plain": [
       "array([0.54884195, 0.65218306, 0.5022442 , 0.51378673, 0.5368388 ,\n",
       "       0.54469055, 0.5432773 , 0.51933324, 0.52177024, 0.5614668 ,\n",
       "       0.5593387 , 0.45234552, 0.59461355, 0.50734365, 0.5493723 ,\n",
       "       0.5208081 , 0.5635712 , 0.55117214, 0.5715706 , 0.5011642 ,\n",
       "       0.5106604 , 0.61793756, 0.501809  , 0.6000018 , 0.5117352 ,\n",
       "       0.42999288, 0.5113658 , 0.42552054, 0.62791693, 0.4606923 ,\n",
       "       0.49495596, 0.58407116, 0.54335   , 0.46301913, 0.477862  ,\n",
       "       0.48748514, 0.5497663 , 0.5268698 , 0.53361213, 0.7060776 ,\n",
       "       0.62451065, 0.6592506 , 0.5525093 , 0.5224663 , 0.5511219 ,\n",
       "       0.47766018, 0.49870783, 0.48989812, 0.4317764 , 0.5759    ,\n",
       "       0.5687646 , 0.6395153 , 0.47532752, 0.39851892, 0.50865304,\n",
       "       0.50578606, 0.42954975, 0.5235671 , 0.5581878 , 0.56464803,\n",
       "       0.43385896, 0.4688043 , 0.5434368 , 0.47561532, 0.4762473 ,\n",
       "       0.48626885, 0.48658663, 0.49085104, 0.5148406 , 0.47977358,\n",
       "       0.65616345, 0.5029926 , 0.55106616, 0.50436175, 0.39320016,\n",
       "       0.5784327 , 0.45619786, 0.5286727 , 0.51949036, 0.62091595,\n",
       "       0.4982097 , 0.56627536, 0.503778  , 0.4604248 , 0.4274313 ,\n",
       "       0.6182482 , 0.5121694 , 0.56339884, 0.50501406, 0.46844205,\n",
       "       0.54789   , 0.4897031 , 0.5830672 , 0.35036647, 0.5294334 ,\n",
       "       0.5547582 , 0.5356668 , 0.44852537, 0.52455217, 0.59854764,\n",
       "       0.5124614 , 0.44988835, 0.5528365 , 0.5900874 , 0.5509971 ,\n",
       "       0.4989708 , 0.65588117, 0.51367664, 0.41661555, 0.50588155,\n",
       "       0.52268773, 0.5427135 , 0.54617316, 0.56042343, 0.44015765,\n",
       "       0.40391022, 0.6525736 , 0.47746646, 0.55480266, 0.50746727,\n",
       "       0.46875378, 0.5819281 , 0.49835873, 0.49329743, 0.49512485,\n",
       "       0.7423643 , 0.5127871 , 0.6279059 , 0.47462422, 0.5669839 ,\n",
       "       0.47769022, 0.45568258, 0.5736492 , 0.42158177, 0.42355078,\n",
       "       0.44391668, 0.41662744, 0.5427967 , 0.56859225, 0.4879799 ,\n",
       "       0.71217316, 0.5396886 , 0.53667545, 0.5394627 , 0.49074274,\n",
       "       0.54150665, 0.4509979 , 0.48827732, 0.47160655, 0.43428653,\n",
       "       0.5425079 , 0.61096114, 0.44600886, 0.4371944 , 0.561593  ,\n",
       "       0.4735635 , 0.45946747, 0.5463064 , 0.49580094, 0.5269586 ,\n",
       "       0.5898881 , 0.69701624, 0.49307993, 0.5398087 , 0.60141957,\n",
       "       0.4652932 , 0.5265702 , 0.4779052 , 0.5399381 , 0.6400698 ,\n",
       "       0.6147758 , 0.45591602, 0.57979447, 0.5862479 , 0.48098612,\n",
       "       0.54736316, 0.5443118 , 0.4594038 , 0.4755442 , 0.35988325,\n",
       "       0.55545026, 0.46054703, 0.5258199 , 0.43064162, 0.4961453 ,\n",
       "       0.57975525, 0.47624472, 0.5632058 , 0.6235139 , 0.55118823,\n",
       "       0.49166942, 0.4490881 , 0.6459489 , 0.4837685 , 0.46231693,\n",
       "       0.58706415, 0.49252367, 0.49708515, 0.52122754, 0.54019314,\n",
       "       0.47549874, 0.4845498 , 0.54738706, 0.5399634 , 0.40636688,\n",
       "       0.572793  , 0.49663067, 0.5355332 , 0.37568888, 0.50804484,\n",
       "       0.4863618 , 0.5469492 , 0.3450299 , 0.6591234 , 0.5470046 ,\n",
       "       0.44064328, 0.49676746, 0.4845146 , 0.5538514 , 0.45165604,\n",
       "       0.47829235, 0.47629756, 0.5028508 , 0.62120354, 0.56605107,\n",
       "       0.53718245, 0.5962092 , 0.5061981 , 0.56883734, 0.4194755 ,\n",
       "       0.5008084 , 0.4752121 , 0.52474767, 0.49349648, 0.6510512 ,\n",
       "       0.56492406, 0.5022781 , 0.5429236 , 0.55849767, 0.5722213 ,\n",
       "       0.5745822 , 0.5028066 , 0.45062917, 0.5362851 , 0.36963493],\n",
       "      dtype=float32)"
      ]
     },
     "execution_count": 19,
     "metadata": {},
     "output_type": "execute_result"
    }
   ],
   "source": [
    "test_predictions"
   ]
  },
  {
   "cell_type": "code",
   "execution_count": 20,
   "metadata": {},
   "outputs": [
    {
     "data": {
      "text/plain": [
       "numpy.ndarray"
      ]
     },
     "execution_count": 20,
     "metadata": {},
     "output_type": "execute_result"
    }
   ],
   "source": [
    "type(y_test)"
   ]
  },
  {
   "cell_type": "code",
   "execution_count": null,
   "metadata": {},
   "outputs": [],
   "source": []
  }
 ],
 "metadata": {
  "kernelspec": {
   "display_name": "Python 3.8.3 64-bit",
   "language": "python",
   "name": "python3"
  },
  "language_info": {
   "codemirror_mode": {
    "name": "ipython",
    "version": 3
   },
   "file_extension": ".py",
   "mimetype": "text/x-python",
   "name": "python",
   "nbconvert_exporter": "python",
   "pygments_lexer": "ipython3",
   "version": "3.8.3"
  },
  "vscode": {
   "interpreter": {
    "hash": "0adcc2737ebf6a4a119f135174df96668767fca1ef1112612db5ecadf2b6d608"
   }
  }
 },
 "nbformat": 4,
 "nbformat_minor": 4
}

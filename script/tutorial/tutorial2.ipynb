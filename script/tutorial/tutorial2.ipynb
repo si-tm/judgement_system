{
 "cells": [
  {
   "cell_type": "code",
   "execution_count": 57,
   "metadata": {
    "scrolled": true
   },
   "outputs": [
    {
     "name": "stdout",
     "output_type": "stream",
     "text": [
      "TensorFlow version: 2.9.1\n"
     ]
    }
   ],
   "source": [
    "import tensorflow as tf\n",
    "print(\"TensorFlow version:\", tf.__version__)\n",
    "\n",
    "from tensorflow.keras.layers import Dense\n",
    "from tensorflow.keras import Model\n",
    "from tensorflow.keras import layers\n",
    "from tensorflow import keras"
   ]
  },
  {
   "cell_type": "code",
   "execution_count": 58,
   "metadata": {
    "scrolled": true
   },
   "outputs": [],
   "source": [
    "import os\n",
    "import sys\n",
    "import matplotlib.pyplot as plt\n",
    "import pandas as pd\n",
    "import seaborn as sns\n",
    "import csv\n",
    "import pickle\n",
    "from scipy.stats import linregress\n",
    "from sklearn.model_selection import train_test_split\n",
    "from sklearn.model_selection import train_test_split\n",
    "from datetime import datetime\n",
    "import numpy as np\n",
    "from sklearn.preprocessing import Normalizer"
   ]
  },
  {
   "cell_type": "markdown",
   "metadata": {},
   "source": [
    "## Loading a dataset"
   ]
  },
  {
   "cell_type": "markdown",
   "metadata": {},
   "source": [
    "## Split into train data and test data as dataset\n",
    "- データセットとして使用するデータを取得する。\n",
    "- trainデータとtestデータに分割する。（例えば80%をtrainデータに、20%をtestデータに、など。）\n",
    "- 書き方はデータセットとして使用するデータの type による。もし、numpy の形で持っているならhttps://www.tensorflow.org/tutorials/load_data/numpy?hl=ja が参考になります。"
   ]
  },
  {
   "cell_type": "code",
   "execution_count": 69,
   "metadata": {
    "scrolled": true
   },
   "outputs": [
    {
     "name": "stdout",
     "output_type": "stream",
     "text": [
      "(249, 16)\n",
      "(63, 16)\n",
      "(249,)\n",
      "(63,)\n",
      "249 train examples\n",
      "63 test examples\n",
      "249 train examples\n"
     ]
    }
   ],
   "source": [
    "\n",
    "\n",
    "x_path = '../../data/npy/x_random_l1_4.npy'\n",
    "x_data = np.load(x_path)\n",
    "\n",
    "y_path = '../../data/npy/y_random_l1_4.npy'\n",
    "y_data = np.load(y_path, allow_pickle=True)\n",
    "\n",
    "min_val = y_data.min()\n",
    "max_val = y_data.max()\n",
    "\n",
    "y_data = (y_data - min_val)/(max_val - min_val)\n",
    "\n",
    "# y_data = y_data.reshape(-1, 1)\n",
    "# transformer = Normalizer().fit(y_data)\n",
    "# y_data = transformer.transform(y_data)\n",
    "# y_data = transformer.transform(y_data)\n",
    "\n",
    "x_train, x_test, y_train, y_test = train_test_split(x_data, y_data, test_size=0.2)\n",
    "\n",
    "\n",
    "print(x_train.shape)\n",
    "print(x_test.shape)\n",
    "print(y_train.shape)\n",
    "print(y_test.shape)\n",
    "\n",
    "print(len(x_train), 'train examples')\n",
    "print(len(x_test), 'test examples')\n",
    "print(len(y_train), 'train examples')\n"
   ]
  },
  {
   "cell_type": "code",
   "execution_count": 70,
   "metadata": {},
   "outputs": [
    {
     "name": "stdout",
     "output_type": "stream",
     "text": [
      "[0.54116547 0.71655769 0.48629053 0.47737565 0.51967628 0.39952307\n",
      " 0.50954297 0.56362553 0.46154908 0.32636664 0.17814661 0.03591868\n",
      " 0.79262904 0.69238427 0.40138937 0.14689756 0.28264202 0.4461351\n",
      " 0.17465467 0.45331956 0.63288069 0.46254024 0.0797776  0.\n",
      " 0.46421897 0.39470178 0.31611899 0.46842946 0.22109948 0.50689505\n",
      " 0.53490853 0.48305384 0.48512808 0.33637005 0.25833711 0.45061184\n",
      " 0.64660562 0.55439871 0.58957923 0.43241569 0.46264303 0.58780093\n",
      " 0.57190831 0.41309419 0.52765816 0.31352906 0.46774623 0.41099426\n",
      " 0.38608476 0.69501201 0.47752738 0.35001891 0.6465445  0.40130936\n",
      " 0.33384012 0.39461648 0.62808323 0.5816464  0.43380567 0.48967652\n",
      " 0.30064702 0.14952012 0.63706395 0.6801966  0.53956623 0.63068007\n",
      " 0.67066621 0.43659726 0.522363   0.86383729 0.67774585 0.21714233\n",
      " 0.20845184 0.34698875 0.55002997 0.57126085 0.55186274 0.62373561\n",
      " 0.44165691 0.52607566 0.74186824 1.         0.4053724  0.5674629\n",
      " 0.14313815 0.53102135 0.30467321 0.51408795 0.52528662 0.41920409\n",
      " 0.70718777 0.46783713 0.51446567 0.40897673 0.32082586 0.48978143\n",
      " 0.54407484 0.45595115 0.54332159 0.58126096 0.36889594 0.33805771\n",
      " 0.50228483 0.35472316 0.59273385 0.27302842 0.57720371 0.32017486\n",
      " 0.28030419 0.16390861 0.3201245  0.37535444 0.17525516 0.36946951\n",
      " 0.5947881  0.52119184 0.69634042 0.51213591 0.28922766 0.25537011\n",
      " 0.41178643 0.38088467 0.41791978 0.51748486 0.33963923 0.76703455\n",
      " 0.61427067 0.31254336 0.50197014 0.75185031 0.57860495 0.65575831\n",
      " 0.33334423 0.41668979 0.36982975 0.32946303 0.514907   0.64152587\n",
      " 0.43396797 0.39964253 0.56615705 0.40065716 0.2944848  0.47477208\n",
      " 0.75073484 0.41591975 0.39217659 0.56554246 0.64436557 0.13024255\n",
      " 0.57904266 0.19749303 0.69531573 0.44991819 0.65156989 0.27227219\n",
      " 0.2510659  0.43244904 0.37155905 0.56670112 0.11942071 0.28020718\n",
      " 0.62965348 0.45295643 0.61106162 0.42530842 0.83360572 0.47917247\n",
      " 0.49273347 0.59736592 0.48012628 0.29503671 0.43714421 0.68787119\n",
      " 0.66033601 0.55442217 0.28489293 0.43882389 0.53701271 0.2668972\n",
      " 0.43885258 0.54584455 0.48882271 0.40105853 0.43182453 0.42392038\n",
      " 0.38995765 0.63570258 0.64364175 0.32211356 0.62284356 0.42409016\n",
      " 0.28944034 0.86987799 0.24298418 0.50033058 0.36323828 0.64854206\n",
      " 0.39811484 0.37291412 0.27496284 0.39157462 0.45646676 0.49097554\n",
      " 0.45203689 0.48621123 0.5812248  0.49647087 0.62904242 0.61504049\n",
      " 0.44045274 0.37182416 0.51559566 0.51542558 0.34802793 0.27577425\n",
      " 0.53027965 0.60955709 0.26926658 0.70552494 0.59708214 0.29637807\n",
      " 0.47496704 0.51737273 0.56784739 0.38781914 0.39270877 0.57476427\n",
      " 0.566232   0.70461223 0.73018235 0.5139414  0.38250998 0.33482521\n",
      " 0.44662515 0.65745122 0.46680053 0.75900868 0.71378255 0.66763326\n",
      " 0.39708266 0.73373555 0.48843664 0.5212213  0.45062649 0.56652762\n",
      " 0.59350317 0.52999259 0.82008996]\n",
      "[0.14423802 0.25804052 0.67111114 0.41615487 0.5589198  0.41270973\n",
      " 0.69363437 0.641208   0.349878   0.73037652 0.58931254 0.3417598\n",
      " 0.81725715 0.71434524 0.55810448 0.67385156 0.49883622 0.42584264\n",
      " 0.35486104 0.62081059 0.59051852 0.537205   0.70535087 0.54071333\n",
      " 0.39784947 0.41361368 0.3063771  0.24743132 0.30294098 0.26071651\n",
      " 0.30598363 0.57744213 0.58318387 0.58700029 0.81559797 0.39102674\n",
      " 0.41713305 0.59906325 0.5181955  0.36435689 0.46898236 0.24910517\n",
      " 0.02107217 0.54983175 0.5127956  0.29741325 0.6216084  0.47666476\n",
      " 0.68323361 0.43629582 0.38125259 0.06237683 0.27947709 0.52824447\n",
      " 0.45371855 0.76403984 0.70852766 0.64701082 0.45937437 0.34234764\n",
      " 0.42883022 0.51002948 0.11432642]\n"
     ]
    }
   ],
   "source": [
    "# print(transformer.get_params())\n",
    "print(y_train)\n",
    "print(y_test)\n",
    "# "
   ]
  },
  {
   "attachments": {},
   "cell_type": "markdown",
   "metadata": {},
   "source": [
    "## Set my model\n",
    "- input_shape は入力データのサイズ。\n",
    "- モデルの定義方法は調べればたくさん出てきますが、例えばここ： https://sinyblog.com/deaplearning/keras_how_to/ \n",
    "- 最後の層の出力は、期待する出力データのサイズ\n",
    "- [model](https://github.com/si-tm/docs-l10n/blob/master/site/ja/tutorials/quickstart/beginner.py)"
   ]
  },
  {
   "cell_type": "code",
   "execution_count": 71,
   "metadata": {
    "scrolled": true
   },
   "outputs": [],
   "source": [
    "def build_model():\n",
    "    \n",
    "    model = tf.keras.models.Sequential([\n",
    "    tf.keras.layers.Flatten(input_shape=(x_train.shape[1],)),\n",
    "    tf.keras.layers.Dense(128, activation='relu'), # units=128 : 出力空間の次元数\n",
    "    tf.keras.layers.Dropout(0.2), # 入力にドロップアウトを適用する rate=0.2 : 入力ユニットをドロップする割合\n",
    "    tf.keras.layers.Dense(1) \n",
    "    ])\n",
    "\n",
    "    optimizer = tf.keras.optimizers.Adam() # optimizers も Adam 以外に色々種類があります。調べてみてください！\n",
    "\n",
    "    model.compile(loss='mse',\n",
    "                optimizer=optimizer,\n",
    "                metrics=['mae', 'mse']) # loss 関数に何を採用するかはどんな問題を解きたいのかによります。\n",
    "                                        #ここでは MSE を採用していますが、他にも色々な選択肢があります。調べてみてください！\n",
    "    return model"
   ]
  },
  {
   "cell_type": "code",
   "execution_count": 72,
   "metadata": {
    "scrolled": true
   },
   "outputs": [],
   "source": [
    "model = build_model()"
   ]
  },
  {
   "cell_type": "code",
   "execution_count": 73,
   "metadata": {
    "scrolled": true
   },
   "outputs": [
    {
     "name": "stdout",
     "output_type": "stream",
     "text": [
      "Model: \"sequential_5\"\n",
      "_________________________________________________________________\n",
      " Layer (type)                Output Shape              Param #   \n",
      "=================================================================\n",
      " flatten_5 (Flatten)         (None, 16)                0         \n",
      "                                                                 \n",
      " dense_10 (Dense)            (None, 128)               2176      \n",
      "                                                                 \n",
      " dropout_5 (Dropout)         (None, 128)               0         \n",
      "                                                                 \n",
      " dense_11 (Dense)            (None, 1)                 129       \n",
      "                                                                 \n",
      "=================================================================\n",
      "Total params: 2,305\n",
      "Trainable params: 2,305\n",
      "Non-trainable params: 0\n",
      "_________________________________________________________________\n"
     ]
    }
   ],
   "source": [
    "model.summary()"
   ]
  },
  {
   "cell_type": "code",
   "execution_count": 74,
   "metadata": {
    "scrolled": true
   },
   "outputs": [
    {
     "name": "stdout",
     "output_type": "stream",
     "text": [
      "(10, 16)\n",
      "1/1 [==============================] - 0s 195ms/step\n"
     ]
    }
   ],
   "source": [
    "example_batch = x_train[:10]\n",
    "print(example_batch.shape)\n",
    "example_result = model.predict(example_batch)\n",
    "# example_result"
   ]
  },
  {
   "cell_type": "code",
   "execution_count": 75,
   "metadata": {},
   "outputs": [
    {
     "name": "stdout",
     "output_type": "stream",
     "text": [
      "[[ 0.16612495]\n",
      " [ 0.00667914]\n",
      " [-0.09688127]\n",
      " [ 0.3536811 ]\n",
      " [ 0.07862782]\n",
      " [-0.25917944]\n",
      " [ 0.22498003]\n",
      " [-0.01562058]\n",
      " [-0.09096169]\n",
      " [ 0.33913672]]\n"
     ]
    }
   ],
   "source": [
    "print(example_result)"
   ]
  },
  {
   "cell_type": "code",
   "execution_count": 76,
   "metadata": {
    "scrolled": true
   },
   "outputs": [
    {
     "name": "stdout",
     "output_type": "stream",
     "text": [
      "\n",
      "...................................................................................................."
     ]
    }
   ],
   "source": [
    "# エポックが終わるごとにドットを一つ出力することで進捗を表示\n",
    "class PrintDot(tf.keras.callbacks.Callback):\n",
    "    def on_epoch_end(self, epoch, logs):\n",
    "        if epoch % 100 == 0: print('')\n",
    "        print('.', end='')\n",
    "\n",
    "# early_stop = keras.callbacks.EarlyStopping(monitor='val_loss', patience=10)\n",
    "# EPOCHS = 400 # epoch 数も考慮しよう\n",
    "EPOCHS = 100 # epoch 数も考慮しよう\n",
    "\n",
    "history = model.fit(\n",
    "    x_train, y_train,\n",
    "    epochs=EPOCHS, validation_split = 0.2, verbose=0,\n",
    "    callbacks=[PrintDot()]\n",
    ")"
   ]
  },
  {
   "cell_type": "code",
   "execution_count": 77,
   "metadata": {
    "scrolled": true
   },
   "outputs": [
    {
     "data": {
      "text/html": [
       "<div>\n",
       "<style scoped>\n",
       "    .dataframe tbody tr th:only-of-type {\n",
       "        vertical-align: middle;\n",
       "    }\n",
       "\n",
       "    .dataframe tbody tr th {\n",
       "        vertical-align: top;\n",
       "    }\n",
       "\n",
       "    .dataframe thead th {\n",
       "        text-align: right;\n",
       "    }\n",
       "</style>\n",
       "<table border=\"1\" class=\"dataframe\">\n",
       "  <thead>\n",
       "    <tr style=\"text-align: right;\">\n",
       "      <th></th>\n",
       "      <th>loss</th>\n",
       "      <th>mae</th>\n",
       "      <th>mse</th>\n",
       "      <th>val_loss</th>\n",
       "      <th>val_mae</th>\n",
       "      <th>val_mse</th>\n",
       "      <th>epoch</th>\n",
       "    </tr>\n",
       "  </thead>\n",
       "  <tbody>\n",
       "    <tr>\n",
       "      <th>95</th>\n",
       "      <td>0.011730</td>\n",
       "      <td>0.084561</td>\n",
       "      <td>0.011730</td>\n",
       "      <td>0.030771</td>\n",
       "      <td>0.137077</td>\n",
       "      <td>0.030771</td>\n",
       "      <td>95</td>\n",
       "    </tr>\n",
       "    <tr>\n",
       "      <th>96</th>\n",
       "      <td>0.010530</td>\n",
       "      <td>0.081650</td>\n",
       "      <td>0.010530</td>\n",
       "      <td>0.031002</td>\n",
       "      <td>0.137912</td>\n",
       "      <td>0.031002</td>\n",
       "      <td>96</td>\n",
       "    </tr>\n",
       "    <tr>\n",
       "      <th>97</th>\n",
       "      <td>0.010065</td>\n",
       "      <td>0.079250</td>\n",
       "      <td>0.010065</td>\n",
       "      <td>0.031191</td>\n",
       "      <td>0.137570</td>\n",
       "      <td>0.031191</td>\n",
       "      <td>97</td>\n",
       "    </tr>\n",
       "    <tr>\n",
       "      <th>98</th>\n",
       "      <td>0.012023</td>\n",
       "      <td>0.085175</td>\n",
       "      <td>0.012023</td>\n",
       "      <td>0.031519</td>\n",
       "      <td>0.137745</td>\n",
       "      <td>0.031519</td>\n",
       "      <td>98</td>\n",
       "    </tr>\n",
       "    <tr>\n",
       "      <th>99</th>\n",
       "      <td>0.011794</td>\n",
       "      <td>0.086393</td>\n",
       "      <td>0.011794</td>\n",
       "      <td>0.031474</td>\n",
       "      <td>0.138237</td>\n",
       "      <td>0.031474</td>\n",
       "      <td>99</td>\n",
       "    </tr>\n",
       "  </tbody>\n",
       "</table>\n",
       "</div>"
      ],
      "text/plain": [
       "        loss       mae       mse  val_loss   val_mae   val_mse  epoch\n",
       "95  0.011730  0.084561  0.011730  0.030771  0.137077  0.030771     95\n",
       "96  0.010530  0.081650  0.010530  0.031002  0.137912  0.031002     96\n",
       "97  0.010065  0.079250  0.010065  0.031191  0.137570  0.031191     97\n",
       "98  0.012023  0.085175  0.012023  0.031519  0.137745  0.031519     98\n",
       "99  0.011794  0.086393  0.011794  0.031474  0.138237  0.031474     99"
      ]
     },
     "execution_count": 77,
     "metadata": {},
     "output_type": "execute_result"
    }
   ],
   "source": [
    "hist = pd.DataFrame(history.history)\n",
    "hist['epoch'] = history.epoch\n",
    "hist.tail()"
   ]
  },
  {
   "cell_type": "code",
   "execution_count": 78,
   "metadata": {
    "scrolled": true
   },
   "outputs": [
    {
     "data": {
      "image/png": "[encoded data removed]",
      "text/plain": [
       "<Figure size 432x288 with 1 Axes>"
      ]
     },
     "metadata": {
      "needs_background": "light"
     },
     "output_type": "display_data"
    },
    {
     "data": {
      "image/png": "[encoded data removed]",
      "text/plain": [
       "<Figure size 432x288 with 1 Axes>"
      ]
     },
     "metadata": {
      "needs_background": "light"
     },
     "output_type": "display_data"
    }
   ],
   "source": [
    "def plot_history(history):\n",
    "    hist = pd.DataFrame(history.history)\n",
    "    hist['epoch'] = history.epoch\n",
    "\n",
    "    plt.figure()\n",
    "    plt.xlabel('Epoch')\n",
    "    plt.ylabel('Mean Abs Error [mc]')\n",
    "    plt.plot(hist['epoch'], hist['mae'], label='Train Error')\n",
    "    plt.plot(hist['epoch'], hist['val_mae'], label = 'Val Error')\n",
    "    plt.ylim([0,30])\n",
    "    plt.legend()\n",
    "\n",
    "    plt.figure()\n",
    "    plt.xlabel('Epoch')\n",
    "    plt.ylabel('Mean Square Error [$mc^2$]')\n",
    "    plt.plot(hist['epoch'], hist['mse'], label='Train Error')\n",
    "    plt.plot(hist['epoch'], hist['val_mse'], label = 'Val Error')\n",
    "    plt.ylim([0,3])\n",
    "    plt.legend()\n",
    "    plt.show()\n",
    "\n",
    "\n",
    "plot_history(history)"
   ]
  },
  {
   "cell_type": "code",
   "execution_count": 79,
   "metadata": {
    "scrolled": true
   },
   "outputs": [
    {
     "name": "stdout",
     "output_type": "stream",
     "text": [
      "2/2 [==============================] - 0s 10ms/step\n"
     ]
    },
    {
     "data": {
      "text/plain": [
       "[<matplotlib.lines.Line2D at 0x7fcb0c388700>]"
      ]
     },
     "execution_count": 79,
     "metadata": {},
     "output_type": "execute_result"
    },
    {
     "data": {
      "image/png": "[encoded data removed]",
      "text/plain": [
       "<Figure size 432x432 with 1 Axes>"
      ]
     },
     "metadata": {
      "needs_background": "light"
     },
     "output_type": "display_data"
    }
   ],
   "source": [
    "test_predictions = model.predict(x_test).flatten()\n",
    "res = linregress(test_predictions, y_test)\n",
    "\n",
    "plt.figure(figsize=(6,6))\n",
    "plt.scatter(y_test, test_predictions)\n",
    "# plt.xlabel('True Values [mc]')\n",
    "# plt.ylabel('Predictions [mc]')\n",
    "plt.xlabel('True Values of volume ')\n",
    "plt.ylabel('Predictions of volume')\n",
    "plt.axis('equal')\n",
    "plt.axis('square')\n",
    "plt.xlim([-0.5,1])\n",
    "plt.ylim([-0.5,1])\n",
    "_ = plt.plot([-0.5, 1], [-0.5, 1])\n",
    "\n",
    "plt.plot([-0.5, 1], res.intercept + res.slope*np.array([-1, 1]), 'r', label='fitted line')\n",
    "\n",
    "# normalizer 学習前"
   ]
  },
  {
   "cell_type": "code",
   "execution_count": 39,
   "metadata": {},
   "outputs": [
    {
     "name": "stdout",
     "output_type": "stream",
     "text": [
      "7/7 [==============================] - 0s 3ms/step\n"
     ]
    },
    {
     "data": {
      "text/plain": [
       "[<matplotlib.lines.Line2D at 0x7fcb0a312940>]"
      ]
     },
     "execution_count": 39,
     "metadata": {},
     "output_type": "execute_result"
    },
    {
     "data": {
      "image/png": "[encoded data removed]",
      "text/plain": [
       "<Figure size 432x432 with 1 Axes>"
      ]
     },
     "metadata": {
      "needs_background": "light"
     },
     "output_type": "display_data"
    }
   ],
   "source": [
    "train_predictions = model.predict(x_train).flatten()\n",
    "res = linregress(train_predictions, y_train)\n",
    "\n",
    "plt.figure(figsize=(6,6))\n",
    "plt.scatter(y_train, train_predictions)\n",
    "plt.xlabel('True Values [mc]')\n",
    "plt.ylabel('Predictions [mc]')\n",
    "plt.axis('equal')\n",
    "plt.axis('square')\n",
    "plt.xlim([-1,1])\n",
    "plt.ylim([-1,1])\n",
    "_ = plt.plot([-1, 1], [-1, 1])\n",
    "\n",
    "plt.plot([-1, 1], res.intercept + res.slope*np.array([-1, 1]), 'r', label='fitted line')"
   ]
  },
  {
   "cell_type": "code",
   "execution_count": 85,
   "metadata": {
    "scrolled": true
   },
   "outputs": [
    {
     "name": "stdout",
     "output_type": "stream",
     "text": [
      "INFO:tensorflow:Assets written to: ../saved_model/random_l3_2_model/assets\n"
     ]
    }
   ],
   "source": [
    "# トレーニングした model をどこかで使用したいなら以下のようにモデルを保存する\n",
    "model.save('../saved_model/random_l3_2_model')"
   ]
  },
  {
   "cell_type": "code",
   "execution_count": null,
   "metadata": {},
   "outputs": [],
   "source": []
  }
 ],
 "metadata": {
  "kernelspec": {
   "display_name": "Python 3.8.3 64-bit",
   "language": "python",
   "name": "python3"
  },
  "language_info": {
   "codemirror_mode": {
    "name": "ipython",
    "version": 3
   },
   "file_extension": ".py",
   "mimetype": "text/x-python",
   "name": "python",
   "nbconvert_exporter": "python",
   "pygments_lexer": "ipython3",
   "version": "3.8.3"
  },
  "vscode": {
   "interpreter": {
    "hash": "0adcc2737ebf6a4a119f135174df96668767fca1ef1112612db5ecadf2b6d608"
   }
  }
 },
 "nbformat": 4,
 "nbformat_minor": 4
}
